{
 "cells": [
  {
   "cell_type": "markdown",
   "id": "31657f8d-a926-4894-ad2c-f348427324c8",
   "metadata": {},
   "source": [
    "\"Oops\" stand for Object-Oriented Programming System"
   ]
  },
  {
   "cell_type": "code",
   "execution_count": 1,
   "id": "82b3cef4-1131-4a9c-9ca2-f1b174ae12f6",
   "metadata": {},
   "outputs": [],
   "source": [
    "a = 1\n"
   ]
  },
  {
   "cell_type": "code",
   "execution_count": 2,
   "id": "800c0849-4d89-4495-80e0-1ec60e757c93",
   "metadata": {},
   "outputs": [
    {
     "name": "stdout",
     "output_type": "stream",
     "text": [
      "<class 'int'>\n"
     ]
    }
   ],
   "source": [
    "print(type(a))"
   ]
  },
  {
   "cell_type": "code",
   "execution_count": 1,
   "id": "23ed330e-95ed-449c-9c8c-ff26e87679eb",
   "metadata": {},
   "outputs": [
    {
     "name": "stdout",
     "output_type": "stream",
     "text": [
      "<class 'str'>\n"
     ]
    }
   ],
   "source": [
    "print(type(\"pwskills\"))"
   ]
  },
  {
   "cell_type": "markdown",
   "id": "19ae93f1-e4dd-4833-97a6-bc6a25b29229",
   "metadata": {},
   "source": [
    "Create Class "
   ]
  },
  {
   "cell_type": "code",
   "execution_count": 3,
   "id": "72a6d275-8bb2-4800-be57-147831fa9032",
   "metadata": {},
   "outputs": [],
   "source": [
    "class test:\n",
    "    pass  # empty class"
   ]
  },
  {
   "cell_type": "code",
   "execution_count": 4,
   "id": "729d68c7-26ab-40bb-b5c9-f6b8a86c7f19",
   "metadata": {},
   "outputs": [],
   "source": [
    "a = test()"
   ]
  },
  {
   "cell_type": "code",
   "execution_count": 5,
   "id": "eb4daafe-f3b4-475c-a9e0-cdfb08a81429",
   "metadata": {},
   "outputs": [
    {
     "data": {
      "text/plain": [
       "__main__.test"
      ]
     },
     "execution_count": 5,
     "metadata": {},
     "output_type": "execute_result"
    }
   ],
   "source": [
    "type(a)"
   ]
  },
  {
   "cell_type": "code",
   "execution_count": 6,
   "id": "8778fc76-c95a-4670-b8b5-3cf91d48cb3f",
   "metadata": {},
   "outputs": [
    {
     "name": "stdout",
     "output_type": "stream",
     "text": [
      "<class '__main__.test'>\n"
     ]
    }
   ],
   "source": [
    "print(type(a))"
   ]
  },
  {
   "cell_type": "code",
   "execution_count": 11,
   "id": "7a8e42de-939e-4589-ac57-7326cbdf7e06",
   "metadata": {},
   "outputs": [],
   "source": [
    "class pwskills:\n",
    "\n",
    "    def welcome_msg(self): # self is a first parameter \n",
    "        print(\"welcome to pwskills\")"
   ]
  },
  {
   "cell_type": "code",
   "execution_count": 12,
   "id": "a79e0a42-8827-4df2-b4cc-2b921b38e26e",
   "metadata": {},
   "outputs": [],
   "source": [
    "rohan = pwskills()"
   ]
  },
  {
   "cell_type": "code",
   "execution_count": 13,
   "id": "3bbbd09b-4d1b-4ba5-bc20-95d80a29b1a8",
   "metadata": {},
   "outputs": [
    {
     "name": "stdout",
     "output_type": "stream",
     "text": [
      "<class '__main__.pwskills'>\n"
     ]
    }
   ],
   "source": [
    "print(type(rohan))"
   ]
  },
  {
   "cell_type": "code",
   "execution_count": 14,
   "id": "4361dc3d-7bf0-46d1-b522-e369d12e511b",
   "metadata": {},
   "outputs": [
    {
     "name": "stdout",
     "output_type": "stream",
     "text": [
      "welcome to pwskills\n"
     ]
    }
   ],
   "source": [
    "rohan.welcome_msg()"
   ]
  },
  {
   "cell_type": "code",
   "execution_count": 15,
   "id": "0086c471-1f16-4480-bbb7-2ce4eef28e16",
   "metadata": {},
   "outputs": [],
   "source": [
    "gaurav = pwskills()"
   ]
  },
  {
   "cell_type": "code",
   "execution_count": 16,
   "id": "0403531f-274c-43fc-8575-2818c7769730",
   "metadata": {},
   "outputs": [
    {
     "name": "stdout",
     "output_type": "stream",
     "text": [
      "welcome to pwskills\n"
     ]
    }
   ],
   "source": [
    "gaurav.welcome_msg()"
   ]
  },
  {
   "cell_type": "code",
   "execution_count": 19,
   "id": "114c7dca-2ad0-492a-9e7b-6530a676a305",
   "metadata": {},
   "outputs": [],
   "source": [
    "class pwskills1:  # generatic class\n",
    "\n",
    "    def __init__(self, phone_number, email_id, student_id ): #constructor hai or invalid func\n",
    "        self.phone_number = phone_number\n",
    "        self.email_id = email_id\n",
    "        self.student_id = student_id\n",
    "\n",
    "    def return_student_details(self):\n",
    "       return self.student_id, self.phone_number, self.email_id\n",
    "        "
   ]
  },
  {
   "cell_type": "code",
   "execution_count": 21,
   "id": "a0be6649-d5d3-4840-b6d3-9e92a4c29431",
   "metadata": {},
   "outputs": [],
   "source": [
    "rohan = pwskills1(1233455443, \"rohan@gamil.com\", 101)"
   ]
  },
  {
   "cell_type": "code",
   "execution_count": 22,
   "id": "92273864-1e8f-47b7-8e0f-9dbd307b56ff",
   "metadata": {},
   "outputs": [
    {
     "data": {
      "text/plain": [
       "(101, 1233455443, 'rohan@gamil.com')"
      ]
     },
     "execution_count": 22,
     "metadata": {},
     "output_type": "execute_result"
    }
   ],
   "source": [
    "rohan.return_student_details()"
   ]
  },
  {
   "cell_type": "code",
   "execution_count": 23,
   "id": "5cf340aa-bf91-44af-ba30-b114581d2d42",
   "metadata": {},
   "outputs": [],
   "source": [
    "# self bind kar ta hai variable ko class sai "
   ]
  },
  {
   "cell_type": "code",
   "execution_count": 24,
   "id": "65141b61-55ef-44db-a71a-2303a4d724ae",
   "metadata": {},
   "outputs": [],
   "source": [
    "gaurav = pwskills1(43333333222, \"gaurav@gmail.com\", 102)"
   ]
  },
  {
   "cell_type": "code",
   "execution_count": 25,
   "id": "d1b17431-ea69-4397-bb20-2846a73e9261",
   "metadata": {},
   "outputs": [
    {
     "data": {
      "text/plain": [
       "(102, 43333333222, 'gaurav@gmail.com')"
      ]
     },
     "execution_count": 25,
     "metadata": {},
     "output_type": "execute_result"
    }
   ],
   "source": [
    "gaurav.return_student_details()"
   ]
  },
  {
   "cell_type": "code",
   "execution_count": 27,
   "id": "3d453fef-5cd1-48ec-8a0c-1b2786550d19",
   "metadata": {},
   "outputs": [],
   "source": [
    "class pwskills2:  # generatic class\n",
    "\n",
    "    def __init__(self, phone_number, email_id, student_id ): #constructor hai or invalid func\n",
    "        self.phone_number1 = phone_number\n",
    "        self.email_id1 = email_id\n",
    "        self.student_id1 = student_id\n",
    "\n",
    "    def return_student_details(self):\n",
    "       return self.student_id1, self.phone_number1, self.email_id1\n",
    "        "
   ]
  },
  {
   "cell_type": "code",
   "execution_count": 28,
   "id": "09238991-11f6-462b-b378-fdb9af9a4a97",
   "metadata": {},
   "outputs": [],
   "source": [
    "sudh = pwskills2(2333222233,\"sudh@gamil.com\", 103)"
   ]
  },
  {
   "cell_type": "code",
   "execution_count": 29,
   "id": "8a977db1-823f-45aa-ae46-acf4b545a580",
   "metadata": {},
   "outputs": [
    {
     "data": {
      "text/plain": [
       "(103, 2333222233, 'sudh@gamil.com')"
      ]
     },
     "execution_count": 29,
     "metadata": {},
     "output_type": "execute_result"
    }
   ],
   "source": [
    "sudh.return_student_details()"
   ]
  },
  {
   "cell_type": "code",
   "execution_count": 30,
   "id": "e28b0132-ac90-4e4a-9c8c-4dd04d27fb47",
   "metadata": {},
   "outputs": [
    {
     "ename": "AttributeError",
     "evalue": "'pwskills2' object has no attribute 'phone_number'",
     "output_type": "error",
     "traceback": [
      "\u001b[1;31m---------------------------------------------------------------------------\u001b[0m",
      "\u001b[1;31mAttributeError\u001b[0m                            Traceback (most recent call last)",
      "Cell \u001b[1;32mIn[30], line 1\u001b[0m\n\u001b[1;32m----> 1\u001b[0m sudh\u001b[38;5;241m.\u001b[39mphone_number\n",
      "\u001b[1;31mAttributeError\u001b[0m: 'pwskills2' object has no attribute 'phone_number'"
     ]
    }
   ],
   "source": [
    "sudh.phone_number"
   ]
  },
  {
   "cell_type": "code",
   "execution_count": 31,
   "id": "7a60daa6-c1cb-42d2-ad94-bfe89f3fc062",
   "metadata": {},
   "outputs": [
    {
     "data": {
      "text/plain": [
       "2333222233"
      ]
     },
     "execution_count": 31,
     "metadata": {},
     "output_type": "execute_result"
    }
   ],
   "source": [
    "sudh.phone_number1"
   ]
  },
  {
   "cell_type": "code",
   "execution_count": 32,
   "id": "68cb5b80-cc27-428d-92c5-096127222d8a",
   "metadata": {},
   "outputs": [
    {
     "data": {
      "text/plain": [
       "'sudh@gamil.com'"
      ]
     },
     "execution_count": 32,
     "metadata": {},
     "output_type": "execute_result"
    }
   ],
   "source": [
    "sudh.email_id1"
   ]
  },
  {
   "cell_type": "markdown",
   "id": "5c3450cd-a928-41c5-83c4-636ea0cf354d",
   "metadata": {},
   "source": [
    "# init -> constructor hai "
   ]
  },
  {
   "cell_type": "code",
   "execution_count": 33,
   "id": "6a8c107f-c719-42da-9707-8a4a503a2437",
   "metadata": {},
   "outputs": [],
   "source": [
    " class pwskills3 :  # generatic class\n",
    "\n",
    "    def __init__(sudh, phone_number, email_id, student_id ): #constructor hai or invalid func\n",
    "        sudh.phone_number = phone_number\n",
    "        sudh.email_id = email_id\n",
    "        sudh.student_id = student_id\n",
    "\n",
    "    def return_student_details(self):\n",
    "       return sudh.student_id, sudh.phone_number, sudh.email_id\n",
    "        "
   ]
  },
  {
   "cell_type": "code",
   "execution_count": 34,
   "id": "effbd92d-8b85-48a1-9a06-4fdf128b9a81",
   "metadata": {},
   "outputs": [],
   "source": [
    "rohan  = pwskills3(1111222,\"rohan@gmail.com\", 104)"
   ]
  },
  {
   "cell_type": "code",
   "execution_count": 35,
   "id": "cdd3f08f-5dc4-48ab-b0b6-8bda4f9b45a7",
   "metadata": {},
   "outputs": [
    {
     "data": {
      "text/plain": [
       "1111222"
      ]
     },
     "execution_count": 35,
     "metadata": {},
     "output_type": "execute_result"
    }
   ],
   "source": [
    "rohan.phone_number"
   ]
  },
  {
   "cell_type": "code",
   "execution_count": null,
   "id": "5fdf0259-3ffd-4fe8-ba0f-1dca1c737816",
   "metadata": {},
   "outputs": [],
   "source": []
  }
 ],
 "metadata": {
  "kernelspec": {
   "display_name": "Python 3 (ipykernel)",
   "language": "python",
   "name": "python3"
  },
  "language_info": {
   "codemirror_mode": {
    "name": "ipython",
    "version": 3
   },
   "file_extension": ".py",
   "mimetype": "text/x-python",
   "name": "python",
   "nbconvert_exporter": "python",
   "pygments_lexer": "ipython3",
   "version": "3.12.7"
  }
 },
 "nbformat": 4,
 "nbformat_minor": 5
}
