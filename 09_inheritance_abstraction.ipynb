{
 "cells": [
  {
   "cell_type": "code",
   "execution_count": 1,
   "id": "3df5ad43-2ab1-43ee-99ae-622bf3ae1750",
   "metadata": {},
   "outputs": [],
   "source": [
    "class test:\n",
    "\n",
    "    def test_meth(self):\n",
    "        return \"this is my first class \"\n",
    "        "
   ]
  },
  {
   "cell_type": "code",
   "execution_count": null,
   "id": "2d651225-ae71-4d30-8b4d-ea2ad0528085",
   "metadata": {},
   "outputs": [],
   "source": []
  },
  {
   "cell_type": "code",
   "execution_count": 2,
   "id": "81146d8d-45fc-47b3-b754-9730979ff78f",
   "metadata": {},
   "outputs": [],
   "source": [
    "class child_test(test):\n",
    "    pass"
   ]
  },
  {
   "cell_type": "code",
   "execution_count": 5,
   "id": "bc997c69-7644-4212-a46c-dc5715871bba",
   "metadata": {},
   "outputs": [],
   "source": [
    "child_test_obj= child_test()"
   ]
  },
  {
   "cell_type": "code",
   "execution_count": 6,
   "id": "391657df-af79-4bbe-b52f-1866dac55be5",
   "metadata": {},
   "outputs": [
    {
     "data": {
      "text/plain": [
       "'this is my first class '"
      ]
     },
     "execution_count": 6,
     "metadata": {},
     "output_type": "execute_result"
    }
   ],
   "source": [
    "child_test_obj.test_meth()"
   ]
  },
  {
   "cell_type": "markdown",
   "id": "9dc05902-95b8-4b4b-9e05-f955062b4ca0",
   "metadata": {},
   "source": [
    " multilevel inheritance"
   ]
  },
  {
   "cell_type": "code",
   "execution_count": 18,
   "id": "322bdc76-047b-485a-9734-1e92d2c69268",
   "metadata": {},
   "outputs": [],
   "source": [
    "class class1:\n",
    "\n",
    "    def test_class1(self):\n",
    "        return \"this is a meth from class1\""
   ]
  },
  {
   "cell_type": "code",
   "execution_count": 19,
   "id": "db59d4db-e159-44bf-bb30-13f918fb2f01",
   "metadata": {},
   "outputs": [],
   "source": [
    "class class2(class1):\n",
    "\n",
    "    def test_class2(self):\n",
    "        return \"this is a meth from class2\""
   ]
  },
  {
   "cell_type": "code",
   "execution_count": 20,
   "id": "f1934e48-c44e-456a-bc76-076bc8538e20",
   "metadata": {},
   "outputs": [],
   "source": [
    "class class3 (class2):\n",
    "    pass"
   ]
  },
  {
   "cell_type": "code",
   "execution_count": 21,
   "id": "1056eb96-f844-48a5-82f3-2de9905ed684",
   "metadata": {},
   "outputs": [],
   "source": [
    "obj_class3 = class3()"
   ]
  },
  {
   "cell_type": "code",
   "execution_count": 23,
   "id": "9a984319-cb7b-4a9f-b695-3e18f594d04a",
   "metadata": {},
   "outputs": [
    {
     "data": {
      "text/plain": [
       "'this is a meth from class1'"
      ]
     },
     "execution_count": 23,
     "metadata": {},
     "output_type": "execute_result"
    }
   ],
   "source": [
    "obj_class3.test_class1()"
   ]
  },
  {
   "cell_type": "code",
   "execution_count": 24,
   "id": "a4334b07-8869-4717-be33-3c882551b26e",
   "metadata": {},
   "outputs": [
    {
     "data": {
      "text/plain": [
       "'this is a meth from class2'"
      ]
     },
     "execution_count": 24,
     "metadata": {},
     "output_type": "execute_result"
    }
   ],
   "source": [
    "obj_class3.test_class2()"
   ]
  },
  {
   "cell_type": "code",
   "execution_count": 25,
   "id": "39bb15e0-72cd-433a-82b9-377bd872c57e",
   "metadata": {},
   "outputs": [],
   "source": [
    "# multiple inheritance"
   ]
  },
  {
   "cell_type": "code",
   "execution_count": 31,
   "id": "4693d704-257b-4525-9e70-8e0bc200d15f",
   "metadata": {},
   "outputs": [],
   "source": [
    "class class1:\n",
    "\n",
    "    def test_class1(self):\n",
    "        return \"this is a class1\""
   ]
  },
  {
   "cell_type": "code",
   "execution_count": 32,
   "id": "f8de6acd-a3a6-4d88-94c3-15f7559d4afb",
   "metadata": {},
   "outputs": [],
   "source": [
    "class class2:\n",
    "\n",
    "    def test_class2(self):\n",
    "        return \"this is class2\""
   ]
  },
  {
   "cell_type": "code",
   "execution_count": 33,
   "id": "c9f2f1d3-e982-4a58-8b22-37876e1851dd",
   "metadata": {},
   "outputs": [],
   "source": [
    "class class3(class1, class2):\n",
    "    pass"
   ]
  },
  {
   "cell_type": "code",
   "execution_count": 34,
   "id": "8086c7dc-6a65-4f6a-8516-054bd2822e0a",
   "metadata": {},
   "outputs": [],
   "source": [
    "obj_class3 = class3()"
   ]
  },
  {
   "cell_type": "code",
   "execution_count": 35,
   "id": "6b33986d-6c74-4411-bee0-fdffed8d1617",
   "metadata": {},
   "outputs": [
    {
     "data": {
      "text/plain": [
       "'this is a class1'"
      ]
     },
     "execution_count": 35,
     "metadata": {},
     "output_type": "execute_result"
    }
   ],
   "source": [
    "obj_class3.test_class1()"
   ]
  },
  {
   "cell_type": "code",
   "execution_count": 36,
   "id": "5e78048d-d8d4-4786-a0a2-9da9ab097e5b",
   "metadata": {},
   "outputs": [
    {
     "data": {
      "text/plain": [
       "'this is class2'"
      ]
     },
     "execution_count": 36,
     "metadata": {},
     "output_type": "execute_result"
    }
   ],
   "source": [
    "obj_class3.test_class2()"
   ]
  },
  {
   "cell_type": "markdown",
   "id": "ae14cc15-9ec9-4521-a92d-d34dc8d81ef5",
   "metadata": {},
   "source": [
    "TOPICS -> Abstract class"
   ]
  },
  {
   "cell_type": "code",
   "execution_count": 37,
   "id": "8e0ca84f-1356-4fe3-b1f9-0dc2f3ee2073",
   "metadata": {},
   "outputs": [],
   "source": [
    "import abc\n",
    "class pwskills:\n",
    "\n",
    "    @abc.abstractmethod\n",
    "    def student_details(self):\n",
    "        pass\n",
    "\n",
    "    @abc.abstractmethod\n",
    "    def student_assignment(self):\n",
    "        pass\n",
    "\n",
    "    @abc.abstractmethod\n",
    "    def student_marks(self):\n",
    "        pass\n",
    "\n",
    "   "
   ]
  },
  {
   "cell_type": "code",
   "execution_count": 39,
   "id": "37bab00a-36a3-48d6-9e69-a014484c53bc",
   "metadata": {},
   "outputs": [],
   "source": [
    "class student_details(pwskills):\n",
    "\n",
    "    def student_details(self):\n",
    "        return \"this is a meth for taking students details\"\n",
    "\n",
    "    def student_assignment(self):\n",
    "        return \"this is a meth for taking details for a perticualt student\""
   ]
  },
  {
   "cell_type": "code",
   "execution_count": 40,
   "id": "d0719ad0-ef82-408a-92a6-c5dd1b71e452",
   "metadata": {},
   "outputs": [],
   "source": [
    "class data_science_masters(pwskills):\n",
    "\n",
    "    def student_details(self):\n",
    "        return \"this will rturn a studnet details for data science masters\"\n",
    "\n",
    "    def student_assignment(self):\n",
    "        return \"this will give you a student assignment details for data science masters\""
   ]
  },
  {
   "cell_type": "code",
   "execution_count": 41,
   "id": "19d50604-79fc-475f-9646-87168d746460",
   "metadata": {},
   "outputs": [
    {
     "data": {
      "text/plain": [
       "'this will rturn a studnet details for data science masters'"
      ]
     },
     "execution_count": 41,
     "metadata": {},
     "output_type": "execute_result"
    }
   ],
   "source": [
    "dsm = data_science_masters()\n",
    "dsm.student_details()"
   ]
  },
  {
   "cell_type": "code",
   "execution_count": 42,
   "id": "645d79ac-ee84-48e6-aaca-93543a710ff9",
   "metadata": {},
   "outputs": [
    {
     "data": {
      "text/plain": [
       "'this is a meth for taking students details'"
      ]
     },
     "execution_count": 42,
     "metadata": {},
     "output_type": "execute_result"
    }
   ],
   "source": [
    "sd = student_details()\n",
    "sd.student_details()"
   ]
  },
  {
   "cell_type": "code",
   "execution_count": null,
   "id": "1ad4f613-764d-4f8a-8322-b3accc81b68d",
   "metadata": {},
   "outputs": [],
   "source": []
  }
 ],
 "metadata": {
  "kernelspec": {
   "display_name": "Python 3 (ipykernel)",
   "language": "python",
   "name": "python3"
  },
  "language_info": {
   "codemirror_mode": {
    "name": "ipython",
    "version": 3
   },
   "file_extension": ".py",
   "mimetype": "text/x-python",
   "name": "python",
   "nbconvert_exporter": "python",
   "pygments_lexer": "ipython3",
   "version": "3.12.7"
  }
 },
 "nbformat": 4,
 "nbformat_minor": 5
}
