{
 "cells": [
  {
   "cell_type": "code",
   "execution_count": 1,
   "id": "50a290e5-478e-4fcc-be1f-c687cad8818b",
   "metadata": {},
   "outputs": [
    {
     "name": "stdout",
     "output_type": "stream",
     "text": [
      "this is my print function\n"
     ]
    }
   ],
   "source": [
    "print(\"this is my print function\")"
   ]
  },
  {
   "cell_type": "code",
   "execution_count": 3,
   "id": "4e3e9184-1c41-44ef-9ad8-29b01d1f11d8",
   "metadata": {},
   "outputs": [],
   "source": [
    "l = [23,4,53,43,5,43]"
   ]
  },
  {
   "cell_type": "code",
   "execution_count": 4,
   "id": "8432684c-76f1-43b9-9025-13047cf1252e",
   "metadata": {},
   "outputs": [
    {
     "data": {
      "text/plain": [
       "6"
      ]
     },
     "execution_count": 4,
     "metadata": {},
     "output_type": "execute_result"
    }
   ],
   "source": [
    "len(l) # len function"
   ]
  },
  {
   "cell_type": "code",
   "execution_count": 6,
   "id": "91107938-36a4-4815-895b-15a2614347ce",
   "metadata": {},
   "outputs": [
    {
     "data": {
      "text/plain": [
       "list"
      ]
     },
     "execution_count": 6,
     "metadata": {},
     "output_type": "execute_result"
    }
   ],
   "source": [
    "type(l) # type function"
   ]
  },
  {
   "cell_type": "code",
   "execution_count": 7,
   "id": "28a6ff8a-3579-4ddc-861a-6b0159283744",
   "metadata": {},
   "outputs": [],
   "source": [
    "# python function\n",
    "def test():\n",
    "    pass "
   ]
  },
  {
   "cell_type": "code",
   "execution_count": 8,
   "id": "d617fefd-2d6d-4e3d-aa6c-be82cbab33cb",
   "metadata": {},
   "outputs": [],
   "source": [
    "def test1():\n",
    "    print(\"this is my very very first function\")"
   ]
  },
  {
   "cell_type": "code",
   "execution_count": 9,
   "id": "201f88d6-97a1-4e1d-ba5b-8799449e2f0e",
   "metadata": {},
   "outputs": [
    {
     "name": "stdout",
     "output_type": "stream",
     "text": [
      "this is my very very first function\n"
     ]
    }
   ],
   "source": [
    "test1()"
   ]
  },
  {
   "cell_type": "code",
   "execution_count": 10,
   "id": "3c02bf6f-0135-4c8a-a0ca-e3bda52ca823",
   "metadata": {},
   "outputs": [
    {
     "name": "stdout",
     "output_type": "stream",
     "text": [
      "this is my very very first function\n"
     ]
    }
   ],
   "source": [
    "def test1():\n",
    "    print(\"this is my very very first function\")\n",
    "test1() # function call    "
   ]
  },
  {
   "cell_type": "code",
   "execution_count": 12,
   "id": "93eb4daa-2f37-42cf-bbf2-2d044390dd18",
   "metadata": {},
   "outputs": [
    {
     "name": "stdout",
     "output_type": "stream",
     "text": [
      "this is my very very first function\n"
     ]
    },
    {
     "ename": "TypeError",
     "evalue": "unsupported operand type(s) for +: 'NoneType' and 'str'",
     "output_type": "error",
     "traceback": [
      "\u001b[1;31m---------------------------------------------------------------------------\u001b[0m",
      "\u001b[1;31mTypeError\u001b[0m                                 Traceback (most recent call last)",
      "Cell \u001b[1;32mIn[12], line 1\u001b[0m\n\u001b[1;32m----> 1\u001b[0m test1() \u001b[38;5;241m+\u001b[39m \u001b[38;5;124m\"\u001b[39m\u001b[38;5;124mwasil\u001b[39m\u001b[38;5;124m\"\u001b[39m\n",
      "\u001b[1;31mTypeError\u001b[0m: unsupported operand type(s) for +: 'NoneType' and 'str'"
     ]
    }
   ],
   "source": [
    "test1() + \"wasil\"  # print() return kar ta NoneType"
   ]
  },
  {
   "cell_type": "code",
   "execution_count": 13,
   "id": "359e174a-88b4-40b9-aa1a-0234f78aa339",
   "metadata": {},
   "outputs": [],
   "source": [
    "def test2():\n",
    "    return \"this is my very first return\""
   ]
  },
  {
   "cell_type": "code",
   "execution_count": 14,
   "id": "ec93972a-3d16-4a6c-8571-ea84ff76183c",
   "metadata": {},
   "outputs": [
    {
     "data": {
      "text/plain": [
       "'this is my very first return'"
      ]
     },
     "execution_count": 14,
     "metadata": {},
     "output_type": "execute_result"
    }
   ],
   "source": [
    "test2()\n"
   ]
  },
  {
   "cell_type": "code",
   "execution_count": 15,
   "id": "f2c4beb7-651b-45fe-b932-bd552252ab8d",
   "metadata": {},
   "outputs": [
    {
     "data": {
      "text/plain": [
       "'this is my very first return wasil'"
      ]
     },
     "execution_count": 15,
     "metadata": {},
     "output_type": "execute_result"
    }
   ],
   "source": [
    "test2() + \" wasil\""
   ]
  },
  {
   "cell_type": "code",
   "execution_count": 16,
   "id": "c3166409-d688-4999-a3cf-acdccf3da2f1",
   "metadata": {},
   "outputs": [],
   "source": [
    "def test3():\n",
    "    return \"wasil\", 23,34.543,[1,2,3,4]"
   ]
  },
  {
   "cell_type": "code",
   "execution_count": 18,
   "id": "9952c825-8f14-4c4e-9d50-85f6363f633f",
   "metadata": {},
   "outputs": [
    {
     "data": {
      "text/plain": [
       "('wasil', 23, 34.543, [1, 2, 3, 4])"
      ]
     },
     "execution_count": 18,
     "metadata": {},
     "output_type": "execute_result"
    }
   ],
   "source": [
    "test3() # retur tuple mai"
   ]
  },
  {
   "cell_type": "code",
   "execution_count": 19,
   "id": "d192d0da-d08c-4912-933f-c6a7c7d324c4",
   "metadata": {},
   "outputs": [],
   "source": [
    "a,b,c,d = test3()"
   ]
  },
  {
   "cell_type": "code",
   "execution_count": 20,
   "id": "983fa57c-28ef-4407-9cc2-62b56ad463b7",
   "metadata": {},
   "outputs": [
    {
     "data": {
      "text/plain": [
       "'wasil'"
      ]
     },
     "execution_count": 20,
     "metadata": {},
     "output_type": "execute_result"
    }
   ],
   "source": [
    "a"
   ]
  },
  {
   "cell_type": "code",
   "execution_count": 21,
   "id": "4f9b7747-f810-40aa-90e3-8c3c47e8a540",
   "metadata": {},
   "outputs": [
    {
     "data": {
      "text/plain": [
       "23"
      ]
     },
     "execution_count": 21,
     "metadata": {},
     "output_type": "execute_result"
    }
   ],
   "source": [
    "b"
   ]
  },
  {
   "cell_type": "code",
   "execution_count": 22,
   "id": "94c30490-4b4f-4bc1-b338-8157fed5a070",
   "metadata": {},
   "outputs": [
    {
     "data": {
      "text/plain": [
       "34.543"
      ]
     },
     "execution_count": 22,
     "metadata": {},
     "output_type": "execute_result"
    }
   ],
   "source": [
    "c"
   ]
  },
  {
   "cell_type": "code",
   "execution_count": 23,
   "id": "5cbf0d75-190e-4bf9-997b-0814c23c3fca",
   "metadata": {},
   "outputs": [
    {
     "data": {
      "text/plain": [
       "[1, 2, 3, 4]"
      ]
     },
     "execution_count": 23,
     "metadata": {},
     "output_type": "execute_result"
    }
   ],
   "source": [
    "d"
   ]
  },
  {
   "cell_type": "code",
   "execution_count": 25,
   "id": "581ee5b0-3b96-4bca-a633-ffee74c41f5c",
   "metadata": {},
   "outputs": [],
   "source": [
    "a,b = 1,5 # map ho jai ga "
   ]
  },
  {
   "cell_type": "code",
   "execution_count": 30,
   "id": "16a775bb-a92f-4cfb-9e55-9572330ea1e9",
   "metadata": {},
   "outputs": [],
   "source": [
    "def test4():\n",
    "    a = (5+6)/2\n",
    "    return a"
   ]
  },
  {
   "cell_type": "code",
   "execution_count": 33,
   "id": "f7e70316-9890-4cd8-bd71-46b358e94b2e",
   "metadata": {},
   "outputs": [
    {
     "data": {
      "text/plain": [
       "5.5"
      ]
     },
     "execution_count": 33,
     "metadata": {},
     "output_type": "execute_result"
    }
   ],
   "source": [
    "test4()"
   ]
  },
  {
   "cell_type": "code",
   "execution_count": 35,
   "id": "3f925778-6518-4ca8-8bf6-7539566fac7e",
   "metadata": {},
   "outputs": [],
   "source": [
    "def test5(a,b,c):\n",
    "    d = a+b/c\n",
    "    return d\n",
    "   "
   ]
  },
  {
   "cell_type": "code",
   "execution_count": 36,
   "id": "616fdda1-dccb-4d1a-b652-1e8ea98958f3",
   "metadata": {},
   "outputs": [
    {
     "data": {
      "text/plain": [
       "6.5"
      ]
     },
     "execution_count": 36,
     "metadata": {},
     "output_type": "execute_result"
    }
   ],
   "source": [
    "test5(3,7,2)"
   ]
  },
  {
   "cell_type": "code",
   "execution_count": 37,
   "id": "91750b10-1662-4dd0-a67b-01ef1932f128",
   "metadata": {},
   "outputs": [],
   "source": [
    "def test6(a,b):\n",
    "    return a+b"
   ]
  },
  {
   "cell_type": "code",
   "execution_count": 38,
   "id": "6e3fb47d-df1c-4fcc-8e5a-7123909f0bd2",
   "metadata": {},
   "outputs": [
    {
     "data": {
      "text/plain": [
       "8"
      ]
     },
     "execution_count": 38,
     "metadata": {},
     "output_type": "execute_result"
    }
   ],
   "source": [
    "test6(3,5)"
   ]
  },
  {
   "cell_type": "code",
   "execution_count": 40,
   "id": "1062fd9e-0371-49a8-a63e-ac5b0d7983dc",
   "metadata": {},
   "outputs": [
    {
     "ename": "TypeError",
     "evalue": "unsupported operand type(s) for +: 'int' and 'str'",
     "output_type": "error",
     "traceback": [
      "\u001b[1;31m---------------------------------------------------------------------------\u001b[0m",
      "\u001b[1;31mTypeError\u001b[0m                                 Traceback (most recent call last)",
      "Cell \u001b[1;32mIn[40], line 1\u001b[0m\n\u001b[1;32m----> 1\u001b[0m test6(\u001b[38;5;241m5\u001b[39m,\u001b[38;5;124m\"\u001b[39m\u001b[38;5;124mwasil\u001b[39m\u001b[38;5;124m\"\u001b[39m)\n",
      "Cell \u001b[1;32mIn[37], line 2\u001b[0m, in \u001b[0;36mtest6\u001b[1;34m(a, b)\u001b[0m\n\u001b[0;32m      1\u001b[0m \u001b[38;5;28;01mdef\u001b[39;00m \u001b[38;5;21mtest6\u001b[39m(a,b):\n\u001b[1;32m----> 2\u001b[0m     \u001b[38;5;28;01mreturn\u001b[39;00m a\u001b[38;5;241m+\u001b[39mb\n",
      "\u001b[1;31mTypeError\u001b[0m: unsupported operand type(s) for +: 'int' and 'str'"
     ]
    }
   ],
   "source": [
    "test6(5,\"wasil\")"
   ]
  },
  {
   "cell_type": "code",
   "execution_count": 41,
   "id": "7e76c758-97fc-4843-85b5-db41aeeb9f84",
   "metadata": {},
   "outputs": [
    {
     "ename": "TypeError",
     "evalue": "can only concatenate str (not \"int\") to str",
     "output_type": "error",
     "traceback": [
      "\u001b[1;31m---------------------------------------------------------------------------\u001b[0m",
      "\u001b[1;31mTypeError\u001b[0m                                 Traceback (most recent call last)",
      "Cell \u001b[1;32mIn[41], line 1\u001b[0m\n\u001b[1;32m----> 1\u001b[0m test6(\u001b[38;5;124m\"\u001b[39m\u001b[38;5;124mwasil\u001b[39m\u001b[38;5;124m\"\u001b[39m,\u001b[38;5;241m5\u001b[39m)\n",
      "Cell \u001b[1;32mIn[37], line 2\u001b[0m, in \u001b[0;36mtest6\u001b[1;34m(a, b)\u001b[0m\n\u001b[0;32m      1\u001b[0m \u001b[38;5;28;01mdef\u001b[39;00m \u001b[38;5;21mtest6\u001b[39m(a,b):\n\u001b[1;32m----> 2\u001b[0m     \u001b[38;5;28;01mreturn\u001b[39;00m a\u001b[38;5;241m+\u001b[39mb\n",
      "\u001b[1;31mTypeError\u001b[0m: can only concatenate str (not \"int\") to str"
     ]
    }
   ],
   "source": [
    "test6(\"wasil\",5)"
   ]
  },
  {
   "cell_type": "code",
   "execution_count": 42,
   "id": "2b4adcd8-5e00-4071-80bc-3cae9fd83f2c",
   "metadata": {},
   "outputs": [
    {
     "data": {
      "text/plain": [
       "'wasil pasha'"
      ]
     },
     "execution_count": 42,
     "metadata": {},
     "output_type": "execute_result"
    }
   ],
   "source": [
    "test6(\"wasil\", \" pasha\")"
   ]
  },
  {
   "cell_type": "code",
   "execution_count": 43,
   "id": "926e7ef5-2790-4e10-8d81-6f1333b29e55",
   "metadata": {},
   "outputs": [
    {
     "data": {
      "text/plain": [
       "[1, 2, 3, 4, 5, 6, 7, 8]"
      ]
     },
     "execution_count": 43,
     "metadata": {},
     "output_type": "execute_result"
    }
   ],
   "source": [
    "test6([1,2,3,4,5],[6,7,8])"
   ]
  },
  {
   "cell_type": "code",
   "execution_count": 44,
   "id": "e9112ae5-77f6-40be-9894-0320b8649310",
   "metadata": {},
   "outputs": [],
   "source": [
    "l = [1,2,3,4,\"wasil\", \"sudh\", [1,2,3,4,5]]"
   ]
  },
  {
   "cell_type": "code",
   "execution_count": 45,
   "id": "5f7ba8d1-787a-4f43-8d45-228cac6f3e00",
   "metadata": {},
   "outputs": [],
   "source": [
    "l1 = []\n",
    "for i in l:\n",
    "    if type(i) == int or type(i) == float:\n",
    "        l1.append(i)"
   ]
  },
  {
   "cell_type": "code",
   "execution_count": 46,
   "id": "ba513944-e211-4558-9982-8b9e2d48511e",
   "metadata": {},
   "outputs": [
    {
     "data": {
      "text/plain": [
       "[1, 2, 3, 4]"
      ]
     },
     "execution_count": 46,
     "metadata": {},
     "output_type": "execute_result"
    }
   ],
   "source": [
    "l1"
   ]
  },
  {
   "cell_type": "code",
   "execution_count": 49,
   "id": "b326bc56-3d3e-4ea2-8f25-f0fb534386db",
   "metadata": {},
   "outputs": [],
   "source": [
    "def test7(l):\n",
    "    l1 = []\n",
    "    for i in l:\n",
    "        if type(i) == int or type(i) == float:\n",
    "            l1.append(i)\n",
    "    return l1         "
   ]
  },
  {
   "cell_type": "code",
   "execution_count": 53,
   "id": "8333df03-963d-497d-b48b-faa23de513f3",
   "metadata": {},
   "outputs": [
    {
     "data": {
      "text/plain": [
       "[1, 2, 3, 4]"
      ]
     },
     "execution_count": 53,
     "metadata": {},
     "output_type": "execute_result"
    }
   ],
   "source": [
    "  test7(l)"
   ]
  },
  {
   "cell_type": "code",
   "execution_count": 54,
   "id": "fc7e6df5-4d7b-48b2-afbd-a5fc8b13c8fc",
   "metadata": {},
   "outputs": [
    {
     "data": {
      "text/plain": [
       "[1, 2, 3, 4, 'wasil', 'sudh', [1, 2, 3, 4, 5]]"
      ]
     },
     "execution_count": 54,
     "metadata": {},
     "output_type": "execute_result"
    }
   ],
   "source": [
    "l"
   ]
  },
  {
   "cell_type": "code",
   "execution_count": 55,
   "id": "d527a518-8a00-4d79-bc1b-23f7cd2cbe28",
   "metadata": {},
   "outputs": [],
   "source": [
    "def test8(a):\n",
    "    l1 = []\n",
    "    for i in a:\n",
    "        if type(i) == list:\n",
    "            for j in i:\n",
    "                l1.append(j)\n",
    "        else:\n",
    "            if type(i) == int or type(i) == float:\n",
    "                l1.append(i)\n",
    "    return l1            "
   ]
  },
  {
   "cell_type": "code",
   "execution_count": 56,
   "id": "1186999b-d64b-4d60-9c5a-9a74a50c0451",
   "metadata": {},
   "outputs": [
    {
     "data": {
      "text/plain": [
       "[1, 2, 3, 4, 1, 2, 3, 4, 5]"
      ]
     },
     "execution_count": 56,
     "metadata": {},
     "output_type": "execute_result"
    }
   ],
   "source": [
    "test8(l)"
   ]
  },
  {
   "cell_type": "code",
   "execution_count": 57,
   "id": "e49ad242-7d7e-4984-9b19-5746a586b378",
   "metadata": {},
   "outputs": [
    {
     "data": {
      "text/plain": [
       "[1, 2, 3, 4, 'wasil', 'sudh', [1, 2, 3, 4, 5]]"
      ]
     },
     "execution_count": 57,
     "metadata": {},
     "output_type": "execute_result"
    }
   ],
   "source": [
    "l"
   ]
  },
  {
   "cell_type": "code",
   "execution_count": null,
   "id": "11051add-7d6b-4caa-87d6-6680f8cd3586",
   "metadata": {},
   "outputs": [],
   "source": [
    "test8()"
   ]
  },
  {
   "cell_type": "code",
   "execution_count": 58,
   "id": "30449b1b-a613-4470-8014-ae0251a0d5d1",
   "metadata": {},
   "outputs": [],
   "source": [
    "def test9(a):\n",
    "    \"\"\"this is my function to extract numberic data from list\"\"\"\n",
    "    l1 = []\n",
    "    for i in a:\n",
    "        if type(i) == list:\n",
    "            for j in i:\n",
    "                l1.append(j)\n",
    "        else:\n",
    "            if type(i) == int or type(i) == float:\n",
    "                l1.append(i)\n",
    "    return l1            "
   ]
  },
  {
   "cell_type": "code",
   "execution_count": 60,
   "id": "2cc3c3a2-66ec-40a2-a560-50b49ae79c36",
   "metadata": {},
   "outputs": [
    {
     "data": {
      "text/plain": [
       "[1, 2, 3, 4, 1, 2, 3, 4, 5]"
      ]
     },
     "execution_count": 60,
     "metadata": {},
     "output_type": "execute_result"
    }
   ],
   "source": [
    "test9(l)"
   ]
  },
  {
   "cell_type": "code",
   "execution_count": 61,
   "id": "1cc3a9ce-5b12-4ceb-8571-17c896df8194",
   "metadata": {},
   "outputs": [],
   "source": [
    "\n",
    "def test10(a,b):\n",
    "    return a+b"
   ]
  },
  {
   "cell_type": "code",
   "execution_count": 62,
   "id": "aa57fafa-df24-4bb9-a3a6-13307ec10dca",
   "metadata": {},
   "outputs": [],
   "source": [
    "def test11(*args): # args not keyword\n",
    "    return args"
   ]
  },
  {
   "cell_type": "code",
   "execution_count": 63,
   "id": "609f0edb-a820-42e9-adbd-0366f65c1c47",
   "metadata": {},
   "outputs": [
    {
     "data": {
      "text/plain": [
       "tuple"
      ]
     },
     "execution_count": 63,
     "metadata": {},
     "output_type": "execute_result"
    }
   ],
   "source": [
    "type(test11())"
   ]
  },
  {
   "cell_type": "code",
   "execution_count": 64,
   "id": "3054a87d-2948-4015-b7fe-b0ed64fc56dc",
   "metadata": {},
   "outputs": [
    {
     "data": {
      "text/plain": [
       "(1, 2, 3)"
      ]
     },
     "execution_count": 64,
     "metadata": {},
     "output_type": "execute_result"
    }
   ],
   "source": [
    "test11(1,2,3)"
   ]
  },
  {
   "cell_type": "code",
   "execution_count": 65,
   "id": "b019e2da-8059-4cb7-8fd3-02069621ffaa",
   "metadata": {},
   "outputs": [
    {
     "data": {
      "text/plain": [
       "(1, 2, 3, 'wasil', ' pasha', [1, 2, 3, 4, 5])"
      ]
     },
     "execution_count": 65,
     "metadata": {},
     "output_type": "execute_result"
    }
   ],
   "source": [
    "test11(1,2,3,\"wasil\", \" pasha\", [1,2,3,4,5])"
   ]
  },
  {
   "cell_type": "code",
   "execution_count": 66,
   "id": "749fd5f2-d1a7-4c74-a379-9d4272911121",
   "metadata": {},
   "outputs": [],
   "source": [
    "def test12(*sudh):\n",
    "    return sudh"
   ]
  },
  {
   "cell_type": "code",
   "execution_count": 67,
   "id": "959f25d8-9020-41e5-b661-12646b5b40c2",
   "metadata": {},
   "outputs": [
    {
     "data": {
      "text/plain": [
       "(1, 2, 3, 4)"
      ]
     },
     "execution_count": 67,
     "metadata": {},
     "output_type": "execute_result"
    }
   ],
   "source": [
    "test12(1,2,3,4)"
   ]
  },
  {
   "cell_type": "code",
   "execution_count": 1,
   "id": "7a9710c8-329b-4186-8955-90fa36442337",
   "metadata": {},
   "outputs": [],
   "source": [
    "def test13(*args, a):\n",
    "    return args, a"
   ]
  },
  {
   "cell_type": "code",
   "execution_count": 2,
   "id": "5760a9f8-1826-485f-97cc-03ea19f9acdd",
   "metadata": {},
   "outputs": [
    {
     "data": {
      "text/plain": [
       "((1, 2, 3, 4, 5), 23)"
      ]
     },
     "execution_count": 2,
     "metadata": {},
     "output_type": "execute_result"
    }
   ],
   "source": [
    "test13(1,2,3,4,5, a = 23)"
   ]
  },
  {
   "cell_type": "code",
   "execution_count": 5,
   "id": "e1ecd77a-14ec-49d2-8c25-84f6797e65ef",
   "metadata": {},
   "outputs": [],
   "source": [
    "def test14(c,d,a = 23, b = 1):\n",
    "   return a,b,c,d"
   ]
  },
  {
   "cell_type": "code",
   "execution_count": 6,
   "id": "cf425488-3957-46bc-b75c-a29ff6930fac",
   "metadata": {},
   "outputs": [
    {
     "data": {
      "text/plain": [
       "(23, 1, 3, 4)"
      ]
     },
     "execution_count": 6,
     "metadata": {},
     "output_type": "execute_result"
    }
   ],
   "source": [
    "test14(3,4)"
   ]
  },
  {
   "cell_type": "code",
   "execution_count": 7,
   "id": "d16834bd-f87a-4bfc-879a-9cd2fc7c8230",
   "metadata": {},
   "outputs": [
    {
     "data": {
      "text/plain": [
       "(342, 1, 2, 5)"
      ]
     },
     "execution_count": 7,
     "metadata": {},
     "output_type": "execute_result"
    }
   ],
   "source": [
    "test14(2,5,a = 342)"
   ]
  },
  {
   "cell_type": "code",
   "execution_count": 8,
   "id": "cc69f1b8-7249-48cd-8efc-bb0ff7c3a557",
   "metadata": {},
   "outputs": [],
   "source": [
    "def test15(**kwargs): # dict mai convert \n",
    "    return kwargs"
   ]
  },
  {
   "cell_type": "code",
   "execution_count": 9,
   "id": "7b21ef18-c75e-4659-9524-e5146e476155",
   "metadata": {},
   "outputs": [
    {
     "data": {
      "text/plain": [
       "{}"
      ]
     },
     "execution_count": 9,
     "metadata": {},
     "output_type": "execute_result"
    }
   ],
   "source": [
    "test15()"
   ]
  },
  {
   "cell_type": "code",
   "execution_count": 11,
   "id": "b1b9337e-d61e-4e75-b30d-3b5a9217fbf2",
   "metadata": {},
   "outputs": [
    {
     "data": {
      "text/plain": [
       "dict"
      ]
     },
     "execution_count": 11,
     "metadata": {},
     "output_type": "execute_result"
    }
   ],
   "source": [
    "type(test15())"
   ]
  },
  {
   "cell_type": "code",
   "execution_count": 12,
   "id": "a007be03-453f-4600-b890-7e22c2de6263",
   "metadata": {},
   "outputs": [
    {
     "data": {
      "text/plain": [
       "{'a': [1, 2, 3, 4], 'b': 'wasil', 'c': 234.34}"
      ]
     },
     "execution_count": 12,
     "metadata": {},
     "output_type": "execute_result"
    }
   ],
   "source": [
    "test15(a = [1,2,3,4], b = \"wasil\", c = 234.34)"
   ]
  },
  {
   "cell_type": "markdown",
   "id": "955006b8-61bd-499b-b372-c6b64e60b5c9",
   "metadata": {},
   "source": [
    "# Generator function"
   ]
  },
  {
   "cell_type": "code",
   "execution_count": 1,
   "id": "3c82fb57-060c-4521-b5ad-8d2cc29fceea",
   "metadata": {},
   "outputs": [
    {
     "data": {
      "text/plain": [
       "range(0, 10)"
      ]
     },
     "execution_count": 1,
     "metadata": {},
     "output_type": "execute_result"
    }
   ],
   "source": [
    "range(10)"
   ]
  },
  {
   "cell_type": "code",
   "execution_count": 2,
   "id": "fddaaabd-fd0a-4940-800d-ac4b5a73b594",
   "metadata": {},
   "outputs": [
    {
     "name": "stdout",
     "output_type": "stream",
     "text": [
      "0\n",
      "1\n",
      "2\n",
      "3\n",
      "4\n",
      "5\n",
      "6\n",
      "7\n",
      "8\n",
      "9\n"
     ]
    }
   ],
   "source": [
    "for i in range(10):\n",
    "    print(i)"
   ]
  },
  {
   "cell_type": "code",
   "execution_count": 3,
   "id": "09b5d130-d4da-45e7-9705-49e6965a2346",
   "metadata": {},
   "outputs": [],
   "source": [
    " def test_fib(n):\n",
    "     a,b = 0, 1\n",
    "     for i in range(n):\n",
    "         yield a       # help to create generator function\n",
    "         a,b = b, a+b"
   ]
  },
  {
   "cell_type": "code",
   "execution_count": 4,
   "id": "64a7200e-6016-4f39-be30-62217c93eefb",
   "metadata": {},
   "outputs": [
    {
     "data": {
      "text/plain": [
       "<generator object test_fib at 0x0000028266EA3CA0>"
      ]
     },
     "execution_count": 4,
     "metadata": {},
     "output_type": "execute_result"
    }
   ],
   "source": [
    "test_fib(10)"
   ]
  },
  {
   "cell_type": "code",
   "execution_count": 5,
   "id": "ba6ae0b0-c52f-4ff4-b6c5-ccd3e80a26c8",
   "metadata": {},
   "outputs": [
    {
     "name": "stdout",
     "output_type": "stream",
     "text": [
      "0\n",
      "1\n",
      "1\n",
      "2\n",
      "3\n",
      "5\n",
      "8\n",
      "13\n",
      "21\n",
      "34\n"
     ]
    }
   ],
   "source": [
    "for i in test_fib(10):\n",
    "    print(i)"
   ]
  },
  {
   "cell_type": "code",
   "execution_count": 6,
   "id": "8ee3a304-7776-4c54-915b-6b2146ae1198",
   "metadata": {},
   "outputs": [],
   "source": [
    "def test_fob1():\n",
    "    a,b = 0,1\n",
    "    while True:\n",
    "        yield a\n",
    "        a,b = b, a+b"
   ]
  },
  {
   "cell_type": "code",
   "execution_count": 7,
   "id": "03a4344c-01a9-44c8-b001-fb2e205aa80d",
   "metadata": {},
   "outputs": [],
   "source": [
    "fib = test_fob1()"
   ]
  },
  {
   "cell_type": "code",
   "execution_count": 8,
   "id": "018bb4d9-804b-49d2-87d6-9355bcb5f07a",
   "metadata": {},
   "outputs": [
    {
     "name": "stdout",
     "output_type": "stream",
     "text": [
      "0\n",
      "1\n",
      "1\n",
      "2\n",
      "3\n",
      "5\n",
      "8\n",
      "13\n",
      "21\n",
      "34\n"
     ]
    }
   ],
   "source": [
    "for i in range(10):\n",
    "    print(next(fib))  # next() -> iterator mean next next ja tai hai"
   ]
  },
  {
   "cell_type": "code",
   "execution_count": 9,
   "id": "0393ba69-dffd-495e-86bd-23ad2412f019",
   "metadata": {},
   "outputs": [],
   "source": [
    "s = \"wasil\""
   ]
  },
  {
   "cell_type": "code",
   "execution_count": 10,
   "id": "43fce8e0-c90b-496b-85d8-b172c7ce4a9c",
   "metadata": {},
   "outputs": [],
   "source": [
    "s1 = iter(s) # string iterator ban gai hai"
   ]
  },
  {
   "cell_type": "code",
   "execution_count": 13,
   "id": "946da651-2bc9-4cd0-8338-0ef363922c29",
   "metadata": {},
   "outputs": [
    {
     "data": {
      "text/plain": [
       "str_ascii_iterator"
      ]
     },
     "execution_count": 13,
     "metadata": {},
     "output_type": "execute_result"
    }
   ],
   "source": [
    "type(s1)"
   ]
  },
  {
   "cell_type": "code",
   "execution_count": 11,
   "id": "a0da7147-6c2a-403c-9e34-8ad8f03b0bc6",
   "metadata": {},
   "outputs": [
    {
     "data": {
      "text/plain": [
       "'w'"
      ]
     },
     "execution_count": 11,
     "metadata": {},
     "output_type": "execute_result"
    }
   ],
   "source": [
    "next(s1)"
   ]
  },
  {
   "cell_type": "code",
   "execution_count": 12,
   "id": "22d8d4a4-1ba7-4f45-9066-7ad49b012080",
   "metadata": {},
   "outputs": [
    {
     "data": {
      "text/plain": [
       "'a'"
      ]
     },
     "execution_count": 12,
     "metadata": {},
     "output_type": "execute_result"
    }
   ],
   "source": [
    "next(s1)"
   ]
  },
  {
   "cell_type": "code",
   "execution_count": 14,
   "id": "e60c1e8a-9386-4a6d-ae19-d243f05930f6",
   "metadata": {},
   "outputs": [
    {
     "ename": "TypeError",
     "evalue": "'int' object is not iterable",
     "output_type": "error",
     "traceback": [
      "\u001b[1;31m---------------------------------------------------------------------------\u001b[0m",
      "\u001b[1;31mTypeError\u001b[0m                                 Traceback (most recent call last)",
      "Cell \u001b[1;32mIn[14], line 1\u001b[0m\n\u001b[1;32m----> 1\u001b[0m \u001b[38;5;28miter\u001b[39m(\u001b[38;5;241m45\u001b[39m)\n",
      "\u001b[1;31mTypeError\u001b[0m: 'int' object is not iterable"
     ]
    }
   ],
   "source": [
    "iter(45)"
   ]
  },
  {
   "cell_type": "code",
   "execution_count": 15,
   "id": "b1e8598b-ed4e-4742-a568-6e76dd4713d6",
   "metadata": {},
   "outputs": [],
   "source": [
    "def count_test(n):\n",
    "    count = 1\n",
    "    while count < n:\n",
    "        yield count\n",
    "        count += 1"
   ]
  },
  {
   "cell_type": "code",
   "execution_count": 16,
   "id": "0adac877-eb97-4a78-aeb4-6c71b8207c13",
   "metadata": {},
   "outputs": [],
   "source": [
    "c = count_test(5)"
   ]
  },
  {
   "cell_type": "code",
   "execution_count": 18,
   "id": "017ba4ca-cffc-4020-804a-e93d160a7e33",
   "metadata": {},
   "outputs": [
    {
     "data": {
      "text/plain": [
       "generator"
      ]
     },
     "execution_count": 18,
     "metadata": {},
     "output_type": "execute_result"
    }
   ],
   "source": [
    "type(c)"
   ]
  },
  {
   "cell_type": "code",
   "execution_count": 17,
   "id": "d9296712-b66b-49da-a460-28306bdc63ef",
   "metadata": {},
   "outputs": [
    {
     "name": "stdout",
     "output_type": "stream",
     "text": [
      "1\n",
      "2\n",
      "3\n",
      "4\n"
     ]
    }
   ],
   "source": [
    "for i in c:\n",
    "    print(i)"
   ]
  },
  {
   "cell_type": "markdown",
   "id": "b1a31c70-642d-494a-858e-04b89b120055",
   "metadata": {},
   "source": [
    "# lambda function"
   ]
  },
  {
   "cell_type": "code",
   "execution_count": 19,
   "id": "0c75e31c-4f14-4d7a-af9b-f87470aa72e0",
   "metadata": {},
   "outputs": [],
   "source": [
    "n = 3\n",
    "p = 2"
   ]
  },
  {
   "cell_type": "code",
   "execution_count": 20,
   "id": "032cb06a-5830-4ffc-925b-3e68bd3bcc57",
   "metadata": {},
   "outputs": [],
   "source": [
    "def test(n,p):\n",
    "    return n**p"
   ]
  },
  {
   "cell_type": "code",
   "execution_count": 21,
   "id": "8bd88226-c44f-47ef-b4e4-efdf079a2a9d",
   "metadata": {},
   "outputs": [
    {
     "data": {
      "text/plain": [
       "9"
      ]
     },
     "execution_count": 21,
     "metadata": {},
     "output_type": "execute_result"
    }
   ],
   "source": [
    "test(3,2)"
   ]
  },
  {
   "cell_type": "code",
   "execution_count": 23,
   "id": "b6e25f54-f4e6-4adf-8878-c22267a399f2",
   "metadata": {},
   "outputs": [],
   "source": [
    "a = lambda n, p : n**p"
   ]
  },
  {
   "cell_type": "code",
   "execution_count": 24,
   "id": "8fa5c369-98d6-4448-9758-1ca24614bf33",
   "metadata": {},
   "outputs": [
    {
     "data": {
      "text/plain": [
       "9"
      ]
     },
     "execution_count": 24,
     "metadata": {},
     "output_type": "execute_result"
    }
   ],
   "source": [
    "a(3,2)"
   ]
  },
  {
   "cell_type": "code",
   "execution_count": 25,
   "id": "52923ed9-3d56-4cdc-9c18-2ba131ed06f6",
   "metadata": {},
   "outputs": [],
   "source": [
    "add = lambda x,y : x+y"
   ]
  },
  {
   "cell_type": "code",
   "execution_count": 26,
   "id": "f8917810-380d-4057-ab87-75d4b12d8341",
   "metadata": {},
   "outputs": [
    {
     "data": {
      "text/plain": [
       "9"
      ]
     },
     "execution_count": 26,
     "metadata": {},
     "output_type": "execute_result"
    }
   ],
   "source": [
    "add(4,5)"
   ]
  },
  {
   "cell_type": "code",
   "execution_count": 27,
   "id": "bf91c970-c418-4177-803b-c605ae8c917e",
   "metadata": {},
   "outputs": [],
   "source": [
    "c_to_f = lambda c: (9/5)*c + 32"
   ]
  },
  {
   "cell_type": "code",
   "execution_count": 28,
   "id": "3ceb1766-d893-4cc8-b231-baa001b7cb48",
   "metadata": {},
   "outputs": [
    {
     "data": {
      "text/plain": [
       "113.0"
      ]
     },
     "execution_count": 28,
     "metadata": {},
     "output_type": "execute_result"
    }
   ],
   "source": [
    "c_to_f(45)"
   ]
  },
  {
   "cell_type": "code",
   "execution_count": 29,
   "id": "018029f9-55cc-4a25-822e-3e32566e4ed3",
   "metadata": {},
   "outputs": [],
   "source": [
    "finding_max = lambda x,y : x if x>y else y"
   ]
  },
  {
   "cell_type": "code",
   "execution_count": 30,
   "id": "0947f931-1db2-4634-a088-fc9116b2206d",
   "metadata": {},
   "outputs": [
    {
     "data": {
      "text/plain": [
       "7"
      ]
     },
     "execution_count": 30,
     "metadata": {},
     "output_type": "execute_result"
    }
   ],
   "source": [
    "finding_max(4,7)"
   ]
  },
  {
   "cell_type": "code",
   "execution_count": 31,
   "id": "cca7bac4-25c6-46f6-9624-4c6b0ac6e31d",
   "metadata": {},
   "outputs": [
    {
     "data": {
      "text/plain": [
       "5"
      ]
     },
     "execution_count": 31,
     "metadata": {},
     "output_type": "execute_result"
    }
   ],
   "source": [
    "finding_max(5,3)"
   ]
  },
  {
   "cell_type": "code",
   "execution_count": 32,
   "id": "17090dc7-0c95-44d7-8559-68f85b78fbb0",
   "metadata": {},
   "outputs": [],
   "source": [
    "s = \"pwskills\""
   ]
  },
  {
   "cell_type": "code",
   "execution_count": 33,
   "id": "93573122-e781-4974-bee3-71dc458aeafe",
   "metadata": {},
   "outputs": [],
   "source": [
    "find_len = lambda s : len(s)"
   ]
  },
  {
   "cell_type": "code",
   "execution_count": 34,
   "id": "7dd2cc0a-6829-4795-a422-c10a4fa01a70",
   "metadata": {},
   "outputs": [
    {
     "data": {
      "text/plain": [
       "8"
      ]
     },
     "execution_count": 34,
     "metadata": {},
     "output_type": "execute_result"
    }
   ],
   "source": [
    "find_len(s)"
   ]
  },
  {
   "cell_type": "code",
   "execution_count": null,
   "id": "98b92cbe-6ff2-4067-b1de-685e204efe0a",
   "metadata": {},
   "outputs": [],
   "source": []
  }
 ],
 "metadata": {
  "kernelspec": {
   "display_name": "Python 3 (ipykernel)",
   "language": "python",
   "name": "python3"
  },
  "language_info": {
   "codemirror_mode": {
    "name": "ipython",
    "version": 3
   },
   "file_extension": ".py",
   "mimetype": "text/x-python",
   "name": "python",
   "nbconvert_exporter": "python",
   "pygments_lexer": "ipython3",
   "version": "3.12.7"
  }
 },
 "nbformat": 4,
 "nbformat_minor": 5
}
