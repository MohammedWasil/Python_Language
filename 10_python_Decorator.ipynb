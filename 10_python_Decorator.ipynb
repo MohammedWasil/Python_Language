{
 "cells": [
  {
   "cell_type": "code",
   "execution_count": 3,
   "id": "53a661ca-bb08-49b3-a11b-ac9e2fa6cf18",
   "metadata": {},
   "outputs": [],
   "source": [
    "def test():\n",
    "    print(\"this is the start of my fun\")\n",
    "    print(\"this is my fun to test\")\n",
    "    print(3+5)\n",
    "    print(\"this is the end of my fun\")"
   ]
  },
  {
   "cell_type": "code",
   "execution_count": 4,
   "id": "36b33c57-bbbf-4b30-9547-de99ef396636",
   "metadata": {},
   "outputs": [
    {
     "name": "stdout",
     "output_type": "stream",
     "text": [
      "this is the start of my fun\n",
      "this is my fun to test\n",
      "8\n",
      "this is the end of my fun\n"
     ]
    }
   ],
   "source": [
    "test()"
   ]
  },
  {
   "cell_type": "code",
   "execution_count": 5,
   "id": "b9a257a5-23c8-4f20-b288-72f48bdf9c8f",
   "metadata": {},
   "outputs": [],
   "source": [
    "def deco(func):\n",
    "    def inner_dec():\n",
    "        print(\"this is the start of my fun\")\n",
    "        func()\n",
    "        print(\"this is the end of my fun\")\n",
    "    return inner_dec    \n",
    "        "
   ]
  },
  {
   "cell_type": "code",
   "execution_count": 6,
   "id": "a2ece96a-e739-455c-8cdb-4ac5ec7d4cc4",
   "metadata": {},
   "outputs": [],
   "source": [
    "@deco\n",
    "def test1():\n",
    "    print(5+6)"
   ]
  },
  {
   "cell_type": "code",
   "execution_count": 7,
   "id": "2f68bb62-c92c-438d-803c-fb889d9b0013",
   "metadata": {},
   "outputs": [
    {
     "name": "stdout",
     "output_type": "stream",
     "text": [
      "this is the start of my fun\n",
      "11\n",
      "this is the end of my fun\n"
     ]
    }
   ],
   "source": [
    "test1()"
   ]
  },
  {
   "cell_type": "code",
   "execution_count": 13,
   "id": "174eaba5-49c2-4a22-ac11-880747347f35",
   "metadata": {},
   "outputs": [],
   "source": [
    "import time\n",
    "\n",
    "def timer_test(func):\n",
    "    def timer_test_inner():\n",
    "        start = time.time()\n",
    "        func()\n",
    "        end = time.time()\n",
    "        print(end - start)\n",
    "    return timer_test_inner"
   ]
  },
  {
   "cell_type": "code",
   "execution_count": 14,
   "id": "e8298811-b25f-4da6-bcbd-2131ab7acf73",
   "metadata": {},
   "outputs": [],
   "source": [
    "def test2():\n",
    "    print(34+54)"
   ]
  },
  {
   "cell_type": "code",
   "execution_count": 15,
   "id": "b0984215-5953-4a85-8740-ac970f40a464",
   "metadata": {},
   "outputs": [
    {
     "name": "stdout",
     "output_type": "stream",
     "text": [
      "88\n"
     ]
    }
   ],
   "source": [
    "test2()"
   ]
  },
  {
   "cell_type": "code",
   "execution_count": 16,
   "id": "f7e6c5e8-ba95-4089-afc8-0325da919182",
   "metadata": {},
   "outputs": [],
   "source": [
    "@timer_test\n",
    "def test2():\n",
    "    print(34+5)"
   ]
  },
  {
   "cell_type": "code",
   "execution_count": 17,
   "id": "4ab533db-b297-41de-a63e-4a7637a42eb6",
   "metadata": {},
   "outputs": [
    {
     "name": "stdout",
     "output_type": "stream",
     "text": [
      "39\n",
      "0.0\n"
     ]
    }
   ],
   "source": [
    "test2()"
   ]
  },
  {
   "cell_type": "code",
   "execution_count": 20,
   "id": "7fa9dde1-f430-4e3b-b9c9-bb17ff3267b2",
   "metadata": {},
   "outputs": [
    {
     "ename": "SyntaxError",
     "evalue": "invalid syntax (863261840.py, line 2)",
     "output_type": "error",
     "traceback": [
      "\u001b[1;36m  Cell \u001b[1;32mIn[20], line 2\u001b[1;36m\u001b[0m\n\u001b[1;33m    for(i in range(10000)):\u001b[0m\n\u001b[1;37m                          ^\u001b[0m\n\u001b[1;31mSyntaxError\u001b[0m\u001b[1;31m:\u001b[0m invalid syntax\n"
     ]
    }
   ],
   "source": [
    "def test():\n",
    "    for(i in range(10000)):\n",
    "    pass"
   ]
  },
  {
   "cell_type": "markdown",
   "id": "7b0cc2cb-0d5a-4b95-b096-4e677f62d1b4",
   "metadata": {},
   "source": [
    "CLASS METHODS "
   ]
  },
  {
   "cell_type": "code",
   "execution_count": 22,
   "id": "72064162-1447-4da6-8446-c6f024d37a62",
   "metadata": {},
   "outputs": [],
   "source": [
    "class pwskills:\n",
    "\n",
    "   def __init__(self, name, email):\n",
    "       self.name = name\n",
    "       self.email = email\n",
    "\n",
    "   def student_details(self):\n",
    "       print(self.name, self.email)\n"
   ]
  },
  {
   "cell_type": "code",
   "execution_count": 23,
   "id": "108841bb-a199-4dc6-851d-585bae950aa6",
   "metadata": {},
   "outputs": [],
   "source": [
    "pw = pwskills(\"waisl\", \"waisl@gmail.com\")"
   ]
  },
  {
   "cell_type": "code",
   "execution_count": 24,
   "id": "1789e263-9d97-4e31-925c-45f9fc296bba",
   "metadata": {},
   "outputs": [
    {
     "data": {
      "text/plain": [
       "'waisl'"
      ]
     },
     "execution_count": 24,
     "metadata": {},
     "output_type": "execute_result"
    }
   ],
   "source": [
    "pw.name"
   ]
  },
  {
   "cell_type": "code",
   "execution_count": 25,
   "id": "cb8a94ce-d90b-414a-97a2-d6f723948cc9",
   "metadata": {},
   "outputs": [
    {
     "data": {
      "text/plain": [
       "'waisl@gmail.com'"
      ]
     },
     "execution_count": 25,
     "metadata": {},
     "output_type": "execute_result"
    }
   ],
   "source": [
    "pw.email"
   ]
  },
  {
   "cell_type": "code",
   "execution_count": 26,
   "id": "58613e71-a267-47e7-ace0-beb9f19d1c68",
   "metadata": {},
   "outputs": [
    {
     "name": "stdout",
     "output_type": "stream",
     "text": [
      "waisl waisl@gmail.com\n"
     ]
    }
   ],
   "source": [
    "pw.student_details()"
   ]
  },
  {
   "cell_type": "code",
   "execution_count": 35,
   "id": "f557df98-699c-4d7d-af8c-5990805a77b7",
   "metadata": {},
   "outputs": [],
   "source": [
    "class pwskills1 :\n",
    "\n",
    "   def __init__(self, name, email):\n",
    "       self.name = name\n",
    "       self.email = email\n",
    "\n",
    "   @classmethod       \n",
    "   def details(cls, name, email):\n",
    "        return cls(name, email)\n",
    "        \n",
    "   def student_details(self):\n",
    "       print(self.name, self.email)\n"
   ]
  },
  {
   "cell_type": "code",
   "execution_count": 39,
   "id": "e376f8e0-bf4d-4c9f-a187-6de942561b04",
   "metadata": {},
   "outputs": [],
   "source": [
    "pw1 = pwskills1.details(\"sudh\", \"sudh@gmail.com\")"
   ]
  },
  {
   "cell_type": "code",
   "execution_count": 40,
   "id": "b11d8d3f-5f83-43c4-849c-71f1a7564009",
   "metadata": {},
   "outputs": [
    {
     "data": {
      "text/plain": [
       "'sudh'"
      ]
     },
     "execution_count": 40,
     "metadata": {},
     "output_type": "execute_result"
    }
   ],
   "source": [
    "pw1.name"
   ]
  },
  {
   "cell_type": "code",
   "execution_count": 41,
   "id": "139acbea-f134-485f-aaeb-23f9988fa91e",
   "metadata": {},
   "outputs": [
    {
     "data": {
      "text/plain": [
       "'sudh@gmail.com'"
      ]
     },
     "execution_count": 41,
     "metadata": {},
     "output_type": "execute_result"
    }
   ],
   "source": [
    "pw1.email"
   ]
  },
  {
   "cell_type": "code",
   "execution_count": 42,
   "id": "e679c203-1876-4963-a995-92bf8f63e8d0",
   "metadata": {},
   "outputs": [
    {
     "name": "stdout",
     "output_type": "stream",
     "text": [
      "sudh sudh@gmail.com\n"
     ]
    }
   ],
   "source": [
    "pw1.student_details()"
   ]
  },
  {
   "cell_type": "code",
   "execution_count": 59,
   "id": "24dadaca-67ad-48a1-992a-b3b082a56f4c",
   "metadata": {},
   "outputs": [],
   "source": [
    "class pwskills2 :\n",
    "\n",
    "   mobile_num = 989865654\n",
    "    \n",
    "   def __init__(self, name, email):\n",
    "       self.name = name\n",
    "       self.email = email\n",
    "\n",
    "   @classmethod\n",
    "   def change_number(cls, mobile):\n",
    "    pwskills2.mobile_num = mobile\n",
    "\n",
    "   @classmethod       \n",
    "   def details(cls, name, email):\n",
    "        return cls(name, email)\n",
    "        \n",
    "   def student_details(self):\n",
    "       print(self.name, self.email, pwskills2.mobile_num)\n"
   ]
  },
  {
   "cell_type": "code",
   "execution_count": 50,
   "id": "12dace91-5009-46ec-8dc8-918dead4d59d",
   "metadata": {},
   "outputs": [],
   "source": [
    "pwskills2.change_number(55454543622)"
   ]
  },
  {
   "cell_type": "code",
   "execution_count": 51,
   "id": "de8b0e32-9657-472a-97a9-87e1dbcab581",
   "metadata": {},
   "outputs": [
    {
     "data": {
      "text/plain": [
       "55454543622"
      ]
     },
     "execution_count": 51,
     "metadata": {},
     "output_type": "execute_result"
    }
   ],
   "source": [
    "pwskills2.mobile_num"
   ]
  },
  {
   "cell_type": "code",
   "execution_count": 52,
   "id": "b7839d0c-76c9-41d4-aee2-48b6e716a86b",
   "metadata": {},
   "outputs": [],
   "source": [
    "pw_obj = pwskills2(\"sudh\", \"sudh@gmail.com\")"
   ]
  },
  {
   "cell_type": "code",
   "execution_count": 53,
   "id": "a72e8513-5bb9-4f23-ad32-4202d01f57fb",
   "metadata": {},
   "outputs": [
    {
     "name": "stdout",
     "output_type": "stream",
     "text": [
      "sudh sudh@gmail.com\n"
     ]
    }
   ],
   "source": [
    "pw_obj.student_details()"
   ]
  },
  {
   "cell_type": "code",
   "execution_count": 60,
   "id": "154045d9-777b-4ca7-add6-6f40887e8a4a",
   "metadata": {},
   "outputs": [],
   "source": [
    "pw = pwskills2.details(\"rohan\", \"rohan@gmail.com\")"
   ]
  },
  {
   "cell_type": "code",
   "execution_count": 61,
   "id": "8c35263b-d302-46e1-b63a-13b48e3dfc37",
   "metadata": {},
   "outputs": [
    {
     "name": "stdout",
     "output_type": "stream",
     "text": [
      "rohan rohan@gmail.com 989865654\n"
     ]
    }
   ],
   "source": [
    "pw.student_details()"
   ]
  },
  {
   "cell_type": "code",
   "execution_count": 62,
   "id": "d80300b6-2bb8-48f4-b2f0-b15b0f3ffd4c",
   "metadata": {},
   "outputs": [],
   "source": [
    "class pwskills3 :\n",
    "\n",
    "   mobile_num = 989865654\n",
    "    \n",
    "   def __init__(self, name, email):\n",
    "       self.name = name\n",
    "       self.email = email\n",
    "\n",
    "   @classmethod\n",
    "   def change_number(cls, mobile):\n",
    "    pwskills2.mobile_num = mobile\n",
    "\n",
    "   @classmethod       \n",
    "   def details(cls, name, email):\n",
    "        return cls(name, email)\n",
    "        \n",
    "   def student_details(self):\n",
    "       print(self.name, self.email, pwskills2.mobile_num)\n"
   ]
  },
  {
   "cell_type": "code",
   "execution_count": 63,
   "id": "95620953-18ff-4460-bba8-633b1e4e15ca",
   "metadata": {},
   "outputs": [],
   "source": [
    "def course_details(cls,course_name):\n",
    "    print(\"course name is \",course_name)"
   ]
  },
  {
   "cell_type": "code",
   "execution_count": 64,
   "id": "100a2793-193e-4efa-a932-1837f39b8f28",
   "metadata": {},
   "outputs": [],
   "source": [
    "pwskills3.course_details = classmethod(course_details)"
   ]
  },
  {
   "cell_type": "code",
   "execution_count": 65,
   "id": "6a3c48c9-dbfa-4187-b2c2-2dba5c74bc9c",
   "metadata": {},
   "outputs": [
    {
     "name": "stdout",
     "output_type": "stream",
     "text": [
      "course name is  data science masters\n"
     ]
    }
   ],
   "source": [
    "pwskills3.course_details(\"data science masters\")"
   ]
  },
  {
   "cell_type": "code",
   "execution_count": 66,
   "id": "76f775ac-6595-4f98-a2fe-627f86ad5568",
   "metadata": {},
   "outputs": [],
   "source": [
    "def mentor(cls, list_of_mentor):\n",
    "    print(list_of_mentor)"
   ]
  },
  {
   "cell_type": "code",
   "execution_count": 67,
   "id": "36c2f6fc-6197-442d-92c8-1483bc93900c",
   "metadata": {},
   "outputs": [],
   "source": [
    "pwskills3.mentor = classmethod(mentor)"
   ]
  },
  {
   "cell_type": "code",
   "execution_count": 68,
   "id": "3fd2e041-672c-442a-9a62-5af5db22c3a3",
   "metadata": {},
   "outputs": [
    {
     "name": "stdout",
     "output_type": "stream",
     "text": [
      "['wasil', 'such naik']\n"
     ]
    }
   ],
   "source": [
    "pwskills3.mentor([\"wasil\", \"such naik\"])"
   ]
  },
  {
   "cell_type": "code",
   "execution_count": 70,
   "id": "b23fb883-8568-46e5-ac48-511b88073792",
   "metadata": {},
   "outputs": [],
   "source": [
    "class pwskills4 :\n",
    "\n",
    "   mobile_num = 989865654\n",
    "    \n",
    "   def __init__(self, name, email):\n",
    "       self.name = name\n",
    "       self.email = email\n",
    "\n",
    "   @classmethod\n",
    "   def change_number(cls, mobile):\n",
    "    pwskills2.mobile_num = mobile\n",
    "\n",
    "   @classmethod       \n",
    "   def details(cls, name, email):\n",
    "        return cls(name, email)\n",
    "        \n",
    "   def student_details(self):\n",
    "       print(self.name, self.email, pwskills2.mobile_num)\n"
   ]
  },
  {
   "cell_type": "code",
   "execution_count": 71,
   "id": "5777f955-8909-4c9f-88a7-96b9b20abaf7",
   "metadata": {},
   "outputs": [],
   "source": [
    "del pwskills4.change_number"
   ]
  },
  {
   "cell_type": "code",
   "execution_count": 73,
   "id": "864f15ac-e5a8-4f0e-95d2-e5b9ac15ca2e",
   "metadata": {},
   "outputs": [],
   "source": [
    "delattr(pwskills4, \"details\")"
   ]
  },
  {
   "cell_type": "code",
   "execution_count": 74,
   "id": "f5fc5a80-4e53-476a-a45f-ea1aa3c54ed9",
   "metadata": {},
   "outputs": [
    {
     "ename": "AttributeError",
     "evalue": "type object 'pwskills4' has no attribute 'chanage_number'",
     "output_type": "error",
     "traceback": [
      "\u001b[1;31m---------------------------------------------------------------------------\u001b[0m",
      "\u001b[1;31mAttributeError\u001b[0m                            Traceback (most recent call last)",
      "Cell \u001b[1;32mIn[74], line 1\u001b[0m\n\u001b[1;32m----> 1\u001b[0m pwskills4\u001b[38;5;241m.\u001b[39mchanage_number(\u001b[38;5;241m435345435\u001b[39m)\n",
      "\u001b[1;31mAttributeError\u001b[0m: type object 'pwskills4' has no attribute 'chanage_number'"
     ]
    }
   ],
   "source": [
    "pwskills4.chanage_number(435345435)"
   ]
  },
  {
   "cell_type": "code",
   "execution_count": 75,
   "id": "39fffd8b-067a-473a-b5b2-314ebd455804",
   "metadata": {},
   "outputs": [],
   "source": [
    "delattr(pwskills4, \"student_details\")"
   ]
  },
  {
   "cell_type": "code",
   "execution_count": 76,
   "id": "b063168f-bc58-4d8e-bba9-435a1fbb098f",
   "metadata": {},
   "outputs": [],
   "source": [
    "delattr(pwskills4, \"mobile_num\")"
   ]
  },
  {
   "cell_type": "code",
   "execution_count": null,
   "id": "e8636004-a0cd-4a37-a55e-823e915afaed",
   "metadata": {},
   "outputs": [],
   "source": []
  }
 ],
 "metadata": {
  "kernelspec": {
   "display_name": "Python 3 (ipykernel)",
   "language": "python",
   "name": "python3"
  },
  "language_info": {
   "codemirror_mode": {
    "name": "ipython",
    "version": 3
   },
   "file_extension": ".py",
   "mimetype": "text/x-python",
   "name": "python",
   "nbconvert_exporter": "python",
   "pygments_lexer": "ipython3",
   "version": "3.12.7"
  }
 },
 "nbformat": 4,
 "nbformat_minor": 5
}
