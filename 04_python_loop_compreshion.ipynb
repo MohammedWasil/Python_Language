{
 "cells": [
  {
   "cell_type": "markdown",
   "id": "ef844c68-ff6c-48c8-83b6-7d0a7bd3cbc3",
   "metadata": {},
   "source": [
    "TOPICS -> WHILE LOOPS"
   ]
  },
  {
   "cell_type": "code",
   "execution_count": 3,
   "id": "8904c9df-e520-4360-9eb8-fba0d7c2b7ab",
   "metadata": {},
   "outputs": [
    {
     "name": "stdout",
     "output_type": "stream",
     "text": [
      "1\n",
      "2\n",
      "3\n",
      "4\n",
      "5\n",
      "6\n",
      "7\n",
      "8\n",
      "9\n",
      "10\n"
     ]
    }
   ],
   "source": [
    "a = 1\n",
    "while a <= 10:\n",
    "    print(a)\n",
    "    a += 1"
   ]
  },
  {
   "cell_type": "markdown",
   "id": "93f91bd3-4a96-4ee8-af70-24a378fbd0d6",
   "metadata": {},
   "source": [
    "# sum of the number till point"
   ]
  },
  {
   "cell_type": "code",
   "execution_count": 4,
   "id": "e09af823-f679-422e-8f38-88dc246b9497",
   "metadata": {},
   "outputs": [
    {
     "name": "stdin",
     "output_type": "stream",
     "text": [
      "Enter your limit 5\n"
     ]
    },
    {
     "data": {
      "text/plain": [
       "15"
      ]
     },
     "execution_count": 4,
     "metadata": {},
     "output_type": "execute_result"
    }
   ],
   "source": [
    "n = int(input(\"Enter your limit\"))\n",
    "starting_point = 0\n",
    "counter = 1\n",
    "while counter <= n:\n",
    "    starting_point += counter\n",
    "    counter += 1\n",
    "starting_point    "
   ]
  },
  {
   "cell_type": "code",
   "execution_count": 5,
   "id": "fc61274d-659d-4628-ba97-44097e1787ca",
   "metadata": {},
   "outputs": [
    {
     "data": {
      "text/plain": [
       "(1, 2, 3, 4, 5)"
      ]
     },
     "execution_count": 5,
     "metadata": {},
     "output_type": "execute_result"
    }
   ],
   "source": [
    "1,2,3,4,5"
   ]
  },
  {
   "cell_type": "code",
   "execution_count": 6,
   "id": "370efb18-2a2e-4cfc-b2db-4559fc34b9d1",
   "metadata": {},
   "outputs": [
    {
     "name": "stdin",
     "output_type": "stream",
     "text": [
      "Enter your number 5\n"
     ]
    },
    {
     "data": {
      "text/plain": [
       "120"
      ]
     },
     "execution_count": 6,
     "metadata": {},
     "output_type": "execute_result"
    }
   ],
   "source": [
    "number = int(input(\"Enter your number\"))\n",
    "factorial = 1\n",
    "while number > 0:\n",
    "    factorial *= number\n",
    "    number -= 1\n",
    "factorial    "
   ]
  },
  {
   "cell_type": "code",
   "execution_count": 7,
   "id": "68abb9ab-2ef9-421f-93ef-511180aa9341",
   "metadata": {},
   "outputs": [],
   "source": [
    "#Finonacci series"
   ]
  },
  {
   "cell_type": "code",
   "execution_count": 8,
   "id": "73530efe-22ca-48df-8a80-6f8d1267747a",
   "metadata": {},
   "outputs": [
    {
     "name": "stdin",
     "output_type": "stream",
     "text": [
      "Enter the number of element you are looking for  10\n"
     ]
    },
    {
     "name": "stdout",
     "output_type": "stream",
     "text": [
      "0\n",
      "1\n",
      "1\n",
      "2\n",
      "3\n",
      "5\n",
      "8\n",
      "13\n",
      "21\n",
      "34\n"
     ]
    }
   ],
   "source": [
    "number = int(input(\"Enter the number of element you are looking for \"))\n",
    "a, b = 0, 1\n",
    "counter = 0\n",
    "while counter < number:\n",
    "    print(a)\n",
    "    c = a+b\n",
    "    a = b\n",
    "    b = c\n",
    "    counter += 1"
   ]
  },
  {
   "cell_type": "code",
   "execution_count": 10,
   "id": "2a6aba09-d4d2-4951-86f1-21f4eb20c27a",
   "metadata": {},
   "outputs": [
    {
     "name": "stdout",
     "output_type": "stream",
     "text": [
      "0\n",
      "1\n",
      "1\n",
      "2\n",
      "3\n",
      "5\n",
      "8\n",
      "13\n",
      "21\n",
      "34\n"
     ]
    }
   ],
   "source": [
    "a, b = 0, 1\n",
    "for i in range(10):\n",
    "    print(a)\n",
    "    c = a+b\n",
    "    a = b\n",
    "    b =c"
   ]
  },
  {
   "cell_type": "code",
   "execution_count": 11,
   "id": "415c144e-b0a5-4ce0-8c1c-ebe1f6bd55b4",
   "metadata": {},
   "outputs": [
    {
     "data": {
      "text/plain": [
       "'lisaw'"
      ]
     },
     "execution_count": 11,
     "metadata": {},
     "output_type": "execute_result"
    }
   ],
   "source": [
    "s = \"wasil\"\n",
    "s[::-1]"
   ]
  },
  {
   "cell_type": "code",
   "execution_count": 12,
   "id": "e01674bb-d6ce-42d0-a0e0-c2ecf6239766",
   "metadata": {},
   "outputs": [
    {
     "name": "stdin",
     "output_type": "stream",
     "text": [
      "enter your string for reversal wasil\n"
     ]
    }
   ],
   "source": [
    "word = input(\"enter your string for reversal\")"
   ]
  },
  {
   "cell_type": "code",
   "execution_count": 13,
   "id": "2c007e79-f119-4cdf-bd7f-d15f0eb193b2",
   "metadata": {},
   "outputs": [
    {
     "name": "stdout",
     "output_type": "stream",
     "text": [
      "lisaw\n"
     ]
    }
   ],
   "source": [
    "reverse = \"\"\n",
    "length = len(word)\n",
    "while length > 0:\n",
    "    reverse += word[length - 1]\n",
    "    length -= 1\n",
    "print(reverse)    "
   ]
  },
  {
   "cell_type": "code",
   "execution_count": 14,
   "id": "254ef10c-0a5a-4ebc-ad43-d6b5aea6cca6",
   "metadata": {},
   "outputs": [
    {
     "name": "stdin",
     "output_type": "stream",
     "text": [
      "enter your number 5\n"
     ]
    },
    {
     "name": "stdout",
     "output_type": "stream",
     "text": [
      "5  X  1  =  5\n",
      "5  X  2  =  10\n",
      "5  X  3  =  15\n",
      "5  X  4  =  20\n",
      "5  X  5  =  25\n",
      "5  X  6  =  30\n",
      "5  X  7  =  35\n",
      "5  X  8  =  40\n",
      "5  X  9  =  45\n",
      "5  X  10  =  50\n"
     ]
    }
   ],
   "source": [
    "#print table of numbers\n",
    "n = int(input(\"enter your number\"))\n",
    "i = 1\n",
    "while i <= 10:\n",
    "    result = n * i\n",
    "    print(n, \" X \", i, \" = \" , result)\n",
    "    i+= 1\n",
    "        "
   ]
  },
  {
   "cell_type": "code",
   "execution_count": 16,
   "id": "8aa1fc0a-affa-4b33-82ae-dcc9664838ba",
   "metadata": {},
   "outputs": [
    {
     "name": "stdout",
     "output_type": "stream",
     "text": [
      "1\n",
      "2\n",
      "3\n",
      "4\n",
      "this will be executed your will complete it successfully\n"
     ]
    }
   ],
   "source": [
    "#else use in while\n",
    "n = 5\n",
    "i = 1\n",
    "while i < n:\n",
    "    print(i)\n",
    "    i += 1\n",
    "else :\n",
    "    print(\"this will be executed your will complete it successfully\")"
   ]
  },
  {
   "cell_type": "code",
   "execution_count": 18,
   "id": "6f3c7ff6-e205-4ca4-adcd-89f1046948c7",
   "metadata": {},
   "outputs": [
    {
     "name": "stdout",
     "output_type": "stream",
     "text": [
      "1\n",
      "2\n",
      "3\n"
     ]
    }
   ],
   "source": [
    "n = 5\n",
    "i = 1\n",
    "while i < n:\n",
    "    print(i)\n",
    "    if i == 3:\n",
    "        break\n",
    "    i += 1\n",
    "else :\n",
    "    print(\"this will be executed your will complete it successfully\")"
   ]
  },
  {
   "cell_type": "markdown",
   "id": "5149861b-c843-4f2b-9c09-70c6def2ff91",
   "metadata": {},
   "source": [
    "TOPICS -> COMPRESHION"
   ]
  },
  {
   "cell_type": "code",
   "execution_count": 19,
   "id": "83383a71-ccd5-4f4c-b07e-f923c89c053f",
   "metadata": {},
   "outputs": [],
   "source": [
    "l = [1,2,3,4,5,6]\n",
    "l1 = []\n",
    "for i in l:\n",
    "    l1.append(i**2)"
   ]
  },
  {
   "cell_type": "code",
   "execution_count": 20,
   "id": "056ca1d7-c088-4cf6-8ae5-bd094908c62b",
   "metadata": {},
   "outputs": [
    {
     "data": {
      "text/plain": [
       "[1, 4, 9, 16, 25, 36]"
      ]
     },
     "execution_count": 20,
     "metadata": {},
     "output_type": "execute_result"
    }
   ],
   "source": [
    "l1"
   ]
  },
  {
   "cell_type": "code",
   "execution_count": 21,
   "id": "86ff984a-5ab0-4ea4-9e53-6be8c65f61a4",
   "metadata": {},
   "outputs": [
    {
     "data": {
      "text/plain": [
       "[1, 2, 3, 4, 5, 6]"
      ]
     },
     "execution_count": 21,
     "metadata": {},
     "output_type": "execute_result"
    }
   ],
   "source": [
    "l"
   ]
  },
  {
   "cell_type": "code",
   "execution_count": 22,
   "id": "0a47e2ae-69b5-45fa-9bd0-c1962f7cc1e2",
   "metadata": {},
   "outputs": [
    {
     "data": {
      "text/plain": [
       "[1, 4, 9, 16, 25, 36]"
      ]
     },
     "execution_count": 22,
     "metadata": {},
     "output_type": "execute_result"
    }
   ],
   "source": [
    "# list compreshion *************\n",
    "[i**2 for i in l]"
   ]
  },
  {
   "cell_type": "code",
   "execution_count": 24,
   "id": "7ebb1128-ff55-438b-b451-f0235a3c09e6",
   "metadata": {},
   "outputs": [
    {
     "data": {
      "text/plain": [
       "[2, 4, 6]"
      ]
     },
     "execution_count": 24,
     "metadata": {},
     "output_type": "execute_result"
    }
   ],
   "source": [
    "[i for i in l if i%2 == 0]"
   ]
  },
  {
   "cell_type": "code",
   "execution_count": 25,
   "id": "11f7c886-b376-47a0-a030-46bc7e66beaa",
   "metadata": {},
   "outputs": [],
   "source": [
    "l1 = [\"wasil\", \"sudh\", \"pwskills\", \"kumar\", \"data science masters\"]"
   ]
  },
  {
   "cell_type": "code",
   "execution_count": 27,
   "id": "cc0eee8b-aaba-4e14-8549-e18c06a9fc5f",
   "metadata": {},
   "outputs": [
    {
     "data": {
      "text/plain": [
       "['WASIL', 'SUDH', 'PWSKILLS', 'KUMAR', 'DATA SCIENCE MASTERS']"
      ]
     },
     "execution_count": 27,
     "metadata": {},
     "output_type": "execute_result"
    }
   ],
   "source": [
    "[i.upper() for i in l1]"
   ]
  },
  {
   "cell_type": "code",
   "execution_count": 28,
   "id": "ed968f33-e150-4949-8205-f6f43b001bdc",
   "metadata": {},
   "outputs": [
    {
     "data": {
      "text/plain": [
       "[1, 2, 3, 4, 5, 6]"
      ]
     },
     "execution_count": 28,
     "metadata": {},
     "output_type": "execute_result"
    }
   ],
   "source": [
    "# tuple compreshion ******\n",
    "l"
   ]
  },
  {
   "cell_type": "code",
   "execution_count": 30,
   "id": "8ab53018-6e2e-4456-ba9e-e6c330306a3c",
   "metadata": {},
   "outputs": [
    {
     "data": {
      "text/plain": [
       "[1, 4, 9, 16, 25, 36]"
      ]
     },
     "execution_count": 30,
     "metadata": {},
     "output_type": "execute_result"
    }
   ],
   "source": [
    "list(i**2 for i in l)"
   ]
  },
  {
   "cell_type": "code",
   "execution_count": 31,
   "id": "67b900cc-8a75-4bb5-ba9d-de8115072f73",
   "metadata": {},
   "outputs": [],
   "source": [
    "#dictionary compreshion\n",
    "d = {\"key1\": 1,\"key2\": 2, \"key3\":3,\"key4\": 4}"
   ]
  },
  {
   "cell_type": "code",
   "execution_count": 33,
   "id": "0333c0c7-17cc-499c-a117-e919d8bbfe8a",
   "metadata": {},
   "outputs": [
    {
     "data": {
      "text/plain": [
       "{'key1': 1, 'key2': 4, 'key3': 9, 'key4': 16}"
      ]
     },
     "execution_count": 33,
     "metadata": {},
     "output_type": "execute_result"
    }
   ],
   "source": [
    "{k:v**2 for k, v in d.items()}"
   ]
  },
  {
   "cell_type": "code",
   "execution_count": 34,
   "id": "de0c5f1c-2fc3-4fc1-b4ac-23762a6d6841",
   "metadata": {},
   "outputs": [
    {
     "data": {
      "text/plain": [
       "{'key1': 1, 'key2': 2, 'key3': 3, 'key4': 4}"
      ]
     },
     "execution_count": 34,
     "metadata": {},
     "output_type": "execute_result"
    }
   ],
   "source": [
    "d"
   ]
  },
  {
   "cell_type": "code",
   "execution_count": 36,
   "id": "337c7881-318c-4a1c-b6cc-382f65496f4b",
   "metadata": {},
   "outputs": [
    {
     "data": {
      "text/plain": [
       "{'key2': 2, 'key3': 3, 'key4': 4}"
      ]
     },
     "execution_count": 36,
     "metadata": {},
     "output_type": "execute_result"
    }
   ],
   "source": [
    "{k : v for k, v in d.items() if v>1}"
   ]
  },
  {
   "cell_type": "code",
   "execution_count": null,
   "id": "4bb0ff7e-d67f-4337-a8b9-0bcd8bf6ce99",
   "metadata": {},
   "outputs": [],
   "source": []
  }
 ],
 "metadata": {
  "kernelspec": {
   "display_name": "Python 3 (ipykernel)",
   "language": "python",
   "name": "python3"
  },
  "language_info": {
   "codemirror_mode": {
    "name": "ipython",
    "version": 3
   },
   "file_extension": ".py",
   "mimetype": "text/x-python",
   "name": "python",
   "nbconvert_exporter": "python",
   "pygments_lexer": "ipython3",
   "version": "3.12.7"
  }
 },
 "nbformat": 4,
 "nbformat_minor": 5
}
