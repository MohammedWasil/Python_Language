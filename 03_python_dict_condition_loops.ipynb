{
 "cells": [
  {
   "cell_type": "markdown",
   "id": "f6717e67-4372-4236-8ca9-ed34c3846464",
   "metadata": {},
   "source": [
    "TOPICS -> DICTIONARY"
   ]
  },
  {
   "cell_type": "code",
   "execution_count": 1,
   "id": "92546c79-4dc7-436d-883f-b524d0255b41",
   "metadata": {},
   "outputs": [],
   "source": [
    "d = {}"
   ]
  },
  {
   "cell_type": "code",
   "execution_count": 2,
   "id": "b4818fc8-2f5d-4b36-8f74-c80ebb6a3bcb",
   "metadata": {},
   "outputs": [
    {
     "data": {
      "text/plain": [
       "dict"
      ]
     },
     "execution_count": 2,
     "metadata": {},
     "output_type": "execute_result"
    }
   ],
   "source": [
    "type(d)"
   ]
  },
  {
   "cell_type": "code",
   "execution_count": 3,
   "id": "858a8db3-cd03-42f6-8a8a-92bb6ade01a1",
   "metadata": {},
   "outputs": [],
   "source": [
    "d1 = {'key': \"wasil\"}"
   ]
  },
  {
   "cell_type": "code",
   "execution_count": 4,
   "id": "d675c90a-84ef-4a22-a4c1-da4f423898d1",
   "metadata": {},
   "outputs": [
    {
     "data": {
      "text/plain": [
       "{'key': 'wasil'}"
      ]
     },
     "execution_count": 4,
     "metadata": {},
     "output_type": "execute_result"
    }
   ],
   "source": [
    "d1"
   ]
  },
  {
   "cell_type": "code",
   "execution_count": 5,
   "id": "33144c0c-8057-45a6-b12a-407b53e4e6a4",
   "metadata": {},
   "outputs": [
    {
     "data": {
      "text/plain": [
       "'wasil'"
      ]
     },
     "execution_count": 5,
     "metadata": {},
     "output_type": "execute_result"
    }
   ],
   "source": [
    "d1['key']"
   ]
  },
  {
   "cell_type": "code",
   "execution_count": 6,
   "id": "2d745098-e43b-474b-b73a-955352dcce0f",
   "metadata": {},
   "outputs": [
    {
     "ename": "NameError",
     "evalue": "name 'key' is not defined",
     "output_type": "error",
     "traceback": [
      "\u001b[1;31m---------------------------------------------------------------------------\u001b[0m",
      "\u001b[1;31mNameError\u001b[0m                                 Traceback (most recent call last)",
      "Cell \u001b[1;32mIn[6], line 1\u001b[0m\n\u001b[1;32m----> 1\u001b[0m d1[key]\n",
      "\u001b[1;31mNameError\u001b[0m: name 'key' is not defined"
     ]
    }
   ],
   "source": [
    "d1[key]"
   ]
  },
  {
   "cell_type": "code",
   "execution_count": 7,
   "id": "e923c69b-f854-41d2-98bf-e708586144a5",
   "metadata": {},
   "outputs": [],
   "source": [
    "d2 = {'name': \"wasil\", \"email\": \"wa@gmail.com\", \"number\": 45353}"
   ]
  },
  {
   "cell_type": "code",
   "execution_count": 8,
   "id": "8411e224-83a7-4025-92b1-4678a311ebb9",
   "metadata": {},
   "outputs": [
    {
     "data": {
      "text/plain": [
       "{'name': 'wasil', 'email': 'wa@gmail.com', 'number': 45353}"
      ]
     },
     "execution_count": 8,
     "metadata": {},
     "output_type": "execute_result"
    }
   ],
   "source": [
    "d2"
   ]
  },
  {
   "cell_type": "code",
   "execution_count": 11,
   "id": "5c1e47e5-aa35-4e19-865e-466478dd018f",
   "metadata": {},
   "outputs": [
    {
     "ename": "SyntaxError",
     "evalue": "invalid syntax (4067802276.py, line 1)",
     "output_type": "error",
     "traceback": [
      "\u001b[1;36m  Cell \u001b[1;32mIn[11], line 1\u001b[1;36m\u001b[0m\n\u001b[1;33m    d3 = {232: \"wasil\", @wer : \"kumar\"}\u001b[0m\n\u001b[1;37m                        ^\u001b[0m\n\u001b[1;31mSyntaxError\u001b[0m\u001b[1;31m:\u001b[0m invalid syntax\n"
     ]
    }
   ],
   "source": [
    "d3 = {232: \"wasil\", @wer : \"kumar\"}"
   ]
  },
  {
   "cell_type": "code",
   "execution_count": 14,
   "id": "a4d37f63-8b93-43ab-a493-c650992fed4e",
   "metadata": {},
   "outputs": [],
   "source": [
    "d3 = {232: \"wasil\", '_wer' : \"kumar\",True : 43432}"
   ]
  },
  {
   "cell_type": "code",
   "execution_count": 15,
   "id": "1c958420-823b-45a7-b329-5e363b8a2809",
   "metadata": {},
   "outputs": [
    {
     "data": {
      "text/plain": [
       "{232: 'wasil', '_wer': 'kumar', True: 43432}"
      ]
     },
     "execution_count": 15,
     "metadata": {},
     "output_type": "execute_result"
    }
   ],
   "source": [
    "d3"
   ]
  },
  {
   "cell_type": "code",
   "execution_count": 18,
   "id": "449c7e5b-b453-473c-a4db-f9a364bb20cf",
   "metadata": {},
   "outputs": [
    {
     "ename": "KeyError",
     "evalue": "'232'",
     "output_type": "error",
     "traceback": [
      "\u001b[1;31m---------------------------------------------------------------------------\u001b[0m",
      "\u001b[1;31mKeyError\u001b[0m                                  Traceback (most recent call last)",
      "Cell \u001b[1;32mIn[18], line 1\u001b[0m\n\u001b[1;32m----> 1\u001b[0m d3[\u001b[38;5;124m'\u001b[39m\u001b[38;5;124m232\u001b[39m\u001b[38;5;124m'\u001b[39m]\n",
      "\u001b[1;31mKeyError\u001b[0m: '232'"
     ]
    }
   ],
   "source": [
    "d3['232']"
   ]
  },
  {
   "cell_type": "code",
   "execution_count": 19,
   "id": "d7f605f3-bc5a-441b-912d-34217ba18038",
   "metadata": {},
   "outputs": [
    {
     "data": {
      "text/plain": [
       "'wasil'"
      ]
     },
     "execution_count": 19,
     "metadata": {},
     "output_type": "execute_result"
    }
   ],
   "source": [
    "d3[232]"
   ]
  },
  {
   "cell_type": "code",
   "execution_count": 21,
   "id": "c6534d97-3721-490a-bbcc-b04235f30986",
   "metadata": {},
   "outputs": [
    {
     "data": {
      "text/plain": [
       "43432"
      ]
     },
     "execution_count": 21,
     "metadata": {},
     "output_type": "execute_result"
    }
   ],
   "source": [
    "d3[1]"
   ]
  },
  {
   "cell_type": "code",
   "execution_count": 22,
   "id": "790c107f-dfea-4c9a-a878-9fbd65bf5885",
   "metadata": {},
   "outputs": [],
   "source": [
    "d4 = {'name':\"wasil\", \"mail_id\": \"ss@gamil.com\", \"name\":\"wasilpasha\"}"
   ]
  },
  {
   "cell_type": "code",
   "execution_count": 23,
   "id": "0fb8861c-e839-4860-9884-f21080137f5d",
   "metadata": {},
   "outputs": [
    {
     "data": {
      "text/plain": [
       "'wasilpasha'"
      ]
     },
     "execution_count": 23,
     "metadata": {},
     "output_type": "execute_result"
    }
   ],
   "source": [
    "d4['name']"
   ]
  },
  {
   "cell_type": "code",
   "execution_count": 24,
   "id": "1a2b4866-753c-4700-83f0-75899bc53e30",
   "metadata": {},
   "outputs": [],
   "source": [
    "d5 = {\"company\": \"pwskills\", \"course\": [\"web dev\", \"data science\", \"java with dsa system design\"]}"
   ]
  },
  {
   "cell_type": "code",
   "execution_count": 25,
   "id": "05e728f5-634a-43be-9465-b10242f62bef",
   "metadata": {},
   "outputs": [
    {
     "data": {
      "text/plain": [
       "{'company': 'pwskills',\n",
       " 'course': ['web dev', 'data science', 'java with dsa system design']}"
      ]
     },
     "execution_count": 25,
     "metadata": {},
     "output_type": "execute_result"
    }
   ],
   "source": [
    "d5"
   ]
  },
  {
   "cell_type": "code",
   "execution_count": 26,
   "id": "915a662c-cb4b-48c1-bfa4-1c1d86a39feb",
   "metadata": {},
   "outputs": [
    {
     "data": {
      "text/plain": [
       "['web dev', 'data science', 'java with dsa system design']"
      ]
     },
     "execution_count": 26,
     "metadata": {},
     "output_type": "execute_result"
    }
   ],
   "source": [
    "d5['course']"
   ]
  },
  {
   "cell_type": "code",
   "execution_count": 27,
   "id": "2a7c96ed-ce7d-4241-abfa-d06621f2b8a3",
   "metadata": {},
   "outputs": [
    {
     "data": {
      "text/plain": [
       "'java with dsa system design'"
      ]
     },
     "execution_count": 27,
     "metadata": {},
     "output_type": "execute_result"
    }
   ],
   "source": [
    "d5['course'][2]"
   ]
  },
  {
   "cell_type": "code",
   "execution_count": 34,
   "id": "7215b15f-8806-494a-8dcb-a8136310114f",
   "metadata": {},
   "outputs": [],
   "source": [
    "d6 = {\"number\": [2,3,4,5,55,64], \"assignment\": (1,2,3,4,5), \"launch_date\": {27,12,14}, \"class_time\": {\"web_dev\":8, \"Data Science masters\": 8, \"java with dsa and system design\": 7}}"
   ]
  },
  {
   "cell_type": "code",
   "execution_count": 35,
   "id": "3738ca41-23ec-4261-9924-05b97965de04",
   "metadata": {},
   "outputs": [
    {
     "data": {
      "text/plain": [
       "{'number': [2, 3, 4, 5, 55, 64],\n",
       " 'assignment': (1, 2, 3, 4, 5),\n",
       " 'launch_date': {12, 14, 27},\n",
       " 'class_time': {'web_dev': 8,\n",
       "  'Data Science masters': 8,\n",
       "  'java with dsa and system design': 7}}"
      ]
     },
     "execution_count": 35,
     "metadata": {},
     "output_type": "execute_result"
    }
   ],
   "source": [
    "d6"
   ]
  },
  {
   "cell_type": "code",
   "execution_count": 36,
   "id": "f085e816-1728-42ba-adac-8b83a5c43db0",
   "metadata": {},
   "outputs": [
    {
     "data": {
      "text/plain": [
       "7"
      ]
     },
     "execution_count": 36,
     "metadata": {},
     "output_type": "execute_result"
    }
   ],
   "source": [
    "d6['class_time']['java with dsa and system design']"
   ]
  },
  {
   "cell_type": "code",
   "execution_count": 37,
   "id": "39e20adb-93f5-4e7f-8a1e-16fe3f8d8b16",
   "metadata": {},
   "outputs": [
    {
     "data": {
      "text/plain": [
       "{'number': [2, 3, 4, 5, 55, 64],\n",
       " 'assignment': (1, 2, 3, 4, 5),\n",
       " 'launch_date': {12, 14, 27},\n",
       " 'class_time': {'web_dev': 8,\n",
       "  'Data Science masters': 8,\n",
       "  'java with dsa and system design': 7}}"
      ]
     },
     "execution_count": 37,
     "metadata": {},
     "output_type": "execute_result"
    }
   ],
   "source": [
    "d6"
   ]
  },
  {
   "cell_type": "code",
   "execution_count": 38,
   "id": "88b71283-3268-4e67-b07f-00a1b53f717c",
   "metadata": {},
   "outputs": [],
   "source": [
    "d6['mentor'] = [\"sudhanshu\",\"krish\",\"anurag\",\"hayder\"]"
   ]
  },
  {
   "cell_type": "code",
   "execution_count": 39,
   "id": "0c54a336-acfb-4e7a-8b01-0c42c69662bc",
   "metadata": {},
   "outputs": [
    {
     "data": {
      "text/plain": [
       "{'number': [2, 3, 4, 5, 55, 64],\n",
       " 'assignment': (1, 2, 3, 4, 5),\n",
       " 'launch_date': {12, 14, 27},\n",
       " 'class_time': {'web_dev': 8,\n",
       "  'Data Science masters': 8,\n",
       "  'java with dsa and system design': 7},\n",
       " 'mentor': ['sudhanshu', 'krish', 'anurag', 'hayder']}"
      ]
     },
     "execution_count": 39,
     "metadata": {},
     "output_type": "execute_result"
    }
   ],
   "source": [
    "d6"
   ]
  },
  {
   "cell_type": "code",
   "execution_count": 40,
   "id": "b25b62d9-16bb-49fb-8afc-a4421d6cb82a",
   "metadata": {},
   "outputs": [],
   "source": [
    "del d6['number'] #delete"
   ]
  },
  {
   "cell_type": "code",
   "execution_count": 41,
   "id": "2515b87c-1104-4c79-84f6-d29180184438",
   "metadata": {},
   "outputs": [
    {
     "data": {
      "text/plain": [
       "{'assignment': (1, 2, 3, 4, 5),\n",
       " 'launch_date': {12, 14, 27},\n",
       " 'class_time': {'web_dev': 8,\n",
       "  'Data Science masters': 8,\n",
       "  'java with dsa and system design': 7},\n",
       " 'mentor': ['sudhanshu', 'krish', 'anurag', 'hayder']}"
      ]
     },
     "execution_count": 41,
     "metadata": {},
     "output_type": "execute_result"
    }
   ],
   "source": [
    "d6"
   ]
  },
  {
   "cell_type": "code",
   "execution_count": 42,
   "id": "91007d34-5615-4b86-b1de-4dbb09f831f3",
   "metadata": {},
   "outputs": [
    {
     "data": {
      "text/plain": [
       "dict_keys(['assignment', 'launch_date', 'class_time', 'mentor'])"
      ]
     },
     "execution_count": 42,
     "metadata": {},
     "output_type": "execute_result"
    }
   ],
   "source": [
    "# keys list\n",
    "d6.keys()"
   ]
  },
  {
   "cell_type": "code",
   "execution_count": 45,
   "id": "ce9c969d-c298-49af-b4a2-d613faa87a3c",
   "metadata": {},
   "outputs": [
    {
     "data": {
      "text/plain": [
       "['assignment', 'launch_date', 'class_time', 'mentor']"
      ]
     },
     "execution_count": 45,
     "metadata": {},
     "output_type": "execute_result"
    }
   ],
   "source": [
    "list(d6.keys())"
   ]
  },
  {
   "cell_type": "code",
   "execution_count": 43,
   "id": "207d3e0f-cfb1-4e80-a356-7fb5f5ae698e",
   "metadata": {},
   "outputs": [
    {
     "data": {
      "text/plain": [
       "dict_values([(1, 2, 3, 4, 5), {27, 12, 14}, {'web_dev': 8, 'Data Science masters': 8, 'java with dsa and system design': 7}, ['sudhanshu', 'krish', 'anurag', 'hayder']])"
      ]
     },
     "execution_count": 43,
     "metadata": {},
     "output_type": "execute_result"
    }
   ],
   "source": [
    "d6.values()"
   ]
  },
  {
   "cell_type": "code",
   "execution_count": 44,
   "id": "7a9ecfed-a348-4056-a18c-471e36d01256",
   "metadata": {},
   "outputs": [
    {
     "data": {
      "text/plain": [
       "[(1, 2, 3, 4, 5),\n",
       " {12, 14, 27},\n",
       " {'web_dev': 8,\n",
       "  'Data Science masters': 8,\n",
       "  'java with dsa and system design': 7},\n",
       " ['sudhanshu', 'krish', 'anurag', 'hayder']]"
      ]
     },
     "execution_count": 44,
     "metadata": {},
     "output_type": "execute_result"
    }
   ],
   "source": [
    "list(d6.values())"
   ]
  },
  {
   "cell_type": "code",
   "execution_count": 46,
   "id": "160528e7-594d-4055-804c-b959ef460c1b",
   "metadata": {},
   "outputs": [
    {
     "data": {
      "text/plain": [
       "dict_items([('assignment', (1, 2, 3, 4, 5)), ('launch_date', {27, 12, 14}), ('class_time', {'web_dev': 8, 'Data Science masters': 8, 'java with dsa and system design': 7}), ('mentor', ['sudhanshu', 'krish', 'anurag', 'hayder'])])"
      ]
     },
     "execution_count": 46,
     "metadata": {},
     "output_type": "execute_result"
    }
   ],
   "source": [
    "d6.items()  # keys + values"
   ]
  },
  {
   "cell_type": "code",
   "execution_count": 47,
   "id": "d612957b-b30d-43b4-a06d-adc4f77c9726",
   "metadata": {},
   "outputs": [
    {
     "data": {
      "text/plain": [
       "[('assignment', (1, 2, 3, 4, 5)),\n",
       " ('launch_date', {12, 14, 27}),\n",
       " ('class_time',\n",
       "  {'web_dev': 8,\n",
       "   'Data Science masters': 8,\n",
       "   'java with dsa and system design': 7}),\n",
       " ('mentor', ['sudhanshu', 'krish', 'anurag', 'hayder'])]"
      ]
     },
     "execution_count": 47,
     "metadata": {},
     "output_type": "execute_result"
    }
   ],
   "source": [
    "list(d6.items())"
   ]
  },
  {
   "cell_type": "code",
   "execution_count": 48,
   "id": "88971664-01cf-4adb-bb95-ee2ffd9b4f30",
   "metadata": {},
   "outputs": [
    {
     "data": {
      "text/plain": [
       "(1, 2, 3, 4, 5)"
      ]
     },
     "execution_count": 48,
     "metadata": {},
     "output_type": "execute_result"
    }
   ],
   "source": [
    "d6.pop('assignment')"
   ]
  },
  {
   "cell_type": "code",
   "execution_count": 49,
   "id": "5aca0ee3-7dd6-403d-8dfe-865011098028",
   "metadata": {},
   "outputs": [
    {
     "data": {
      "text/plain": [
       "{'launch_date': {12, 14, 27},\n",
       " 'class_time': {'web_dev': 8,\n",
       "  'Data Science masters': 8,\n",
       "  'java with dsa and system design': 7},\n",
       " 'mentor': ['sudhanshu', 'krish', 'anurag', 'hayder']}"
      ]
     },
     "execution_count": 49,
     "metadata": {},
     "output_type": "execute_result"
    }
   ],
   "source": [
    "d6"
   ]
  },
  {
   "cell_type": "markdown",
   "id": "553439ac-e5c8-4ab2-a6b9-e0b41a878a72",
   "metadata": {},
   "source": [
    "  TOPICS -> CONDITIONS"
   ]
  },
  {
   "cell_type": "code",
   "execution_count": 8,
   "id": "19fe1376-79ab-4cad-840b-5fe924148ccf",
   "metadata": {},
   "outputs": [
    {
     "name": "stdin",
     "output_type": "stream",
     "text": [
      "Enter your marks:  89\n"
     ]
    },
    {
     "name": "stdout",
     "output_type": "stream",
     "text": [
      "you will be a part of A0 batch\n"
     ]
    }
   ],
   "source": [
    "# if , elif, else\n",
    "# marks = 6\n",
    "marks = int(input(\"Enter your marks: \"))\n",
    "if marks >= 80:\n",
    "    print(\"you will be a part of A0 batch\")\n",
    "elif marks >= 60 and marks < 80:\n",
    "    print(\"you will be a part of A1 batch\")\n",
    "elif marks >= 40 and marks < 60:\n",
    "     print(\"you will be a part of A2 batch\")\n",
    "else :\n",
    "    print(\"you will be a part of A3 batch\")"
   ]
  },
  {
   "cell_type": "code",
   "execution_count": 10,
   "id": "74dd25f4-8e2d-4a72-9610-5a3b99fab119",
   "metadata": {},
   "outputs": [
    {
     "name": "stdin",
     "output_type": "stream",
     "text": [
      "enter price 32\n"
     ]
    },
    {
     "name": "stdout",
     "output_type": "stream",
     "text": [
      "i will purchase\n"
     ]
    }
   ],
   "source": [
    "price = int(input(\"enter price\"))\n",
    "if price > 1000:\n",
    "    print(\"i will not purchase\")\n",
    "else:\n",
    "    print(\"i will purchase\")"
   ]
  },
  {
   "cell_type": "code",
   "execution_count": 16,
   "id": "efd24684-ccdc-4409-9bdd-ccaaa471d5ac",
   "metadata": {},
   "outputs": [
    {
     "name": "stdin",
     "output_type": "stream",
     "text": [
      "enter price 2\n"
     ]
    },
    {
     "name": "stdout",
     "output_type": "stream",
     "text": [
      "i will purchase\n"
     ]
    }
   ],
   "source": [
    "price = int(input(\"enter price\"))\n",
    "if price > 1000:\n",
    "    print(\"i will not purchase\")\n",
    "    if price > 5000:\n",
    "        print(\"this is too much\")\n",
    "    elif price < 2000:\n",
    "        print(\"it ok\")\n",
    "elif price < 1000:\n",
    "    print(\"i will purchase\")\n",
    "else:\n",
    "    print(\"not interested\")"
   ]
  },
  {
   "cell_type": "markdown",
   "id": "9b56bc8d-6d92-4d8c-9f0a-98264cda4277",
   "metadata": {},
   "source": [
    "TOPICS -> LOOPS"
   ]
  },
  {
   "cell_type": "code",
   "execution_count": 17,
   "id": "d7405737-4d1f-4a3d-a3c2-fb94ac8d674f",
   "metadata": {},
   "outputs": [],
   "source": [
    "l = [1,2,3,4,5,6,7,8]"
   ]
  },
  {
   "cell_type": "code",
   "execution_count": 18,
   "id": "d9e89e0c-63c6-4744-bcaa-16b810913968",
   "metadata": {},
   "outputs": [
    {
     "data": {
      "text/plain": [
       "2"
      ]
     },
     "execution_count": 18,
     "metadata": {},
     "output_type": "execute_result"
    }
   ],
   "source": [
    "l[0]+1"
   ]
  },
  {
   "cell_type": "code",
   "execution_count": 19,
   "id": "d7efb8c1-7c41-43a6-9d34-622a88bc748a",
   "metadata": {},
   "outputs": [],
   "source": [
    "l1 = []"
   ]
  },
  {
   "cell_type": "code",
   "execution_count": 20,
   "id": "da9864fa-c94c-46ec-b10d-c0f27899d09d",
   "metadata": {},
   "outputs": [],
   "source": [
    "l1.append(l[0]+1)"
   ]
  },
  {
   "cell_type": "code",
   "execution_count": 21,
   "id": "54ee9084-4328-457f-9eb7-9908a54395d9",
   "metadata": {},
   "outputs": [
    {
     "data": {
      "text/plain": [
       "[2]"
      ]
     },
     "execution_count": 21,
     "metadata": {},
     "output_type": "execute_result"
    }
   ],
   "source": [
    "l1"
   ]
  },
  {
   "cell_type": "code",
   "execution_count": 1,
   "id": "c204eab0-3a32-4c79-b027-2b668ba2d6a5",
   "metadata": {},
   "outputs": [],
   "source": [
    "l = [1,2,3,4,5,6,7,8]"
   ]
  },
  {
   "cell_type": "code",
   "execution_count": 2,
   "id": "64726dab-df09-4e92-9fb7-df727d789cd5",
   "metadata": {},
   "outputs": [
    {
     "name": "stdout",
     "output_type": "stream",
     "text": [
      "1\n",
      "2\n",
      "3\n",
      "4\n",
      "5\n",
      "6\n",
      "7\n",
      "8\n"
     ]
    }
   ],
   "source": [
    "    print(i)"
   ]
  },
  {
   "cell_type": "code",
   "execution_count": 3,
   "id": "3b0a9b92-1038-4106-b8ce-bd84832d8561",
   "metadata": {},
   "outputs": [
    {
     "name": "stdout",
     "output_type": "stream",
     "text": [
      "2\n",
      "3\n",
      "4\n",
      "5\n",
      "6\n",
      "7\n",
      "8\n",
      "9\n"
     ]
    }
   ],
   "source": [
    "for i in l:\n",
    "    print(i+1)"
   ]
  },
  {
   "cell_type": "code",
   "execution_count": 5,
   "id": "cf43f571-3f6f-4955-aff2-b12fe67a0777",
   "metadata": {},
   "outputs": [
    {
     "name": "stdout",
     "output_type": "stream",
     "text": [
      "2\n",
      "3\n",
      "4\n",
      "5\n",
      "6\n",
      "7\n",
      "8\n",
      "9\n"
     ]
    },
    {
     "data": {
      "text/plain": [
       "[2, 3, 4, 5, 6, 7, 8, 9]"
      ]
     },
     "execution_count": 5,
     "metadata": {},
     "output_type": "execute_result"
    }
   ],
   "source": [
    "l1 = []\n",
    "for i in l:\n",
    "    print(i+1)\n",
    "    l1.append(i+1)\n",
    "l1    "
   ]
  },
  {
   "cell_type": "code",
   "execution_count": 6,
   "id": "7c73d952-d308-4fbb-8b96-daf1eda18777",
   "metadata": {},
   "outputs": [],
   "source": [
    "l = [\"wasil\", \"sudh\", \"kumar\"]"
   ]
  },
  {
   "cell_type": "code",
   "execution_count": 8,
   "id": "e669d139-411a-401a-b6e0-e366ed3cb7f1",
   "metadata": {},
   "outputs": [
    {
     "name": "stdout",
     "output_type": "stream",
     "text": [
      "wasil\n",
      "sudh\n",
      "kumar\n"
     ]
    }
   ],
   "source": [
    "l1 = []\n",
    "for i in l:\n",
    "    print(i)\n",
    "    l1.append(i.upper())"
   ]
  },
  {
   "cell_type": "code",
   "execution_count": 9,
   "id": "f7753f70-ca24-4640-814e-9bee3086d933",
   "metadata": {},
   "outputs": [
    {
     "data": {
      "text/plain": [
       "['WASIL', 'SUDH', 'KUMAR']"
      ]
     },
     "execution_count": 9,
     "metadata": {},
     "output_type": "execute_result"
    }
   ],
   "source": [
    "l1"
   ]
  },
  {
   "cell_type": "code",
   "execution_count": 10,
   "id": "c28eaec8-9e08-48dd-8c14-85536c3c8daf",
   "metadata": {},
   "outputs": [],
   "source": [
    "l = [1,2,3,4,\"wasil\", 343, 34.245,\"abc\"]"
   ]
  },
  {
   "cell_type": "code",
   "execution_count": 15,
   "id": "af09622b-11f1-4153-b57f-b773ad109ba2",
   "metadata": {},
   "outputs": [],
   "source": [
    "l1_num = []\n",
    "l2_str = []\n",
    "for i in l:\n",
    "    if type(i) == int or type(i) == float :\n",
    "        l1_num.append(i)\n",
    "    else :\n",
    "        l2_str.append(i)\n"
   ]
  },
  {
   "cell_type": "code",
   "execution_count": 16,
   "id": "4acff0e3-851e-4103-8c4f-d430a94937d8",
   "metadata": {},
   "outputs": [
    {
     "data": {
      "text/plain": [
       "[1, 2, 3, 4, 343, 34.245]"
      ]
     },
     "execution_count": 16,
     "metadata": {},
     "output_type": "execute_result"
    }
   ],
   "source": [
    "l1_num"
   ]
  },
  {
   "cell_type": "code",
   "execution_count": 17,
   "id": "e1d8be41-d87e-4463-8f2b-684c5c02e2a4",
   "metadata": {},
   "outputs": [
    {
     "data": {
      "text/plain": [
       "['wasil', 'abc']"
      ]
     },
     "execution_count": 17,
     "metadata": {},
     "output_type": "execute_result"
    }
   ],
   "source": [
    "l2_str"
   ]
  },
  {
   "cell_type": "code",
   "execution_count": 18,
   "id": "9ca69807-030d-4917-a34b-f23bc75e945c",
   "metadata": {},
   "outputs": [],
   "source": [
    "l = [1,2,3,4,5]"
   ]
  },
  {
   "cell_type": "code",
   "execution_count": 19,
   "id": "748aa11c-795a-4c79-998b-9e5b4f6b05d2",
   "metadata": {},
   "outputs": [
    {
     "name": "stdout",
     "output_type": "stream",
     "text": [
      "1 <class 'int'>\n",
      "2 <class 'int'>\n",
      "3 <class 'int'>\n",
      "4 <class 'int'>\n",
      "5 <class 'int'>\n"
     ]
    }
   ],
   "source": [
    "for i in l:\n",
    "    print(i , type(i))"
   ]
  },
  {
   "cell_type": "code",
   "execution_count": 20,
   "id": "5eca42a3-5658-4566-8e35-4b8bf5f73632",
   "metadata": {},
   "outputs": [],
   "source": [
    "l1 = [\"wasil\", \"sudh\", \"kumar\"]"
   ]
  },
  {
   "cell_type": "code",
   "execution_count": 21,
   "id": "e6097b22-edc2-4c47-87e7-08e1d841ea39",
   "metadata": {},
   "outputs": [
    {
     "name": "stdout",
     "output_type": "stream",
     "text": [
      "wasil\n",
      "sudh\n",
      "kumar\n"
     ]
    }
   ],
   "source": [
    "for i in l1:\n",
    "    print(i)"
   ]
  },
  {
   "cell_type": "code",
   "execution_count": 23,
   "id": "d101d24e-f299-49eb-95ac-3840f99d3dcd",
   "metadata": {},
   "outputs": [
    {
     "name": "stdout",
     "output_type": "stream",
     "text": [
      "wasil\n",
      "sudh\n",
      "kumar\n",
      "if for loop is able to complete itself then only else execute\n"
     ]
    }
   ],
   "source": [
    "#for else\n",
    "for i in l1:\n",
    "    print(i)\n",
    "else :\n",
    "    print(\"if for loop is able to complete itself then only else execute\")"
   ]
  },
  {
   "cell_type": "code",
   "execution_count": 24,
   "id": "e265a7b6-3ec1-4fc8-b9d7-5cdf898a9a71",
   "metadata": {},
   "outputs": [
    {
     "data": {
      "text/plain": [
       "['wasil', 'sudh', 'kumar']"
      ]
     },
     "execution_count": 24,
     "metadata": {},
     "output_type": "execute_result"
    }
   ],
   "source": [
    "l1"
   ]
  },
  {
   "cell_type": "code",
   "execution_count": 25,
   "id": "7955c503-42dd-47d8-a15d-035b0210de78",
   "metadata": {},
   "outputs": [
    {
     "name": "stdout",
     "output_type": "stream",
     "text": [
      "wasil\n"
     ]
    }
   ],
   "source": [
    "for i in l1:\n",
    "    if i == \"sudh\":\n",
    "        break\n",
    "    print(i)    "
   ]
  },
  {
   "cell_type": "code",
   "execution_count": 26,
   "id": "7ad3edf3-59f0-4952-8afb-0f46bee3febf",
   "metadata": {},
   "outputs": [
    {
     "data": {
      "text/plain": [
       "['wasil', 'sudh', 'kumar']"
      ]
     },
     "execution_count": 26,
     "metadata": {},
     "output_type": "execute_result"
    }
   ],
   "source": [
    "l1"
   ]
  },
  {
   "cell_type": "code",
   "execution_count": 27,
   "id": "dae3d550-657b-4d89-a128-722e9f9724ea",
   "metadata": {},
   "outputs": [
    {
     "name": "stdout",
     "output_type": "stream",
     "text": [
      "wasil\n"
     ]
    }
   ],
   "source": [
    "for i in l1:\n",
    "    if i == \"sudh\":\n",
    "        break\n",
    "    print(i)\n",
    "else:\n",
    "    print(\"execute this if for loop is able to complete itself\")"
   ]
  },
  {
   "cell_type": "code",
   "execution_count": 28,
   "id": "2eb665ca-3fa4-4a5b-afb0-4093a72b152d",
   "metadata": {},
   "outputs": [
    {
     "data": {
      "text/plain": [
       "['wasil', 'sudh', 'kumar']"
      ]
     },
     "execution_count": 28,
     "metadata": {},
     "output_type": "execute_result"
    }
   ],
   "source": [
    "l1"
   ]
  },
  {
   "cell_type": "code",
   "execution_count": 30,
   "id": "c1885e86-fe00-4b68-b44b-33be0b7a4214",
   "metadata": {},
   "outputs": [
    {
     "name": "stdout",
     "output_type": "stream",
     "text": [
      "wasil\n",
      "kumar\n",
      "execute this if for loop is able to complete itself\n"
     ]
    }
   ],
   "source": [
    "for i in l1:\n",
    "    if i == \"sudh\":\n",
    "        continue\n",
    "    print(i)    \n",
    "else:\n",
    "    print(\"execute this if for loop is able to complete itself\")"
   ]
  },
  {
   "cell_type": "code",
   "execution_count": 31,
   "id": "8272b7c2-d498-47e8-a976-ea0cb66929a1",
   "metadata": {},
   "outputs": [
    {
     "data": {
      "text/plain": [
       "range(0, 5)"
      ]
     },
     "execution_count": 31,
     "metadata": {},
     "output_type": "execute_result"
    }
   ],
   "source": [
    "# generator function hai \n",
    "range(5)"
   ]
  },
  {
   "cell_type": "code",
   "execution_count": 32,
   "id": "8ac0b28f-b363-4a8a-b491-d209864e3fe1",
   "metadata": {},
   "outputs": [
    {
     "data": {
      "text/plain": [
       "[0, 1, 2, 3, 4]"
      ]
     },
     "execution_count": 32,
     "metadata": {},
     "output_type": "execute_result"
    }
   ],
   "source": [
    "list(range(5))"
   ]
  },
  {
   "cell_type": "code",
   "execution_count": 33,
   "id": "a0f51541-e792-4254-b6df-1e51cd118770",
   "metadata": {},
   "outputs": [
    {
     "data": {
      "text/plain": [
       "[0, 1, 2, 3, 4]"
      ]
     },
     "execution_count": 33,
     "metadata": {},
     "output_type": "execute_result"
    }
   ],
   "source": [
    "list(range(0,5,1))"
   ]
  },
  {
   "cell_type": "code",
   "execution_count": 34,
   "id": "bd302bb5-feb8-4894-8b25-778ec5d2dee0",
   "metadata": {},
   "outputs": [
    {
     "data": {
      "text/plain": [
       "[0, 2, 4, 6, 8, 10, 12, 14, 16, 18]"
      ]
     },
     "execution_count": 34,
     "metadata": {},
     "output_type": "execute_result"
    }
   ],
   "source": [
    "list(range(0,20,2))"
   ]
  },
  {
   "cell_type": "code",
   "execution_count": 35,
   "id": "08b21b45-7fe9-424d-bc7b-ff08a2afb588",
   "metadata": {},
   "outputs": [
    {
     "data": {
      "text/plain": [
       "[-10, -9, -8, -7, -6, -5, -4, -3, -2, -1]"
      ]
     },
     "execution_count": 35,
     "metadata": {},
     "output_type": "execute_result"
    }
   ],
   "source": [
    "list(range(-10,0))"
   ]
  },
  {
   "cell_type": "code",
   "execution_count": 36,
   "id": "d4f7ac25-e6dc-4196-a50a-691a3a9c539b",
   "metadata": {},
   "outputs": [
    {
     "data": {
      "text/plain": [
       "['wasil', 'sudh', 'kumar']"
      ]
     },
     "execution_count": 36,
     "metadata": {},
     "output_type": "execute_result"
    }
   ],
   "source": [
    "l1"
   ]
  },
  {
   "cell_type": "code",
   "execution_count": 37,
   "id": "21a08546-27f6-4d43-b222-4fe5f5c441e8",
   "metadata": {},
   "outputs": [
    {
     "data": {
      "text/plain": [
       "3"
      ]
     },
     "execution_count": 37,
     "metadata": {},
     "output_type": "execute_result"
    }
   ],
   "source": [
    "len(l1)"
   ]
  },
  {
   "cell_type": "code",
   "execution_count": 40,
   "id": "b1252c4d-f580-4083-a3f9-db57b580834f",
   "metadata": {},
   "outputs": [
    {
     "data": {
      "text/plain": [
       "[0, 1, 2]"
      ]
     },
     "execution_count": 40,
     "metadata": {},
     "output_type": "execute_result"
    }
   ],
   "source": [
    "list(range(len(l1)))"
   ]
  },
  {
   "cell_type": "code",
   "execution_count": 41,
   "id": "631b371b-4ec3-482c-a3c5-5cdc61607d24",
   "metadata": {},
   "outputs": [
    {
     "name": "stdout",
     "output_type": "stream",
     "text": [
      "wasil\n",
      "sudh\n",
      "kumar\n"
     ]
    }
   ],
   "source": [
    "for i in range(len(l1)):\n",
    "    print(l1[i])"
   ]
  },
  {
   "cell_type": "code",
   "execution_count": 44,
   "id": "50bbaaf3-48fa-4db9-80b5-c035bd4236d5",
   "metadata": {},
   "outputs": [
    {
     "data": {
      "text/plain": [
       "[2, 1, 0]"
      ]
     },
     "execution_count": 44,
     "metadata": {},
     "output_type": "execute_result"
    }
   ],
   "source": [
    "list(range(len(l1)-1,-1,-1))\n",
    "    "
   ]
  },
  {
   "cell_type": "code",
   "execution_count": 45,
   "id": "300553fe-d87c-43e1-9e1c-f2c0707b0e65",
   "metadata": {},
   "outputs": [
    {
     "name": "stdout",
     "output_type": "stream",
     "text": [
      "kumar\n",
      "sudh\n",
      "wasil\n"
     ]
    }
   ],
   "source": [
    "for i in range(len(l1)-1,-1,-1):\n",
    "    print(l1[i])"
   ]
  },
  {
   "cell_type": "code",
   "execution_count": 46,
   "id": "003d4961-6c4f-46d4-8f39-48782d492cbb",
   "metadata": {},
   "outputs": [
    {
     "name": "stdout",
     "output_type": "stream",
     "text": [
      "kumar\n",
      "sudh\n",
      "wasil\n"
     ]
    }
   ],
   "source": [
    "for i in [2,1,0]:\n",
    "    print(l1[i])"
   ]
  },
  {
   "cell_type": "code",
   "execution_count": 47,
   "id": "c27172de-3435-4405-9d35-e90aa7e1a0aa",
   "metadata": {},
   "outputs": [],
   "source": [
    "l2 = [23,5,45,56,67,67,78,89,87,655,8,9,7,6]"
   ]
  },
  {
   "cell_type": "code",
   "execution_count": 48,
   "id": "7c3175ef-8e97-47a7-9311-db42db790028",
   "metadata": {},
   "outputs": [
    {
     "data": {
      "text/plain": [
       "[0, 2, 4, 6, 8, 10, 12]"
      ]
     },
     "execution_count": 48,
     "metadata": {},
     "output_type": "execute_result"
    }
   ],
   "source": [
    "list(range(0, len(l2),2))"
   ]
  },
  {
   "cell_type": "code",
   "execution_count": 49,
   "id": "db980042-2a24-4eb1-b0f3-22055405ae8f",
   "metadata": {},
   "outputs": [
    {
     "name": "stdout",
     "output_type": "stream",
     "text": [
      "23\n",
      "45\n",
      "67\n",
      "78\n",
      "87\n",
      "8\n",
      "7\n"
     ]
    }
   ],
   "source": [
    "for i in range(0, len(l2), 2):\n",
    "    print(l2[i])"
   ]
  },
  {
   "cell_type": "code",
   "execution_count": 50,
   "id": "d1be63be-6dbd-4020-8c17-8c5d40445c5c",
   "metadata": {},
   "outputs": [],
   "source": [
    "l = [1,2,3,4,7,8,6]"
   ]
  },
  {
   "cell_type": "code",
   "execution_count": 51,
   "id": "e3ed0175-b722-4e47-8ebb-ee5a1c672e1e",
   "metadata": {},
   "outputs": [
    {
     "data": {
      "text/plain": [
       "31"
      ]
     },
     "execution_count": 51,
     "metadata": {},
     "output_type": "execute_result"
    }
   ],
   "source": [
    "sum(l)"
   ]
  },
  {
   "cell_type": "code",
   "execution_count": 53,
   "id": "990986de-c6dc-4c72-a522-ca6becd980f1",
   "metadata": {},
   "outputs": [
    {
     "data": {
      "text/plain": [
       "31"
      ]
     },
     "execution_count": 53,
     "metadata": {},
     "output_type": "execute_result"
    }
   ],
   "source": [
    "result = 0\n",
    "for i in l:\n",
    "    result += i\n",
    "result"
   ]
  },
  {
   "cell_type": "code",
   "execution_count": 54,
   "id": "0b8dafa7-037c-41f3-90e4-5d8646845777",
   "metadata": {},
   "outputs": [],
   "source": [
    "# tuples\n",
    "t = (1,2,3,4,5)"
   ]
  },
  {
   "cell_type": "code",
   "execution_count": 55,
   "id": "62f4721d-be0a-4641-929f-32ac0238a381",
   "metadata": {},
   "outputs": [
    {
     "name": "stdout",
     "output_type": "stream",
     "text": [
      "1\n",
      "2\n",
      "3\n",
      "4\n",
      "5\n"
     ]
    }
   ],
   "source": [
    "for i in t:\n",
    "    print(i)"
   ]
  },
  {
   "cell_type": "code",
   "execution_count": 56,
   "id": "580b381c-9295-4a4f-bc31-ff4f8071ed7b",
   "metadata": {},
   "outputs": [
    {
     "data": {
      "text/plain": [
       "15"
      ]
     },
     "execution_count": 56,
     "metadata": {},
     "output_type": "execute_result"
    }
   ],
   "source": [
    "result = 0\n",
    "for i in t:\n",
    "    result += i\n",
    "result    \n",
    "    "
   ]
  },
  {
   "cell_type": "code",
   "execution_count": 57,
   "id": "26f6c217-7dbe-40b3-8749-31b7f77def0d",
   "metadata": {},
   "outputs": [],
   "source": [
    "s = {1,2,3,4,5, \"wasil\", \"pwskills\"}"
   ]
  },
  {
   "cell_type": "code",
   "execution_count": 58,
   "id": "94e1344c-f557-474e-ad2d-23f9aa515910",
   "metadata": {},
   "outputs": [
    {
     "name": "stdout",
     "output_type": "stream",
     "text": [
      "1\n",
      "2\n",
      "3\n",
      "4\n",
      "5\n",
      "wasil\n",
      "pwskills\n"
     ]
    }
   ],
   "source": [
    "for i in s:\n",
    "    print(i)"
   ]
  },
  {
   "cell_type": "code",
   "execution_count": 59,
   "id": "326311c8-5a87-484a-9baa-f2108c610fa3",
   "metadata": {},
   "outputs": [],
   "source": [
    "s1 = \"pwskills\""
   ]
  },
  {
   "cell_type": "code",
   "execution_count": 62,
   "id": "5f934df2-ab16-4faf-997e-9dfa371b66f4",
   "metadata": {},
   "outputs": [
    {
     "name": "stdout",
     "output_type": "stream",
     "text": [
      "p\n",
      "w\n",
      "s\n",
      "k\n",
      "i\n",
      "l\n",
      "l\n",
      "s\n"
     ]
    }
   ],
   "source": [
    "for i in s1:\n",
    "    print(i)"
   ]
  },
  {
   "cell_type": "code",
   "execution_count": 63,
   "id": "7ee995ab-8556-49d8-9624-daa2d41e3f98",
   "metadata": {},
   "outputs": [],
   "source": [
    "# dict\n",
    "d = {\"name\": \"wasil\", \"class\": \"data science masters\",\n",
    "     \"topic\" : [\"python\", \"statc\",\"machine learning\",\"DL\",\"NLP\",\"resume\",\"interview\"]}"
   ]
  },
  {
   "cell_type": "code",
   "execution_count": 64,
   "id": "773ac14d-29ad-44bd-9d69-5d8d8ac52fea",
   "metadata": {},
   "outputs": [
    {
     "data": {
      "text/plain": [
       "{'name': 'wasil',\n",
       " 'class': 'data science masters',\n",
       " 'topic': ['python',\n",
       "  'statc',\n",
       "  'machine learning',\n",
       "  'DL',\n",
       "  'NLP',\n",
       "  'resume',\n",
       "  'interview']}"
      ]
     },
     "execution_count": 64,
     "metadata": {},
     "output_type": "execute_result"
    }
   ],
   "source": [
    "d"
   ]
  },
  {
   "cell_type": "code",
   "execution_count": 65,
   "id": "8b2df372-dfa5-4e6a-ad3c-407379596261",
   "metadata": {},
   "outputs": [
    {
     "data": {
      "text/plain": [
       "'wasil'"
      ]
     },
     "execution_count": 65,
     "metadata": {},
     "output_type": "execute_result"
    }
   ],
   "source": [
    "d['name']"
   ]
  },
  {
   "cell_type": "code",
   "execution_count": 66,
   "id": "ed7016ff-ef45-4074-9fd7-3b9fe133ce26",
   "metadata": {},
   "outputs": [
    {
     "data": {
      "text/plain": [
       "dict_keys(['name', 'class', 'topic'])"
      ]
     },
     "execution_count": 66,
     "metadata": {},
     "output_type": "execute_result"
    }
   ],
   "source": [
    "d.keys()"
   ]
  },
  {
   "cell_type": "code",
   "execution_count": 67,
   "id": "f46953aa-2a96-4fdc-be3a-b700db66cbab",
   "metadata": {},
   "outputs": [
    {
     "name": "stdout",
     "output_type": "stream",
     "text": [
      "wasil\n",
      "data science masters\n",
      "['python', 'statc', 'machine learning', 'DL', 'NLP', 'resume', 'interview']\n"
     ]
    }
   ],
   "source": [
    "for i in d.keys():\n",
    "    print(d[i])"
   ]
  },
  {
   "cell_type": "code",
   "execution_count": 68,
   "id": "7cc1cc15-a6c5-49b5-a130-559b9faa6f5a",
   "metadata": {},
   "outputs": [
    {
     "data": {
      "text/plain": [
       "dict_values(['wasil', 'data science masters', ['python', 'statc', 'machine learning', 'DL', 'NLP', 'resume', 'interview']])"
      ]
     },
     "execution_count": 68,
     "metadata": {},
     "output_type": "execute_result"
    }
   ],
   "source": [
    "d.values()"
   ]
  },
  {
   "cell_type": "code",
   "execution_count": 69,
   "id": "b6c2c828-b5f5-4593-8c1b-2d62fadbc82d",
   "metadata": {},
   "outputs": [
    {
     "name": "stdout",
     "output_type": "stream",
     "text": [
      "wasil\n",
      "data science masters\n",
      "['python', 'statc', 'machine learning', 'DL', 'NLP', 'resume', 'interview']\n"
     ]
    }
   ],
   "source": [
    "for i in d.values():\n",
    "    print(i)"
   ]
  },
  {
   "cell_type": "code",
   "execution_count": 70,
   "id": "f202b9c7-c3dd-45fd-9336-a52e5aba315f",
   "metadata": {},
   "outputs": [
    {
     "data": {
      "text/plain": [
       "dict_items([('name', 'wasil'), ('class', 'data science masters'), ('topic', ['python', 'statc', 'machine learning', 'DL', 'NLP', 'resume', 'interview'])])"
      ]
     },
     "execution_count": 70,
     "metadata": {},
     "output_type": "execute_result"
    }
   ],
   "source": [
    "d.items()"
   ]
  },
  {
   "cell_type": "code",
   "execution_count": 71,
   "id": "a71f3c25-314c-4a6c-aeb0-e88f08b64e54",
   "metadata": {},
   "outputs": [
    {
     "name": "stdout",
     "output_type": "stream",
     "text": [
      "('name', 'wasil')\n",
      "('class', 'data science masters')\n",
      "('topic', ['python', 'statc', 'machine learning', 'DL', 'NLP', 'resume', 'interview'])\n"
     ]
    }
   ],
   "source": [
    "for i in d.items():\n",
    "    print(i)"
   ]
  },
  {
   "cell_type": "code",
   "execution_count": null,
   "id": "7436e6fb-489d-4ef0-8be9-81f7b1eeedf4",
   "metadata": {},
   "outputs": [],
   "source": []
  }
 ],
 "metadata": {
  "kernelspec": {
   "display_name": "Python 3 (ipykernel)",
   "language": "python",
   "name": "python3"
  },
  "language_info": {
   "codemirror_mode": {
    "name": "ipython",
    "version": 3
   },
   "file_extension": ".py",
   "mimetype": "text/x-python",
   "name": "python",
   "nbconvert_exporter": "python",
   "pygments_lexer": "ipython3",
   "version": "3.12.7"
  }
 },
 "nbformat": 4,
 "nbformat_minor": 5
}
