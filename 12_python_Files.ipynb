{
 "cells": [
  {
   "cell_type": "code",
   "execution_count": 1,
   "id": "29e3f576-7563-4eea-829d-2af129b12747",
   "metadata": {},
   "outputs": [],
   "source": [
    "# open ak inbuild func hai jp ki file bana nai mia help kar ta hai\n",
    "f = open(\"test.txt\", 'w')"
   ]
  },
  {
   "cell_type": "code",
   "execution_count": 2,
   "id": "a32a7f81-04ad-49c9-aa14-0ec41c4c89a1",
   "metadata": {},
   "outputs": [
    {
     "data": {
      "text/plain": [
       "'C:\\\\Users\\\\Mohd Wasil\\\\Python'"
      ]
     },
     "execution_count": 2,
     "metadata": {},
     "output_type": "execute_result"
    }
   ],
   "source": [
    "pwd"
   ]
  },
  {
   "cell_type": "code",
   "execution_count": 3,
   "id": "9da12a39-8db4-4012-9844-d79c74b1535f",
   "metadata": {},
   "outputs": [
    {
     "name": "stdout",
     "output_type": "stream",
     "text": [
      " Volume in drive C is OS\n",
      " Volume Serial Number is 10F6-ED9D\n",
      "\n",
      " Directory of C:\\Users\\Mohd Wasil\\Python\n",
      "\n",
      "15-05-2025  12:25    <DIR>          .\n",
      "15-05-2025  12:16    <DIR>          ..\n",
      "15-05-2025  12:21    <DIR>          .ipynb_checkpoints\n",
      "15-05-2025  12:25               731 12_python_Files.ipynb\n",
      "15-05-2025  12:26                 0 test.txt\n",
      "               2 File(s)            731 bytes\n",
      "               3 Dir(s)  67,584,159,744 bytes free\n"
     ]
    }
   ],
   "source": [
    "ls"
   ]
  },
  {
   "cell_type": "code",
   "execution_count": 4,
   "id": "ec681ed7-e7a2-4933-9a23-2d46d996653a",
   "metadata": {},
   "outputs": [
    {
     "name": "stdout",
     "output_type": "stream",
     "text": [
      "[WinError 2] The system cannot find the file specified: 'work'\n",
      "C:\\Users\\Mohd Wasil\\Python\n"
     ]
    }
   ],
   "source": [
    "cd work"
   ]
  },
  {
   "cell_type": "code",
   "execution_count": 5,
   "id": "90b8ba30-432b-4ed7-9599-ab48db88824b",
   "metadata": {},
   "outputs": [
    {
     "name": "stdout",
     "output_type": "stream",
     "text": [
      " Volume in drive C is OS\n",
      " Volume Serial Number is 10F6-ED9D\n",
      "\n",
      " Directory of C:\\Users\\Mohd Wasil\\Python\n",
      "\n",
      "15-05-2025  12:27    <DIR>          .\n",
      "15-05-2025  12:16    <DIR>          ..\n",
      "15-05-2025  12:21    <DIR>          .ipynb_checkpoints\n",
      "15-05-2025  12:27             2,112 12_python_Files.ipynb\n",
      "15-05-2025  12:26                 0 test.txt\n",
      "               2 File(s)          2,112 bytes\n",
      "               3 Dir(s)  67,582,058,496 bytes free\n"
     ]
    }
   ],
   "source": [
    "ls"
   ]
  },
  {
   "cell_type": "code",
   "execution_count": 6,
   "id": "5389d95e-47ef-4625-b865-852a162e7566",
   "metadata": {},
   "outputs": [
    {
     "data": {
      "text/plain": [
       "30"
      ]
     },
     "execution_count": 6,
     "metadata": {},
     "output_type": "execute_result"
    }
   ],
   "source": [
    "f.write(\"this is my first file to write\")"
   ]
  },
  {
   "cell_type": "code",
   "execution_count": 7,
   "id": "ff450bfe-37df-4a2d-8784-ecf31c90edb4",
   "metadata": {},
   "outputs": [],
   "source": [
    "f.close()"
   ]
  },
  {
   "cell_type": "code",
   "execution_count": 8,
   "id": "9a7a42fe-bff9-4646-85ef-c4b0af77681d",
   "metadata": {},
   "outputs": [],
   "source": [
    "f = open(\"test.txt\", 'w')"
   ]
  },
  {
   "cell_type": "code",
   "execution_count": 9,
   "id": "d63f3783-5726-47e5-8538-7f86d45f068f",
   "metadata": {},
   "outputs": [
    {
     "data": {
      "text/plain": [
       "15"
      ]
     },
     "execution_count": 9,
     "metadata": {},
     "output_type": "execute_result"
    }
   ],
   "source": [
    "f.write(\"this is my file\")"
   ]
  },
  {
   "cell_type": "code",
   "execution_count": 10,
   "id": "ae0513c3-8891-4346-9f4b-5803294a70e2",
   "metadata": {},
   "outputs": [],
   "source": [
    "f.close()"
   ]
  },
  {
   "cell_type": "code",
   "execution_count": 10,
   "id": "56eab460-4e20-4024-a9d8-f906685e06b5",
   "metadata": {},
   "outputs": [],
   "source": [
    "f = open(\"test1.txt\", 'a')"
   ]
  },
  {
   "cell_type": "code",
   "execution_count": 11,
   "id": "c154c338-51a6-4d7f-b89a-9aab35a2f236",
   "metadata": {},
   "outputs": [
    {
     "data": {
      "text/plain": [
       "309"
      ]
     },
     "execution_count": 11,
     "metadata": {},
     "output_type": "execute_result"
    }
   ],
   "source": [
    "f.write(\"Based on improvements in algorithms, we can guarantee that your video speech recognition will be extremely accurate. Filmora’s STT enables your video speech to be correctly and swiftly converted to text. Try with the in-built feature of Filmora and enjoy your professionally created videos with fewer efforts!\")"
   ]
  },
  {
   "cell_type": "code",
   "execution_count": 12,
   "id": "fda6501d-50cc-4d8a-98ca-cfc746a8815d",
   "metadata": {},
   "outputs": [],
   "source": [
    "f.close()"
   ]
  },
  {
   "cell_type": "code",
   "execution_count": 14,
   "id": "32a03aa1-3131-415f-9834-30c2ab250ef5",
   "metadata": {},
   "outputs": [],
   "source": [
    "data = open(\"test.txt\", 'r')"
   ]
  },
  {
   "cell_type": "code",
   "execution_count": 16,
   "id": "d246ad8d-1b8e-4622-bb9a-d4b4c475d6ac",
   "metadata": {},
   "outputs": [
    {
     "data": {
      "text/plain": [
       "'this is my fileBased on improvements in algorithms, we can guarantee that your video speech recognition will be extremely accurate. Filmora’s STT enables your video speech to be correctly and swiftly converted to text. Try with the in-built feature of Filmora and enjoy your professionally created videos with fewer efforts!Based on improvements in algorithms, we can guarantee that your video speech recognition will be extremely accurate. Filmora’s STT enables your video speech to be correctly and swiftly converted to text. Try with the in-built feature of Filmora and enjoy your professionally created videos with fewer efforts!Based on improvements in algorithms, we can guarantee that your video speech recognition will be extremely accurate. Filmora’s STT enables your video speech to be correctly and swiftly converted to text. Try with the in-built feature of Filmora and enjoy your professionally created videos with fewer efforts!'"
      ]
     },
     "execution_count": 16,
     "metadata": {},
     "output_type": "execute_result"
    }
   ],
   "source": [
    "data.read()"
   ]
  },
  {
   "cell_type": "code",
   "execution_count": 20,
   "id": "cce979bc-2e3b-4aee-8a12-b6631921b1f7",
   "metadata": {},
   "outputs": [
    {
     "data": {
      "text/plain": [
       "'this is my fileBased on improvements in algorithms, we can guarantee that your video speech recognition will be extremely accurate. Filmora’s STT enables your video speech to be correctly and swiftly converted to text. Try with the in-built feature of Filmora and enjoy your professionally created videos with fewer efforts!Based on improvements in algorithms, we can guarantee that your video speech recognition will be extremely accurate. Filmora’s STT enables your video speech to be correctly and swiftly converted to text. Try with the in-built feature of Filmora and enjoy your professionally created videos with fewer efforts!Based on improvements in algorithms, we can guarantee that your video speech recognition will be extremely accurate. Filmora’s STT enables your video speech to be correctly and swiftly converted to text. Try with the in-built feature of Filmora and enjoy your professionally created videos with fewer efforts!'"
      ]
     },
     "execution_count": 20,
     "metadata": {},
     "output_type": "execute_result"
    }
   ],
   "source": [
    "data.readline()"
   ]
  },
  {
   "cell_type": "code",
   "execution_count": 19,
   "id": "b32aa532-1372-4ae4-942f-f178dde1bcf3",
   "metadata": {},
   "outputs": [
    {
     "data": {
      "text/plain": [
       "0"
      ]
     },
     "execution_count": 19,
     "metadata": {},
     "output_type": "execute_result"
    }
   ],
   "source": [
    "data.seek(0)"
   ]
  },
  {
   "cell_type": "code",
   "execution_count": 25,
   "id": "f626917c-87c8-4c88-aed2-680a8ca77965",
   "metadata": {},
   "outputs": [
    {
     "data": {
      "text/plain": [
       "''"
      ]
     },
     "execution_count": 25,
     "metadata": {},
     "output_type": "execute_result"
    }
   ],
   "source": [
    "data.readline()"
   ]
  },
  {
   "cell_type": "code",
   "execution_count": 26,
   "id": "125d96e9-f12f-4982-9b2c-d540c2f5abd5",
   "metadata": {},
   "outputs": [
    {
     "data": {
      "text/plain": [
       "10"
      ]
     },
     "execution_count": 26,
     "metadata": {},
     "output_type": "execute_result"
    }
   ],
   "source": [
    "data.seek(10)"
   ]
  },
  {
   "cell_type": "code",
   "execution_count": 27,
   "id": "cf72847e-a7e5-4c76-8c6a-cddc344e206a",
   "metadata": {},
   "outputs": [
    {
     "data": {
      "text/plain": [
       "' fileBased on improvements in algorithms, we can guarantee that your video speech recognition will be extremely accurate. Filmora’s STT enables your video speech to be correctly and swiftly converted to text. Try with the in-built feature of Filmora and enjoy your professionally created videos with fewer efforts!Based on improvements in algorithms, we can guarantee that your video speech recognition will be extremely accurate. Filmora’s STT enables your video speech to be correctly and swiftly converted to text. Try with the in-built feature of Filmora and enjoy your professionally created videos with fewer efforts!Based on improvements in algorithms, we can guarantee that your video speech recognition will be extremely accurate. Filmora’s STT enables your video speech to be correctly and swiftly converted to text. Try with the in-built feature of Filmora and enjoy your professionally created videos with fewer efforts!'"
      ]
     },
     "execution_count": 27,
     "metadata": {},
     "output_type": "execute_result"
    }
   ],
   "source": [
    "data.read()"
   ]
  },
  {
   "cell_type": "code",
   "execution_count": 28,
   "id": "ccfc5420-27d5-481e-a175-edda03a8f815",
   "metadata": {},
   "outputs": [],
   "source": [
    "data1 = open(\"test.txt\", 'r')"
   ]
  },
  {
   "cell_type": "code",
   "execution_count": 29,
   "id": "1cc6ebae-6bb5-487c-981c-e2b12ef2a348",
   "metadata": {},
   "outputs": [
    {
     "name": "stdout",
     "output_type": "stream",
     "text": [
      "this is my fileBased on improvements in algorithms, we can guarantee that your video speech recognition will be extremely accurate. Filmora’s STT enables your video speech to be correctly and swiftly converted to text. Try with the in-built feature of Filmora and enjoy your professionally created videos with fewer efforts!Based on improvements in algorithms, we can guarantee that your video speech recognition will be extremely accurate. Filmora’s STT enables your video speech to be correctly and swiftly converted to text. Try with the in-built feature of Filmora and enjoy your professionally created videos with fewer efforts!Based on improvements in algorithms, we can guarantee that your video speech recognition will be extremely accurate. Filmora’s STT enables your video speech to be correctly and swiftly converted to text. Try with the in-built feature of Filmora and enjoy your professionally created videos with fewer efforts!\n"
     ]
    }
   ],
   "source": [
    "for i in data1:\n",
    "    print(i)"
   ]
  },
  {
   "cell_type": "code",
   "execution_count": 30,
   "id": "b1697ba1-607b-48a5-8c1b-0958d1ac3393",
   "metadata": {},
   "outputs": [],
   "source": [
    "#size of file\n",
    "import os"
   ]
  },
  {
   "cell_type": "code",
   "execution_count": 32,
   "id": "6ce9890c-2985-4031-a734-37b2bbd460ba",
   "metadata": {},
   "outputs": [
    {
     "data": {
      "text/plain": [
       "927"
      ]
     },
     "execution_count": 32,
     "metadata": {},
     "output_type": "execute_result"
    }
   ],
   "source": [
    "os.path.getsize(\"test1.txt\")"
   ]
  },
  {
   "cell_type": "code",
   "execution_count": 33,
   "id": "61faf84e-8825-4a06-9d1c-cb6a63eafbaa",
   "metadata": {},
   "outputs": [],
   "source": [
    "os.remove(\"test1.txt\")"
   ]
  },
  {
   "cell_type": "code",
   "execution_count": 34,
   "id": "a9986bd3-001e-4b66-8222-d7c730529b7b",
   "metadata": {},
   "outputs": [],
   "source": [
    "f = open(\"text1.txt\", \"w\")"
   ]
  },
  {
   "cell_type": "code",
   "execution_count": 35,
   "id": "258cd694-b25d-439d-b87f-8899a81af403",
   "metadata": {},
   "outputs": [
    {
     "data": {
      "text/plain": [
       "309"
      ]
     },
     "execution_count": 35,
     "metadata": {},
     "output_type": "execute_result"
    }
   ],
   "source": [
    "f.write(\"Based on improvements in algorithms, we can guarantee that your video speech recognition will be extremely accurate. Filmora’s STT enables your video speech to be correctly and swiftly converted to text. Try with the in-built feature of Filmora and enjoy your professionally created videos with fewer efforts!\")"
   ]
  },
  {
   "cell_type": "code",
   "execution_count": 36,
   "id": "44d7fe92-2101-4456-a5e4-041fd8f011fd",
   "metadata": {},
   "outputs": [],
   "source": [
    "f.close()"
   ]
  },
  {
   "cell_type": "code",
   "execution_count": 39,
   "id": "ef1a13eb-ed87-4427-8849-4f433d50f4bc",
   "metadata": {},
   "outputs": [],
   "source": [
    "os.rename(\"text1.txt\" , \"new.txt\")"
   ]
  },
  {
   "cell_type": "code",
   "execution_count": 40,
   "id": "2940a61d-d888-493c-97ee-522cda815acb",
   "metadata": {},
   "outputs": [],
   "source": [
    "import shutil"
   ]
  },
  {
   "cell_type": "code",
   "execution_count": 41,
   "id": "3009159e-46f6-4508-9ef8-e17610bae75d",
   "metadata": {},
   "outputs": [
    {
     "data": {
      "text/plain": [
       "'copy_new.txt'"
      ]
     },
     "execution_count": 41,
     "metadata": {},
     "output_type": "execute_result"
    }
   ],
   "source": [
    "shutil.copy(\"new.txt\", \"copy_new.txt\")"
   ]
  },
  {
   "cell_type": "code",
   "execution_count": 43,
   "id": "26c3a4fa-5b90-4a17-8392-c7e3505eb43f",
   "metadata": {},
   "outputs": [
    {
     "name": "stdout",
     "output_type": "stream",
     "text": [
      "Based on improvements in algorithms, we can guarantee that your video speech recognition will be extremely accurate. Filmora’s STT enables your video speech to be correctly and swiftly converted to text. Try with the in-built feature of Filmora and enjoy your professionally created videos with fewer efforts!\n"
     ]
    }
   ],
   "source": [
    "with open(\"new.txt\", \"r\") as f:\n",
    "    print(f.read())"
   ]
  },
  {
   "cell_type": "code",
   "execution_count": 44,
   "id": "e8847927-15e5-4ce3-9f63-4eca3a2b9906",
   "metadata": {},
   "outputs": [],
   "source": [
    "#dictionary \n",
    "data = {\n",
    "    \"name\": \"wasil\",\n",
    "    \"mail_id\": \"wasil@gmail.com\",\n",
    "    \"phone_number\": 4354653454,\n",
    "    \"subject\" : [\"data science\", \"big data\", \"data analytics\"]  \n",
    "}    "
   ]
  },
  {
   "cell_type": "code",
   "execution_count": 46,
   "id": "29c6b485-2a6b-4419-8005-a81ad4d66546",
   "metadata": {},
   "outputs": [],
   "source": [
    "import json #json ak package hai"
   ]
  },
  {
   "cell_type": "code",
   "execution_count": 47,
   "id": "68045a53-fb7a-45e3-b947-2442ecd1ee45",
   "metadata": {},
   "outputs": [],
   "source": [
    "with open(\"data.json\", \"w\") as f:\n",
    "    json.dump(data, f)"
   ]
  },
  {
   "cell_type": "code",
   "execution_count": 50,
   "id": "ac804737-2d42-469e-8431-5515a13f7872",
   "metadata": {},
   "outputs": [],
   "source": [
    "with open(\"data.json\", \"r\") as f:\n",
    "    data1 = json.load(f)"
   ]
  },
  {
   "cell_type": "code",
   "execution_count": 51,
   "id": "6f004737-0c54-4b57-a73c-d4fe895a8e00",
   "metadata": {},
   "outputs": [
    {
     "data": {
      "text/plain": [
       "{'name': 'wasil',\n",
       " 'mail_id': 'wasil@gmail.com',\n",
       " 'phone_number': 4354653454,\n",
       " 'subject': ['data science', 'big data', 'data analytics']}"
      ]
     },
     "execution_count": 51,
     "metadata": {},
     "output_type": "execute_result"
    }
   ],
   "source": [
    "data1"
   ]
  },
  {
   "cell_type": "code",
   "execution_count": 52,
   "id": "96ae0226-8992-4cfe-a8fe-1c76a025a4bc",
   "metadata": {},
   "outputs": [
    {
     "data": {
      "text/plain": [
       "'big data'"
      ]
     },
     "execution_count": 52,
     "metadata": {},
     "output_type": "execute_result"
    }
   ],
   "source": [
    "data1[\"subject\"][1]"
   ]
  },
  {
   "cell_type": "code",
   "execution_count": 2,
   "id": "bf6e7a8f-e974-4cac-a1bf-71b971d1a347",
   "metadata": {},
   "outputs": [],
   "source": [
    "import csv  # comma seperate file"
   ]
  },
  {
   "cell_type": "code",
   "execution_count": 3,
   "id": "0357e90e-3ff9-44fb-b974-07da4a0936fe",
   "metadata": {},
   "outputs": [],
   "source": [
    "data = [[\"name\", \"email_id\", \"phone_numer\"],\n",
    "       [\"wasil\", \"wasil@gmail.com\", 5654767675],\n",
    "        [\"sudh\", \"sudh@gmail.com\", 87878778787]\n",
    "       ]"
   ]
  },
  {
   "cell_type": "code",
   "execution_count": 4,
   "id": "c2728874-13e5-44c0-a825-9757c4d34cf3",
   "metadata": {},
   "outputs": [],
   "source": [
    "with open(\"data.csv\", \"w\") as f:\n",
    "    writer = csv.writer(f)\n",
    "\n",
    "    for i in data:\n",
    "       writer.writerow(i)"
   ]
  },
  {
   "cell_type": "code",
   "execution_count": 5,
   "id": "17d18cb0-a547-4c8f-bd70-21daa23ded4a",
   "metadata": {},
   "outputs": [
    {
     "name": "stdout",
     "output_type": "stream",
     "text": [
      "['name', 'email_id', 'phone_numer']\n",
      "['wasil', 'wasil@gmail.com', 5654767675]\n",
      "['sudh', 'sudh@gmail.com', 87878778787]\n"
     ]
    }
   ],
   "source": [
    "with open(\"data.csv\", \"r\") as f:\n",
    "    read_data = csv.reader(f)\n",
    "\n",
    "    for i in data:\n",
    "        print(i)"
   ]
  },
  {
   "cell_type": "code",
   "execution_count": 7,
   "id": "75da8a32-5b4c-4551-88fd-4c61d0f9914e",
   "metadata": {},
   "outputs": [],
   "source": [
    "with open(\"text.bin\", \"wb\") as f:\n",
    "    f.write(b\"\\x01\\x02\\x03\\x56664534\")"
   ]
  },
  {
   "cell_type": "code",
   "execution_count": 8,
   "id": "306edc81-a2e5-424c-ac18-d800e5dfc8f4",
   "metadata": {},
   "outputs": [
    {
     "name": "stdout",
     "output_type": "stream",
     "text": [
      "b'\\x01\\x02\\x03V664534'\n"
     ]
    }
   ],
   "source": [
    "with open(\"text.bin\",\"rb\") as f:\n",
    "    print(f.read())"
   ]
  },
  {
   "cell_type": "code",
   "execution_count": 9,
   "id": "5ffe00af-5a39-4c64-9050-39bb24587117",
   "metadata": {},
   "outputs": [],
   "source": [
    "#Buffered Read and write"
   ]
  },
  {
   "cell_type": "code",
   "execution_count": 3,
   "id": "8d1af8be-41c9-420a-ac60-5bd6caec8c73",
   "metadata": {},
   "outputs": [],
   "source": [
    "import io"
   ]
  },
  {
   "cell_type": "code",
   "execution_count": 4,
   "id": "1c15e2f8-acb2-4fa3-a1fc-776988eccd08",
   "metadata": {},
   "outputs": [],
   "source": [
    "with open(\"testnew.txt\", \"wb\") as f:\n",
    "    file = io.BufferedWriter(f)\n",
    "\n",
    "    file.write(b\"this is my first line\\n\")\n",
    "    file.write(b\"this is my second line\\n\")\n",
    "    file.flush()"
   ]
  },
  {
   "cell_type": "code",
   "execution_count": 7,
   "id": "cfea204c-2c66-4b58-8129-1a496215ebff",
   "metadata": {},
   "outputs": [
    {
     "name": "stdout",
     "output_type": "stream",
     "text": [
      "b'this is my f'\n"
     ]
    }
   ],
   "source": [
    "with open(\"testnew.txt\", \"rb\") as f:\n",
    "    file = io.BufferedReader(f)\n",
    "    print(file.read(12))\n",
    "     "
   ]
  },
  {
   "cell_type": "markdown",
   "id": "8634dc44-1bed-4f90-9f46-e526cd7c34da",
   "metadata": {},
   "source": [
    "TOPICS -> FILE Logging debugging"
   ]
  },
  {
   "cell_type": "code",
   "execution_count": 1,
   "id": "cf6dd869-9328-49a3-af0b-e9da72cd1761",
   "metadata": {},
   "outputs": [
    {
     "name": "stdout",
     "output_type": "stream",
     "text": [
      "this is my print\n"
     ]
    }
   ],
   "source": [
    "print(\"this is my print\")"
   ]
  },
  {
   "cell_type": "code",
   "execution_count": 2,
   "id": "db80f3bb-cc14-4835-813c-26e8060f677b",
   "metadata": {},
   "outputs": [],
   "source": [
    "#loging module\n",
    "import logging"
   ]
  },
  {
   "cell_type": "code",
   "execution_count": 3,
   "id": "6397fbf4-9916-4bf1-8c21-fa11461ee455",
   "metadata": {},
   "outputs": [],
   "source": [
    "logging.basicConfig(filename = 'test_log', level= logging.INFO) "
   ]
  },
  {
   "cell_type": "code",
   "execution_count": 4,
   "id": "19b23e42-60a9-41e4-bbb1-946570def33b",
   "metadata": {},
   "outputs": [],
   "source": [
    "logging.info(\"log this line of execution\")"
   ]
  },
  {
   "cell_type": "code",
   "execution_count": 5,
   "id": "b46c6a40-06ab-4302-971b-c8f153cd1f5e",
   "metadata": {},
   "outputs": [],
   "source": [
    "logging.info(\"this is my print\")"
   ]
  },
  {
   "cell_type": "code",
   "execution_count": 8,
   "id": "dae5baab-bdd4-4594-b664-f4c46f1c4f4b",
   "metadata": {},
   "outputs": [],
   "source": [
    "logging.debug(\"this is msg\")"
   ]
  },
  {
   "cell_type": "code",
   "execution_count": 11,
   "id": "d4e1a9de-48af-4a5b-83b9-be4e151b91e5",
   "metadata": {},
   "outputs": [],
   "source": [
    "logging.warning(\"this is my wearning msg\")"
   ]
  },
  {
   "cell_type": "code",
   "execution_count": 12,
   "id": "b42ede9e-9bd8-4a43-94e0-3f63cf35fb64",
   "metadata": {},
   "outputs": [],
   "source": [
    "logging.error(\"this is my error\")"
   ]
  },
  {
   "cell_type": "code",
   "execution_count": 13,
   "id": "6b45bbdf-bd1b-4eea-ae79-de9ddb47c88c",
   "metadata": {},
   "outputs": [],
   "source": [
    "logging.critical(\"this is my critical msg\")"
   ]
  },
  {
   "cell_type": "code",
   "execution_count": 15,
   "id": "7e485b78-1dca-4f0a-9992-0c54f518eb86",
   "metadata": {},
   "outputs": [],
   "source": [
    "logging.shutdown()"
   ]
  },
  {
   "cell_type": "code",
   "execution_count": 1,
   "id": "6d218382-74c2-4b20-8a3d-890c948c9843",
   "metadata": {},
   "outputs": [],
   "source": [
    "import logging"
   ]
  },
  {
   "cell_type": "code",
   "execution_count": 2,
   "id": "6be4454b-14ce-46da-bb5f-93fc8560d4cc",
   "metadata": {},
   "outputs": [],
   "source": [
    "logging.basicConfig(filename = \"test1_log\", level = logging.DEBUG, format = '%(asctime)s %(message)s')"
   ]
  },
  {
   "cell_type": "code",
   "execution_count": 3,
   "id": "8167e9dc-7cf2-4bf3-9226-91684cc427ab",
   "metadata": {},
   "outputs": [],
   "source": [
    "logging.info(\"this is my info logging\")\n",
    "logging.error(\"this is my error msg\")\n",
    "logging.critical(\"this is my critical\")"
   ]
  },
  {
   "cell_type": "code",
   "execution_count": 4,
   "id": "1c2048f7-74ca-4c48-86c7-62becb777a80",
   "metadata": {},
   "outputs": [],
   "source": [
    "logging.shutdown()"
   ]
  },
  {
   "cell_type": "code",
   "execution_count": 1,
   "id": "7a7479c9-a3eb-484b-bf1b-3155a979974f",
   "metadata": {},
   "outputs": [],
   "source": [
    "import logging"
   ]
  },
  {
   "cell_type": "code",
   "execution_count": 2,
   "id": "6e1aa2e0-80fc-4fca-96b4-2c791f9a400c",
   "metadata": {},
   "outputs": [],
   "source": [
    "logging.basicConfig(filename = \"test2_log\", level = logging.DEBUG, format = '%(asctime)s %(name)s %(levelname)s %(message)s')"
   ]
  },
  {
   "cell_type": "code",
   "execution_count": 3,
   "id": "6bfd3368-5159-4ea7-99bb-ef6d31467284",
   "metadata": {},
   "outputs": [],
   "source": [
    "logging.info(\"this is my info logging\")\n",
    "logging.error(\"this is my error msg\")\n",
    "logging.critical(\"this is my critical\")"
   ]
  },
  {
   "cell_type": "code",
   "execution_count": 4,
   "id": "6282846b-fa67-4a1d-8103-18857bc9d646",
   "metadata": {},
   "outputs": [],
   "source": [
    "l = [1,2,3,4,[2,3,4,5], \"wasil\", \"sudh\"]"
   ]
  },
  {
   "cell_type": "code",
   "execution_count": 16,
   "id": "38f6156b-756f-4904-abde-0f4d2513e307",
   "metadata": {},
   "outputs": [],
   "source": [
    "l1_int = []\n",
    "l2_str = []\n",
    "for i in l:\n",
    "    logging.info(\"we are iterating our list and local var is {}\".format(l) )\n",
    "    if type(i) == list :\n",
    "        logging.info(\"i am inside if statement and i am trying to check list type\"  + str(i))\n",
    "        for j in i:\n",
    "            logging.info(\" i am another for loop for lsit inside list element\" +str(j))\n",
    "            if type(j) == int:\n",
    "                logging.info(\"i am inside if element\")\n",
    "                l1_int.append(j)\n",
    "    elif type(i) == int:\n",
    "        l1_int.append(i)\n",
    "    else:\n",
    "        if type(i) == str:\n",
    "            l2_str.append(i)\n",
    "logging.info(\"my final result for int is {l1} and str is {l2}\".format(l1 = l1_int, l2 = l2_str))            \n",
    "            "
   ]
  },
  {
   "cell_type": "code",
   "execution_count": 9,
   "id": "8aae1d2c-56d1-48af-9295-6bb064095ec2",
   "metadata": {},
   "outputs": [
    {
     "data": {
      "text/plain": [
       "[1, 2, 3, 4, 2, 3, 4, 5]"
      ]
     },
     "execution_count": 9,
     "metadata": {},
     "output_type": "execute_result"
    }
   ],
   "source": [
    "l1_int"
   ]
  },
  {
   "cell_type": "code",
   "execution_count": 10,
   "id": "ee637b3c-c21d-4112-bc75-b2e6e4063816",
   "metadata": {},
   "outputs": [
    {
     "data": {
      "text/plain": [
       "['wasil', 'sudh']"
      ]
     },
     "execution_count": 10,
     "metadata": {},
     "output_type": "execute_result"
    }
   ],
   "source": [
    "l2_str"
   ]
  },
  {
   "cell_type": "code",
   "execution_count": null,
   "id": "20e03018-377a-4f96-90e6-992945e5954f",
   "metadata": {},
   "outputs": [],
   "source": []
  },
  {
   "cell_type": "code",
   "execution_count": null,
   "id": "75223bfe-ce99-41e9-a9cc-8b4fd33ec3cc",
   "metadata": {},
   "outputs": [],
   "source": []
  },
  {
   "cell_type": "markdown",
   "id": "1f864f68-379e-474f-b5f6-5cf6f2f9a39d",
   "metadata": {},
   "source": [
    "1. NOTSET\n",
    "2. DEBUG\n",
    "3. INFO\n",
    "4. WEARNING\n",
    "5. ERROR\n",
    "6. CRITICAL"
   ]
  },
  {
   "cell_type": "code",
   "execution_count": null,
   "id": "df7da292-1026-4958-b5d3-68a723b58e24",
   "metadata": {},
   "outputs": [],
   "source": []
  }
 ],
 "metadata": {
  "kernelspec": {
   "display_name": "Python 3 (ipykernel)",
   "language": "python",
   "name": "python3"
  },
  "language_info": {
   "codemirror_mode": {
    "name": "ipython",
    "version": 3
   },
   "file_extension": ".py",
   "mimetype": "text/x-python",
   "name": "python",
   "nbconvert_exporter": "python",
   "pygments_lexer": "ipython3",
   "version": "3.12.7"
  }
 },
 "nbformat": 4,
 "nbformat_minor": 5
}
