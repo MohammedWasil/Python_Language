{
 "cells": [
  {
   "cell_type": "code",
   "execution_count": 1,
   "id": "152d7bc2-5187-4540-ba13-dbd025d39425",
   "metadata": {},
   "outputs": [],
   "source": [
    "def test(a, b) :\n",
    "    return a+b"
   ]
  },
  {
   "cell_type": "code",
   "execution_count": 2,
   "id": "d8763168-8109-4e1b-a756-1610c58733fb",
   "metadata": {},
   "outputs": [
    {
     "data": {
      "text/plain": [
       "7"
      ]
     },
     "execution_count": 2,
     "metadata": {},
     "output_type": "execute_result"
    }
   ],
   "source": [
    "test(3,4)"
   ]
  },
  {
   "cell_type": "code",
   "execution_count": 3,
   "id": "6986e40e-1a58-4634-b397-8fea6c7819c6",
   "metadata": {},
   "outputs": [
    {
     "data": {
      "text/plain": [
       "'sudh kumar'"
      ]
     },
     "execution_count": 3,
     "metadata": {},
     "output_type": "execute_result"
    }
   ],
   "source": [
    "test(\"sudh\", \" kumar\")"
   ]
  },
  {
   "cell_type": "code",
   "execution_count": 4,
   "id": "67a39b2e-7194-4e9b-bd15-8acd632aaa01",
   "metadata": {},
   "outputs": [
    {
     "data": {
      "text/plain": [
       "[1, 2, 3, 4, 5, 6]"
      ]
     },
     "execution_count": 4,
     "metadata": {},
     "output_type": "execute_result"
    }
   ],
   "source": [
    "test([1,2,3],[4,5,6])"
   ]
  },
  {
   "cell_type": "code",
   "execution_count": 5,
   "id": "643c11b9-4c20-4b25-9d06-a393973da00e",
   "metadata": {},
   "outputs": [],
   "source": [
    "class data_science:\n",
    "\n",
    "    def syllabus(self):\n",
    "        print(\"this is my syllabus for data science masters\")"
   ]
  },
  {
   "cell_type": "code",
   "execution_count": 6,
   "id": "8edab53e-3795-49f2-8e9b-80a926a28137",
   "metadata": {},
   "outputs": [],
   "source": [
    "class web_dev:\n",
    "\n",
    "    def syllabus(self):\n",
    "        print(\"thsi is my syllabus for web dev\")"
   ]
  },
  {
   "cell_type": "code",
   "execution_count": 7,
   "id": "fc4e0990-a445-4011-b0e5-ce4dcb16d3ce",
   "metadata": {},
   "outputs": [],
   "source": [
    "def class_parcer(class_obj):\n",
    "    for i in class_obj:\n",
    "        i.syllabus()"
   ]
  },
  {
   "cell_type": "code",
   "execution_count": 8,
   "id": "0e742716-d344-4ec0-8a71-826851b96a85",
   "metadata": {},
   "outputs": [],
   "source": [
    "data_science = data_science()"
   ]
  },
  {
   "cell_type": "code",
   "execution_count": 10,
   "id": "370cd972-00f4-4e40-b66b-a68ec3e40a66",
   "metadata": {},
   "outputs": [],
   "source": [
    "web_dev = web_dev()"
   ]
  },
  {
   "cell_type": "code",
   "execution_count": 12,
   "id": "b86d42d0-76a7-4462-a96b-ad8451ba044d",
   "metadata": {},
   "outputs": [],
   "source": [
    "class_obj = [data_science, web_dev]"
   ]
  },
  {
   "cell_type": "code",
   "execution_count": 13,
   "id": "91de1668-5b60-4ab1-90fc-ccd5a61d99d8",
   "metadata": {},
   "outputs": [
    {
     "name": "stdout",
     "output_type": "stream",
     "text": [
      "this is my syllabus for data science masters\n",
      "thsi is my syllabus for web dev\n"
     ]
    }
   ],
   "source": [
    "class_parcer(class_obj)"
   ]
  },
  {
   "cell_type": "markdown",
   "id": "1d855ca2-5299-4b9d-b662-5e7a18d7a496",
   "metadata": {},
   "source": [
    "TOPICS -> Encapsulation"
   ]
  },
  {
   "cell_type": "code",
   "execution_count": 1,
   "id": "b1052054-389e-4e5e-b24c-d38852906bc8",
   "metadata": {},
   "outputs": [],
   "source": [
    "class test:\n",
    "\n",
    "    def __init__(self, a, b):\n",
    "        self.a = a\n",
    "        self.b = b"
   ]
  },
  {
   "cell_type": "code",
   "execution_count": 2,
   "id": "81b9ebde-d7f9-44d2-b4ec-05d74a42a91c",
   "metadata": {},
   "outputs": [],
   "source": [
    "t = test(23,3)"
   ]
  },
  {
   "cell_type": "code",
   "execution_count": 3,
   "id": "3e385181-c1c9-4830-8322-695152840f06",
   "metadata": {},
   "outputs": [],
   "source": [
    "t.a = 54532"
   ]
  },
  {
   "cell_type": "code",
   "execution_count": 4,
   "id": "311bb341-2107-479e-b5b0-1515880f963b",
   "metadata": {},
   "outputs": [
    {
     "data": {
      "text/plain": [
       "54532"
      ]
     },
     "execution_count": 4,
     "metadata": {},
     "output_type": "execute_result"
    }
   ],
   "source": [
    "t.a"
   ]
  },
  {
   "cell_type": "code",
   "execution_count": 17,
   "id": "d56d9088-fc45-4d83-8838-e64a1bf7467b",
   "metadata": {},
   "outputs": [],
   "source": [
    "class car:\n",
    "    def __init__(self, year, make, model, speed):\n",
    "\n",
    "        self.__year = year     #__ user sai hide kar diya hai \n",
    "        self.__model = make\n",
    "        self.__model = model\n",
    "        self.__speed = 0\n",
    "\n",
    "    def set_speed(self, speed):\n",
    "       self.__speed = 0 if speed < 0 else speed\n",
    "\n",
    "    def get_speed(self):\n",
    "      return self.__speed"
   ]
  },
  {
   "cell_type": "code",
   "execution_count": 18,
   "id": "da3182b6-d93e-44b8-89f5-ee03d3f3fc3e",
   "metadata": {},
   "outputs": [],
   "source": [
    "c = car(2021, \"toyata\", \"innova\", 12)"
   ]
  },
  {
   "cell_type": "code",
   "execution_count": 19,
   "id": "d2a5cf89-6b4c-41a8-b235-d5aac60e3829",
   "metadata": {},
   "outputs": [
    {
     "data": {
      "text/plain": [
       "2021"
      ]
     },
     "execution_count": 19,
     "metadata": {},
     "output_type": "execute_result"
    }
   ],
   "source": [
    "c._car__year  # __ sai private ho ga ay hai variable"
   ]
  },
  {
   "cell_type": "code",
   "execution_count": 20,
   "id": "8cd2d3a3-bc30-456c-bf44-1f98a7063344",
   "metadata": {},
   "outputs": [],
   "source": [
    "c.set_speed(-243)"
   ]
  },
  {
   "cell_type": "code",
   "execution_count": 21,
   "id": "f4f0f002-bc85-4d5e-a16b-ef13d7064f62",
   "metadata": {},
   "outputs": [
    {
     "data": {
      "text/plain": [
       "0"
      ]
     },
     "execution_count": 21,
     "metadata": {},
     "output_type": "execute_result"
    }
   ],
   "source": [
    "c.get_speed()"
   ]
  },
  {
   "cell_type": "code",
   "execution_count": 22,
   "id": "b475721c-59e6-49b7-9431-11e614b61e3d",
   "metadata": {},
   "outputs": [],
   "source": [
    "c.set_speed(343)"
   ]
  },
  {
   "cell_type": "code",
   "execution_count": 23,
   "id": "d5cd24c4-0f0e-4ec4-b0ed-5f6bf846ffa9",
   "metadata": {},
   "outputs": [
    {
     "data": {
      "text/plain": [
       "343"
      ]
     },
     "execution_count": 23,
     "metadata": {},
     "output_type": "execute_result"
    }
   ],
   "source": [
    "c.get_speed()"
   ]
  },
  {
   "cell_type": "code",
   "execution_count": 34,
   "id": "fa71f056-0542-4fb1-83ad-b6dc242e77db",
   "metadata": {},
   "outputs": [],
   "source": [
    "class bank_account:\n",
    "    def __init__(self, balance):\n",
    "        self.__balance = balance\n",
    "\n",
    "    def deposit(self, amount):\n",
    "        self.__balance = self.__balance + amount\n",
    "\n",
    "    def withdraw(self, amount):\n",
    "        if self.__balance >= amount :\n",
    "           self.__balance = self.__balance - amount\n",
    "           return True\n",
    "        else :\n",
    "           return False\n",
    "\n",
    "    def get_balance(self):\n",
    "       return self.__balance\n",
    "       "
   ]
  },
  {
   "cell_type": "code",
   "execution_count": 35,
   "id": "ac94ead8-5b25-490b-95e8-62ccde168141",
   "metadata": {},
   "outputs": [],
   "source": [
    "wasil = bank_account(1000)"
   ]
  },
  {
   "cell_type": "code",
   "execution_count": 36,
   "id": "bd1e45f4-3064-4283-b5c9-01bded77a179",
   "metadata": {},
   "outputs": [],
   "source": [
    "wasil.deposit(500)"
   ]
  },
  {
   "cell_type": "code",
   "execution_count": 37,
   "id": "c581661a-7e17-4982-b8a7-e0dba786fe2c",
   "metadata": {},
   "outputs": [
    {
     "data": {
      "text/plain": [
       "1500"
      ]
     },
     "execution_count": 37,
     "metadata": {},
     "output_type": "execute_result"
    }
   ],
   "source": [
    "wasil.get_balance()"
   ]
  },
  {
   "cell_type": "code",
   "execution_count": 38,
   "id": "e47a5374-aec2-4918-8a2c-351782864128",
   "metadata": {},
   "outputs": [
    {
     "data": {
      "text/plain": [
       "True"
      ]
     },
     "execution_count": 38,
     "metadata": {},
     "output_type": "execute_result"
    }
   ],
   "source": [
    "wasil.withdraw(200)"
   ]
  },
  {
   "cell_type": "code",
   "execution_count": 39,
   "id": "c2b41481-8a45-47f9-87e7-5124088ee973",
   "metadata": {},
   "outputs": [
    {
     "data": {
      "text/plain": [
       "1300"
      ]
     },
     "execution_count": 39,
     "metadata": {},
     "output_type": "execute_result"
    }
   ],
   "source": [
    "wasil.get_balance()"
   ]
  },
  {
   "cell_type": "code",
   "execution_count": null,
   "id": "b5d5c5e9-6feb-4aab-8f45-43456bec5524",
   "metadata": {},
   "outputs": [],
   "source": []
  }
 ],
 "metadata": {
  "kernelspec": {
   "display_name": "Python 3 (ipykernel)",
   "language": "python",
   "name": "python3"
  },
  "language_info": {
   "codemirror_mode": {
    "name": "ipython",
    "version": 3
   },
   "file_extension": ".py",
   "mimetype": "text/x-python",
   "name": "python",
   "nbconvert_exporter": "python",
   "pygments_lexer": "ipython3",
   "version": "3.12.7"
  }
 },
 "nbformat": 4,
 "nbformat_minor": 5
}
