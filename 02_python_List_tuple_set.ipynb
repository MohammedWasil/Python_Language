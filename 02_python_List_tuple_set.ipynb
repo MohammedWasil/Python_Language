{
 "cells": [
  {
   "cell_type": "markdown",
   "id": "0432bdf5-44e2-41d0-90dd-2cbfdd5ace1c",
   "metadata": {},
   "source": [
    "Topic -> List"
   ]
  },
  {
   "cell_type": "code",
   "execution_count": 1,
   "id": "6ddb03a7-4040-4427-9a5a-622f2d411d86",
   "metadata": {},
   "outputs": [],
   "source": [
    "l = [1,345,45, \"wasil\", True, 5+7j, 343.345] "
   ]
  },
  {
   "cell_type": "code",
   "execution_count": 2,
   "id": "5300a5e4-a57b-4f21-b5a6-7b3c35a984ed",
   "metadata": {},
   "outputs": [
    {
     "data": {
      "text/plain": [
       "list"
      ]
     },
     "execution_count": 2,
     "metadata": {},
     "output_type": "execute_result"
    }
   ],
   "source": [
    "type(l)"
   ]
  },
  {
   "cell_type": "code",
   "execution_count": 3,
   "id": "658aeeec-2ce2-4e2c-a1a8-53c2974267bb",
   "metadata": {},
   "outputs": [
    {
     "data": {
      "text/plain": [
       "1"
      ]
     },
     "execution_count": 3,
     "metadata": {},
     "output_type": "execute_result"
    }
   ],
   "source": [
    "l[0]"
   ]
  },
  {
   "cell_type": "code",
   "execution_count": 4,
   "id": "edd37ca1-ccdc-4382-ba49-a5edcdcd68d0",
   "metadata": {},
   "outputs": [
    {
     "data": {
      "text/plain": [
       "343.345"
      ]
     },
     "execution_count": 4,
     "metadata": {},
     "output_type": "execute_result"
    }
   ],
   "source": [
    "l[6]"
   ]
  },
  {
   "cell_type": "code",
   "execution_count": 5,
   "id": "76270843-ccb1-4159-812e-57ec9f4a22a4",
   "metadata": {},
   "outputs": [
    {
     "ename": "IndexError",
     "evalue": "list index out of range",
     "output_type": "error",
     "traceback": [
      "\u001b[1;31m---------------------------------------------------------------------------\u001b[0m",
      "\u001b[1;31mIndexError\u001b[0m                                Traceback (most recent call last)",
      "Cell \u001b[1;32mIn[5], line 1\u001b[0m\n\u001b[1;32m----> 1\u001b[0m l[\u001b[38;5;241m90\u001b[39m]\n",
      "\u001b[1;31mIndexError\u001b[0m: list index out of range"
     ]
    }
   ],
   "source": [
    "l[90] # error"
   ]
  },
  {
   "cell_type": "code",
   "execution_count": 6,
   "id": "8cd8073b-65b7-488e-abe0-75c5a6dfc464",
   "metadata": {},
   "outputs": [
    {
     "data": {
      "text/plain": [
       "[1, 345, 45]"
      ]
     },
     "execution_count": 6,
     "metadata": {},
     "output_type": "execute_result"
    }
   ],
   "source": [
    "l[0:3]"
   ]
  },
  {
   "cell_type": "code",
   "execution_count": 7,
   "id": "f371381e-cdef-4d44-89ac-a8d70778c7ec",
   "metadata": {},
   "outputs": [
    {
     "data": {
      "text/plain": [
       "343.345"
      ]
     },
     "execution_count": 7,
     "metadata": {},
     "output_type": "execute_result"
    }
   ],
   "source": [
    "l[-1]"
   ]
  },
  {
   "cell_type": "code",
   "execution_count": 8,
   "id": "93b312ee-7413-4fdf-bc60-50d4b819db1f",
   "metadata": {},
   "outputs": [
    {
     "data": {
      "text/plain": [
       "[343.345, (5+7j), True, 'wasil', 45, 345, 1]"
      ]
     },
     "execution_count": 8,
     "metadata": {},
     "output_type": "execute_result"
    }
   ],
   "source": [
    "l[::-1]  #reverse list"
   ]
  },
  {
   "cell_type": "code",
   "execution_count": 9,
   "id": "870106b9-e2b6-41a7-94bc-c176cfaa550f",
   "metadata": {},
   "outputs": [
    {
     "data": {
      "text/plain": [
       "[1, 45, True, 343.345]"
      ]
     },
     "execution_count": 9,
     "metadata": {},
     "output_type": "execute_result"
    }
   ],
   "source": [
    "l[::2] # even index in list "
   ]
  },
  {
   "cell_type": "code",
   "execution_count": 10,
   "id": "e09e40fa-39e4-48d9-982a-b12edf52d3ed",
   "metadata": {},
   "outputs": [
    {
     "data": {
      "text/plain": [
       "[1, 345, 45, 'wasil', True, (5+7j), 343.345]"
      ]
     },
     "execution_count": 10,
     "metadata": {},
     "output_type": "execute_result"
    }
   ],
   "source": [
    "l"
   ]
  },
  {
   "cell_type": "code",
   "execution_count": 11,
   "id": "1c84897e-52e2-4f95-99eb-4739b846e2b5",
   "metadata": {},
   "outputs": [],
   "source": [
    "s = \"pwskills\""
   ]
  },
  {
   "cell_type": "code",
   "execution_count": 12,
   "id": "93515995-f3b9-4fa1-af1c-f71bddc9eafa",
   "metadata": {},
   "outputs": [
    {
     "ename": "TypeError",
     "evalue": "can only concatenate list (not \"str\") to list",
     "output_type": "error",
     "traceback": [
      "\u001b[1;31m---------------------------------------------------------------------------\u001b[0m",
      "\u001b[1;31mTypeError\u001b[0m                                 Traceback (most recent call last)",
      "Cell \u001b[1;32mIn[12], line 1\u001b[0m\n\u001b[1;32m----> 1\u001b[0m l\u001b[38;5;241m+\u001b[39ms\n",
      "\u001b[1;31mTypeError\u001b[0m: can only concatenate list (not \"str\") to list"
     ]
    }
   ],
   "source": [
    "l+s # error"
   ]
  },
  {
   "cell_type": "code",
   "execution_count": 13,
   "id": "ec361f50-5264-4d58-a4e7-d17775c12a58",
   "metadata": {},
   "outputs": [
    {
     "data": {
      "text/plain": [
       "['p',\n",
       " 'w',\n",
       " 's',\n",
       " 'k',\n",
       " 'i',\n",
       " 'l',\n",
       " 'l',\n",
       " 's',\n",
       " 1,\n",
       " 345,\n",
       " 45,\n",
       " 'wasil',\n",
       " True,\n",
       " (5+7j),\n",
       " 343.345]"
      ]
     },
     "execution_count": 13,
     "metadata": {},
     "output_type": "execute_result"
    }
   ],
   "source": [
    "list(s) + l"
   ]
  },
  {
   "cell_type": "code",
   "execution_count": 14,
   "id": "fb0fda79-60cc-4f34-83b5-9b21bcd00001",
   "metadata": {},
   "outputs": [],
   "source": [
    "l1 = l[3]"
   ]
  },
  {
   "cell_type": "code",
   "execution_count": 15,
   "id": "2eafc1ca-3aa5-4e29-b6a1-ab2f33496cfc",
   "metadata": {},
   "outputs": [
    {
     "data": {
      "text/plain": [
       "'wa'"
      ]
     },
     "execution_count": 15,
     "metadata": {},
     "output_type": "execute_result"
    }
   ],
   "source": [
    "l1[:2]"
   ]
  },
  {
   "cell_type": "code",
   "execution_count": 16,
   "id": "6d0955dc-77db-4cf4-b517-d429a09213f5",
   "metadata": {},
   "outputs": [
    {
     "data": {
      "text/plain": [
       "'wa'"
      ]
     },
     "execution_count": 16,
     "metadata": {},
     "output_type": "execute_result"
    }
   ],
   "source": [
    "l[3][0:2]"
   ]
  },
  {
   "cell_type": "code",
   "execution_count": 17,
   "id": "53bd9205-2ef8-46c0-ac80-e7dc4fbe1215",
   "metadata": {},
   "outputs": [
    {
     "data": {
      "text/plain": [
       "'Tr'"
      ]
     },
     "execution_count": 17,
     "metadata": {},
     "output_type": "execute_result"
    }
   ],
   "source": [
    "str(l[4])[0:2]"
   ]
  },
  {
   "cell_type": "code",
   "execution_count": 18,
   "id": "6a761125-ce47-40e0-9cc0-d56d94a89c06",
   "metadata": {},
   "outputs": [
    {
     "ename": "TypeError",
     "evalue": "can only concatenate list (not \"int\") to list",
     "output_type": "error",
     "traceback": [
      "\u001b[1;31m---------------------------------------------------------------------------\u001b[0m",
      "\u001b[1;31mTypeError\u001b[0m                                 Traceback (most recent call last)",
      "Cell \u001b[1;32mIn[18], line 1\u001b[0m\n\u001b[1;32m----> 1\u001b[0m l\u001b[38;5;241m+\u001b[39m \u001b[38;5;241m5\u001b[39m\n",
      "\u001b[1;31mTypeError\u001b[0m: can only concatenate list (not \"int\") to list"
     ]
    }
   ],
   "source": [
    "l+ 5"
   ]
  },
  {
   "cell_type": "code",
   "execution_count": 1,
   "id": "dc683331-415b-42a8-ab6e-36a9a739a0e2",
   "metadata": {},
   "outputs": [],
   "source": [
    "l2 = [3,4,5]"
   ]
  },
  {
   "cell_type": "code",
   "execution_count": 20,
   "id": "1cfbcbdf-062d-4487-afa3-87b6bfc86265",
   "metadata": {},
   "outputs": [
    {
     "data": {
      "text/plain": [
       "[1, 345, 45, 'wasil', True, (5+7j), 343.345, 3, 4, 5]"
      ]
     },
     "execution_count": 20,
     "metadata": {},
     "output_type": "execute_result"
    }
   ],
   "source": [
    "l + l2 # concatenate"
   ]
  },
  {
   "cell_type": "code",
   "execution_count": 21,
   "id": "03214ef7-ed5a-4b7f-ae5d-257470533a7c",
   "metadata": {},
   "outputs": [
    {
     "data": {
      "text/plain": [
       "[3, 4, 5, 3, 4, 5, 3, 4, 5]"
      ]
     },
     "execution_count": 21,
     "metadata": {},
     "output_type": "execute_result"
    }
   ],
   "source": [
    "l2 * 3"
   ]
  },
  {
   "cell_type": "code",
   "execution_count": 22,
   "id": "0936e36d-5a26-46d6-926b-bbd9b518a2d0",
   "metadata": {},
   "outputs": [
    {
     "data": {
      "text/plain": [
       "[1, 345, 45, 'wasil', True, (5+7j), 343.345]"
      ]
     },
     "execution_count": 22,
     "metadata": {},
     "output_type": "execute_result"
    }
   ],
   "source": [
    "l"
   ]
  },
  {
   "cell_type": "code",
   "execution_count": 23,
   "id": "d3e359be-2114-4c30-82cc-ec71d8d6806d",
   "metadata": {},
   "outputs": [
    {
     "data": {
      "text/plain": [
       "7"
      ]
     },
     "execution_count": 23,
     "metadata": {},
     "output_type": "execute_result"
    }
   ],
   "source": [
    "len(l)"
   ]
  },
  {
   "cell_type": "code",
   "execution_count": 26,
   "id": "63e3c637-a988-45d0-8d76-789ff9901167",
   "metadata": {},
   "outputs": [],
   "source": [
    "l.append(5) # append method"
   ]
  },
  {
   "cell_type": "code",
   "execution_count": 27,
   "id": "82aa7a8d-100b-4a30-9bfc-127d21c98542",
   "metadata": {},
   "outputs": [
    {
     "data": {
      "text/plain": [
       "[1, 345, 45, 'wasil', True, (5+7j), 343.345, 5, 5, 5]"
      ]
     },
     "execution_count": 27,
     "metadata": {},
     "output_type": "execute_result"
    }
   ],
   "source": [
    "l"
   ]
  },
  {
   "cell_type": "code",
   "execution_count": 28,
   "id": "4b592ad4-57d0-435c-b814-90fbab09c2fe",
   "metadata": {},
   "outputs": [],
   "source": [
    "l.append(s) # string add using append method"
   ]
  },
  {
   "cell_type": "code",
   "execution_count": 29,
   "id": "5f0c385d-cba3-4335-89a2-09fbd6b2ac99",
   "metadata": {},
   "outputs": [
    {
     "data": {
      "text/plain": [
       "[1, 345, 45, 'wasil', True, (5+7j), 343.345, 5, 5, 5, 'pwskills']"
      ]
     },
     "execution_count": 29,
     "metadata": {},
     "output_type": "execute_result"
    }
   ],
   "source": [
    "l"
   ]
  },
  {
   "cell_type": "code",
   "execution_count": 30,
   "id": "6b4f6c42-29f7-42cd-ad8c-e2119dc3553a",
   "metadata": {},
   "outputs": [
    {
     "data": {
      "text/plain": [
       "[1, 345, 45, 'wasil', True, (5+7j), 343.345, 5, 5, 5, 'pwskills']"
      ]
     },
     "execution_count": 30,
     "metadata": {},
     "output_type": "execute_result"
    }
   ],
   "source": [
    "l"
   ]
  },
  {
   "cell_type": "code",
   "execution_count": 31,
   "id": "dfe05b6c-c406-4b35-872f-c51f7b5317b9",
   "metadata": {},
   "outputs": [],
   "source": [
    "l.append(l2) # list add another list add using appednd"
   ]
  },
  {
   "cell_type": "code",
   "execution_count": 32,
   "id": "6c148716-21de-43fa-9525-4eec10308cbf",
   "metadata": {},
   "outputs": [
    {
     "data": {
      "text/plain": [
       "[1, 345, 45, 'wasil', True, (5+7j), 343.345, 5, 5, 5, 'pwskills', [3, 4, 5]]"
      ]
     },
     "execution_count": 32,
     "metadata": {},
     "output_type": "execute_result"
    }
   ],
   "source": [
    "l"
   ]
  },
  {
   "cell_type": "code",
   "execution_count": 34,
   "id": "5261340a-8538-4f40-b5ef-2b6e43e744e5",
   "metadata": {},
   "outputs": [
    {
     "data": {
      "text/plain": [
       "4"
      ]
     },
     "execution_count": 34,
     "metadata": {},
     "output_type": "execute_result"
    }
   ],
   "source": [
    "l[-1][1]"
   ]
  },
  {
   "cell_type": "code",
   "execution_count": 35,
   "id": "4dfe47e0-c5df-409f-b73a-5a37d9694e7a",
   "metadata": {},
   "outputs": [
    {
     "ename": "TypeError",
     "evalue": "'int' object is not iterable",
     "output_type": "error",
     "traceback": [
      "\u001b[1;31m---------------------------------------------------------------------------\u001b[0m",
      "\u001b[1;31mTypeError\u001b[0m                                 Traceback (most recent call last)",
      "Cell \u001b[1;32mIn[35], line 1\u001b[0m\n\u001b[1;32m----> 1\u001b[0m l\u001b[38;5;241m.\u001b[39mextend(\u001b[38;5;241m4\u001b[39m)\n",
      "\u001b[1;31mTypeError\u001b[0m: 'int' object is not iterable"
     ]
    }
   ],
   "source": [
    "l.extend(4)   # extend add iterable data"
   ]
  },
  {
   "cell_type": "code",
   "execution_count": 36,
   "id": "3dc81799-ac88-49db-8ce1-82acc56c3b17",
   "metadata": {},
   "outputs": [],
   "source": [
    "l.extend(\"wasil\")"
   ]
  },
  {
   "cell_type": "code",
   "execution_count": 37,
   "id": "89da25ea-2a60-4c2c-9bc0-4eb8010592b6",
   "metadata": {},
   "outputs": [
    {
     "data": {
      "text/plain": [
       "[1,\n",
       " 345,\n",
       " 45,\n",
       " 'wasil',\n",
       " True,\n",
       " (5+7j),\n",
       " 343.345,\n",
       " 5,\n",
       " 5,\n",
       " 5,\n",
       " 'pwskills',\n",
       " [3, 4, 5],\n",
       " 'w',\n",
       " 'a',\n",
       " 's',\n",
       " 'i',\n",
       " 'l']"
      ]
     },
     "execution_count": 37,
     "metadata": {},
     "output_type": "execute_result"
    }
   ],
   "source": [
    "l"
   ]
  },
  {
   "cell_type": "code",
   "execution_count": 38,
   "id": "58c836d9-1409-4bfc-b9f3-f2d8625d420f",
   "metadata": {},
   "outputs": [],
   "source": [
    "l.extend([3,4,5])"
   ]
  },
  {
   "cell_type": "code",
   "execution_count": 39,
   "id": "6e79a11a-7a27-4925-83a4-d47d9a596dde",
   "metadata": {},
   "outputs": [
    {
     "data": {
      "text/plain": [
       "[1,\n",
       " 345,\n",
       " 45,\n",
       " 'wasil',\n",
       " True,\n",
       " (5+7j),\n",
       " 343.345,\n",
       " 5,\n",
       " 5,\n",
       " 5,\n",
       " 'pwskills',\n",
       " [3, 4, 5],\n",
       " 'w',\n",
       " 'a',\n",
       " 's',\n",
       " 'i',\n",
       " 'l',\n",
       " 3,\n",
       " 4,\n",
       " 5]"
      ]
     },
     "execution_count": 39,
     "metadata": {},
     "output_type": "execute_result"
    }
   ],
   "source": [
    "l"
   ]
  },
  {
   "cell_type": "code",
   "execution_count": 40,
   "id": "cb24998a-89de-4c82-915b-40b2c29fd868",
   "metadata": {},
   "outputs": [],
   "source": [
    "l2.insert(1,\"wasil\")  # data add first and any index position in list "
   ]
  },
  {
   "cell_type": "code",
   "execution_count": 41,
   "id": "1c67f227-5f81-4ac5-bb6c-d4c91509c932",
   "metadata": {},
   "outputs": [
    {
     "data": {
      "text/plain": [
       "[3, 'wasil', 4, 5]"
      ]
     },
     "execution_count": 41,
     "metadata": {},
     "output_type": "execute_result"
    }
   ],
   "source": [
    "l2"
   ]
  },
  {
   "cell_type": "code",
   "execution_count": 42,
   "id": "ef61f875-9c93-4027-ba6a-fb87b0e9727d",
   "metadata": {},
   "outputs": [],
   "source": [
    "l2.insert(2,[2,3,4])"
   ]
  },
  {
   "cell_type": "code",
   "execution_count": 43,
   "id": "aaccb2e2-4d53-4b1c-9047-d009881a5e36",
   "metadata": {},
   "outputs": [
    {
     "data": {
      "text/plain": [
       "[3, 'wasil', [2, 3, 4], 4, 5]"
      ]
     },
     "execution_count": 43,
     "metadata": {},
     "output_type": "execute_result"
    }
   ],
   "source": [
    "l2"
   ]
  },
  {
   "cell_type": "code",
   "execution_count": 44,
   "id": "33f868a5-b683-4d01-b4cc-e5ac2d9695f9",
   "metadata": {},
   "outputs": [],
   "source": [
    "l2.insert(-1,45)"
   ]
  },
  {
   "cell_type": "code",
   "execution_count": 45,
   "id": "203ed6b7-d629-4faa-abe8-2a303c9eadc0",
   "metadata": {
    "collapsed": true,
    "jupyter": {
     "outputs_hidden": true
    }
   },
   "outputs": [
    {
     "data": {
      "text/plain": [
       "[3, 'wasil', [2, 3, 4], 4, 45, 5]"
      ]
     },
     "execution_count": 45,
     "metadata": {},
     "output_type": "execute_result"
    }
   ],
   "source": [
    "l2"
   ]
  },
  {
   "cell_type": "code",
   "execution_count": 46,
   "id": "a09328f3-f0e4-43d5-a671-ad878b09d0f9",
   "metadata": {},
   "outputs": [
    {
     "data": {
      "text/plain": [
       "[1,\n",
       " 345,\n",
       " 45,\n",
       " 'wasil',\n",
       " True,\n",
       " (5+7j),\n",
       " 343.345,\n",
       " 5,\n",
       " 5,\n",
       " 5,\n",
       " 'pwskills',\n",
       " [3, 'wasil', [2, 3, 4], 4, 45, 5],\n",
       " 'w',\n",
       " 'a',\n",
       " 's',\n",
       " 'i',\n",
       " 'l',\n",
       " 3,\n",
       " 4,\n",
       " 5]"
      ]
     },
     "execution_count": 46,
     "metadata": {},
     "output_type": "execute_result"
    }
   ],
   "source": [
    "l"
   ]
  },
  {
   "cell_type": "code",
   "execution_count": 47,
   "id": "fbb6e959-7fcc-46c6-aa8a-ad922d73fd0c",
   "metadata": {},
   "outputs": [
    {
     "data": {
      "text/plain": [
       "[3, 'wasil', [2, 3, 4], 4, 45, 5]"
      ]
     },
     "execution_count": 47,
     "metadata": {},
     "output_type": "execute_result"
    }
   ],
   "source": [
    "l2"
   ]
  },
  {
   "cell_type": "code",
   "execution_count": 48,
   "id": "d77cc299-0a7d-4fdf-8bf8-3941618d70cb",
   "metadata": {},
   "outputs": [
    {
     "data": {
      "text/plain": [
       "5"
      ]
     },
     "execution_count": 48,
     "metadata": {},
     "output_type": "execute_result"
    }
   ],
   "source": [
    "l2.pop()  # remove data in list "
   ]
  },
  {
   "cell_type": "code",
   "execution_count": 49,
   "id": "3a532a82-8319-4209-bc03-436c92107cae",
   "metadata": {},
   "outputs": [
    {
     "data": {
      "text/plain": [
       "[3, 'wasil', [2, 3, 4], 4, 45]"
      ]
     },
     "execution_count": 49,
     "metadata": {},
     "output_type": "execute_result"
    }
   ],
   "source": [
    "l2"
   ]
  },
  {
   "cell_type": "code",
   "execution_count": 50,
   "id": "f9055018-2f61-4bb1-aebc-e874c1e9a3b5",
   "metadata": {},
   "outputs": [
    {
     "data": {
      "text/plain": [
       "[2, 3, 4]"
      ]
     },
     "execution_count": 50,
     "metadata": {},
     "output_type": "execute_result"
    }
   ],
   "source": [
    "l2.pop(2)"
   ]
  },
  {
   "cell_type": "code",
   "execution_count": 51,
   "id": "a7ee7db2-8798-4ff9-a2ce-ef5ffb741bed",
   "metadata": {},
   "outputs": [
    {
     "data": {
      "text/plain": [
       "[3, 'wasil', 4, 45]"
      ]
     },
     "execution_count": 51,
     "metadata": {},
     "output_type": "execute_result"
    }
   ],
   "source": [
    "l2"
   ]
  },
  {
   "cell_type": "code",
   "execution_count": 52,
   "id": "88ed4881-3e52-4532-aec8-e37fc03c1fc0",
   "metadata": {},
   "outputs": [],
   "source": [
    "l2.remove(4)   # pass a value in remove method and remove"
   ]
  },
  {
   "cell_type": "code",
   "execution_count": 53,
   "id": "25015f76-3b15-40f5-9398-05175c8ffe99",
   "metadata": {},
   "outputs": [
    {
     "data": {
      "text/plain": [
       "[3, 'wasil', 45]"
      ]
     },
     "execution_count": 53,
     "metadata": {},
     "output_type": "execute_result"
    }
   ],
   "source": [
    "l2"
   ]
  },
  {
   "cell_type": "code",
   "execution_count": 54,
   "id": "b3f591fd-9b52-44f5-b4a0-3fe186d1ed59",
   "metadata": {},
   "outputs": [
    {
     "ename": "ValueError",
     "evalue": "list.remove(x): x not in list",
     "output_type": "error",
     "traceback": [
      "\u001b[1;31m---------------------------------------------------------------------------\u001b[0m",
      "\u001b[1;31mValueError\u001b[0m                                Traceback (most recent call last)",
      "Cell \u001b[1;32mIn[54], line 1\u001b[0m\n\u001b[1;32m----> 1\u001b[0m l2\u001b[38;5;241m.\u001b[39mremove(\u001b[38;5;241m234\u001b[39m)\n",
      "\u001b[1;31mValueError\u001b[0m: list.remove(x): x not in list"
     ]
    }
   ],
   "source": [
    "l2.remove(234)"
   ]
  },
  {
   "cell_type": "code",
   "execution_count": 2,
   "id": "7e6a33bc-e5ac-4016-a2fd-151248df642a",
   "metadata": {},
   "outputs": [
    {
     "data": {
      "text/plain": [
       "[3, 4, 5]"
      ]
     },
     "execution_count": 2,
     "metadata": {},
     "output_type": "execute_result"
    }
   ],
   "source": [
    "l2"
   ]
  },
  {
   "cell_type": "code",
   "execution_count": 3,
   "id": "f8bea1d4-3886-454b-b151-ddb1d5a9118a",
   "metadata": {},
   "outputs": [],
   "source": [
    "l2.insert(1,\"wasil\")"
   ]
  },
  {
   "cell_type": "code",
   "execution_count": 4,
   "id": "d916e4e9-28f3-49f6-83db-628eff39367f",
   "metadata": {},
   "outputs": [
    {
     "data": {
      "text/plain": [
       "[3, 'wasil', 4, 5]"
      ]
     },
     "execution_count": 4,
     "metadata": {},
     "output_type": "execute_result"
    }
   ],
   "source": [
    "l2"
   ]
  },
  {
   "cell_type": "code",
   "execution_count": 5,
   "id": "7563bc1a-48be-434a-9893-e90c98958c1b",
   "metadata": {},
   "outputs": [],
   "source": [
    "l2.insert(2,[2,3,4])"
   ]
  },
  {
   "cell_type": "code",
   "execution_count": 6,
   "id": "b2ba19ef-7639-405c-bc44-66ec7a6229c5",
   "metadata": {},
   "outputs": [
    {
     "data": {
      "text/plain": [
       "[3, 'wasil', [2, 3, 4], 4, 5]"
      ]
     },
     "execution_count": 6,
     "metadata": {},
     "output_type": "execute_result"
    }
   ],
   "source": [
    "l2"
   ]
  },
  {
   "cell_type": "code",
   "execution_count": 7,
   "id": "f4ddf734-5001-4fd1-bc74-3c91a407c572",
   "metadata": {},
   "outputs": [],
   "source": [
    "l2[2].remove(3)"
   ]
  },
  {
   "cell_type": "code",
   "execution_count": 8,
   "id": "23119f9b-d48f-4c89-a13f-addc04bfac8d",
   "metadata": {},
   "outputs": [
    {
     "data": {
      "text/plain": [
       "[3, 'wasil', [2, 4], 4, 5]"
      ]
     },
     "execution_count": 8,
     "metadata": {},
     "output_type": "execute_result"
    }
   ],
   "source": [
    "l2"
   ]
  },
  {
   "cell_type": "code",
   "execution_count": 9,
   "id": "163f7626-ffd2-4ca0-a213-34d32e415bdc",
   "metadata": {},
   "outputs": [
    {
     "data": {
      "text/plain": [
       "[5, 4, [2, 4], 'wasil', 3]"
      ]
     },
     "execution_count": 9,
     "metadata": {},
     "output_type": "execute_result"
    }
   ],
   "source": [
    "l2[::-1]"
   ]
  },
  {
   "cell_type": "code",
   "execution_count": 10,
   "id": "e1abd667-c2c7-4305-ae54-1f0bd56441e7",
   "metadata": {},
   "outputs": [],
   "source": [
    "l2.reverse()"
   ]
  },
  {
   "cell_type": "code",
   "execution_count": 11,
   "id": "23f4513c-2341-487c-ad63-d478d087bfdf",
   "metadata": {},
   "outputs": [
    {
     "data": {
      "text/plain": [
       "[5, 4, [2, 4], 'wasil', 3]"
      ]
     },
     "execution_count": 11,
     "metadata": {},
     "output_type": "execute_result"
    }
   ],
   "source": [
    "l2"
   ]
  },
  {
   "cell_type": "code",
   "execution_count": 12,
   "id": "10d8481e-b2bc-488b-add0-de6502f42a28",
   "metadata": {},
   "outputs": [
    {
     "ename": "TypeError",
     "evalue": "'<' not supported between instances of 'list' and 'int'",
     "output_type": "error",
     "traceback": [
      "\u001b[1;31m---------------------------------------------------------------------------\u001b[0m",
      "\u001b[1;31mTypeError\u001b[0m                                 Traceback (most recent call last)",
      "Cell \u001b[1;32mIn[12], line 1\u001b[0m\n\u001b[1;32m----> 1\u001b[0m l2\u001b[38;5;241m.\u001b[39msort()\n",
      "\u001b[1;31mTypeError\u001b[0m: '<' not supported between instances of 'list' and 'int'"
     ]
    }
   ],
   "source": [
    "l2.sort()"
   ]
  },
  {
   "cell_type": "code",
   "execution_count": 13,
   "id": "f24c4f4d-1a7f-424c-99f9-8a5add50a372",
   "metadata": {},
   "outputs": [],
   "source": [
    "l2 = [3,4,5,4,6,9,8]"
   ]
  },
  {
   "cell_type": "code",
   "execution_count": 14,
   "id": "733d2ad9-6bec-4f3c-92cf-954a858e1aad",
   "metadata": {},
   "outputs": [],
   "source": [
    "l2.sort()"
   ]
  },
  {
   "cell_type": "code",
   "execution_count": 15,
   "id": "2805ac47-0e0c-4463-88ef-db5bd86bd556",
   "metadata": {},
   "outputs": [
    {
     "data": {
      "text/plain": [
       "[3, 4, 4, 5, 6, 8, 9]"
      ]
     },
     "execution_count": 15,
     "metadata": {},
     "output_type": "execute_result"
    }
   ],
   "source": [
    "l2"
   ]
  },
  {
   "cell_type": "code",
   "execution_count": 8,
   "id": "f1b0a6d1-131f-42d7-bebd-e65c17f74a1a",
   "metadata": {},
   "outputs": [],
   "source": [
    "l3 = [\"wasil\",\"kumar\",\"sudh\"]"
   ]
  },
  {
   "cell_type": "code",
   "execution_count": 19,
   "id": "67aead38-0460-4eec-ad7b-8cab744b5828",
   "metadata": {},
   "outputs": [],
   "source": [
    "l3.sort(reverse=True)"
   ]
  },
  {
   "cell_type": "code",
   "execution_count": 20,
   "id": "25d1a7ad-c964-429e-b90f-7deec95c9071",
   "metadata": {},
   "outputs": [
    {
     "data": {
      "text/plain": [
       "['wasil', 'sudh', 'kumar']"
      ]
     },
     "execution_count": 20,
     "metadata": {},
     "output_type": "execute_result"
    }
   ],
   "source": [
    "l3"
   ]
  },
  {
   "cell_type": "code",
   "execution_count": 22,
   "id": "ea2db649-9ee0-4501-9078-6d5d5fbe634b",
   "metadata": {},
   "outputs": [
    {
     "data": {
      "text/plain": [
       "0"
      ]
     },
     "execution_count": 22,
     "metadata": {},
     "output_type": "execute_result"
    }
   ],
   "source": [
    "l3.index(\"wasil\")"
   ]
  },
  {
   "cell_type": "code",
   "execution_count": 23,
   "id": "c79f9052-c5d7-461c-a74d-f3b8d621d45e",
   "metadata": {},
   "outputs": [
    {
     "data": {
      "text/plain": [
       "1"
      ]
     },
     "execution_count": 23,
     "metadata": {},
     "output_type": "execute_result"
    }
   ],
   "source": [
    "l3.count(\"wasil\")"
   ]
  },
  {
   "cell_type": "code",
   "execution_count": 24,
   "id": "0d60acda-ec8a-4b5b-b82e-84d7debe9a7f",
   "metadata": {},
   "outputs": [],
   "source": [
    "s = \"wasil\""
   ]
  },
  {
   "cell_type": "code",
   "execution_count": 25,
   "id": "188b22bd-cefb-496a-a332-e0bf38158f72",
   "metadata": {},
   "outputs": [],
   "source": [
    "l4 = [3,4,5,6]"
   ]
  },
  {
   "cell_type": "code",
   "execution_count": 27,
   "id": "3c2e7735-ef0d-4294-a161-e1904f0c4dc3",
   "metadata": {},
   "outputs": [
    {
     "ename": "TypeError",
     "evalue": "'str' object does not support item assignment",
     "output_type": "error",
     "traceback": [
      "\u001b[1;31m---------------------------------------------------------------------------\u001b[0m",
      "\u001b[1;31mTypeError\u001b[0m                                 Traceback (most recent call last)",
      "Cell \u001b[1;32mIn[27], line 1\u001b[0m\n\u001b[1;32m----> 1\u001b[0m s[\u001b[38;5;241m0\u001b[39m] \u001b[38;5;241m=\u001b[39m \u001b[38;5;124m'\u001b[39m\u001b[38;5;124ma\u001b[39m\u001b[38;5;124m'\u001b[39m\n",
      "\u001b[1;31mTypeError\u001b[0m: 'str' object does not support item assignment"
     ]
    }
   ],
   "source": [
    "s[0] = 'a'"
   ]
  },
  {
   "cell_type": "code",
   "execution_count": 28,
   "id": "a4cf29a5-0e8f-462e-85bf-f17cb8b882ef",
   "metadata": {},
   "outputs": [],
   "source": [
    "l4[0] = 30"
   ]
  },
  {
   "cell_type": "code",
   "execution_count": 29,
   "id": "19436541-7ff1-4bde-8304-d15a14d4b1bb",
   "metadata": {},
   "outputs": [
    {
     "data": {
      "text/plain": [
       "[30, 4, 5, 6]"
      ]
     },
     "execution_count": 29,
     "metadata": {},
     "output_type": "execute_result"
    }
   ],
   "source": [
    "l4"
   ]
  },
  {
   "cell_type": "code",
   "execution_count": 30,
   "id": "9161709f-4060-4ccc-a66a-6e3b77a825cb",
   "metadata": {},
   "outputs": [
    {
     "data": {
      "text/plain": [
       "'wasil'"
      ]
     },
     "execution_count": 30,
     "metadata": {},
     "output_type": "execute_result"
    }
   ],
   "source": [
    "s"
   ]
  },
  {
   "cell_type": "code",
   "execution_count": 31,
   "id": "138cb133-bd61-47b5-a086-677898bb1ee1",
   "metadata": {},
   "outputs": [
    {
     "data": {
      "text/plain": [
       "'aasil'"
      ]
     },
     "execution_count": 31,
     "metadata": {},
     "output_type": "execute_result"
    }
   ],
   "source": [
    "s.replace('w','a')"
   ]
  },
  {
   "cell_type": "markdown",
   "id": "d5c1e857-d29d-4980-9f2d-f021e5cd570e",
   "metadata": {},
   "source": [
    "TOPICS -> TUPLES"
   ]
  },
  {
   "cell_type": "code",
   "execution_count": 1,
   "id": "eba55ba2-c644-40ba-974a-9e5b0d14e63a",
   "metadata": {},
   "outputs": [],
   "source": [
    "t = (2,3,4,5,\"wasil\",34.54,False, 45+453j, [3,4,5]) #All data are store in tuples"
   ]
  },
  {
   "cell_type": "code",
   "execution_count": 2,
   "id": "4273e380-2c8f-4e30-99f3-099e4a28f813",
   "metadata": {},
   "outputs": [
    {
     "data": {
      "text/plain": [
       "(2, 3, 4, 5, 'wasil', 34.54, False, (45+453j), [3, 4, 5])"
      ]
     },
     "execution_count": 2,
     "metadata": {},
     "output_type": "execute_result"
    }
   ],
   "source": [
    "t"
   ]
  },
  {
   "cell_type": "code",
   "execution_count": 3,
   "id": "420d2ffe-89fa-42b5-a54a-a821a4705871",
   "metadata": {},
   "outputs": [
    {
     "data": {
      "text/plain": [
       "tuple"
      ]
     },
     "execution_count": 3,
     "metadata": {},
     "output_type": "execute_result"
    }
   ],
   "source": [
    "#Type of tuples\n",
    "type(t)"
   ]
  },
  {
   "cell_type": "code",
   "execution_count": 4,
   "id": "65e643f8-00a8-4455-ba34-e9541e64ef0b",
   "metadata": {},
   "outputs": [
    {
     "data": {
      "text/plain": [
       "9"
      ]
     },
     "execution_count": 4,
     "metadata": {},
     "output_type": "execute_result"
    }
   ],
   "source": [
    "len(t) # length"
   ]
  },
  {
   "cell_type": "code",
   "execution_count": 5,
   "id": "154bffe3-e456-48d4-9476-d3d84cb4b32d",
   "metadata": {},
   "outputs": [
    {
     "data": {
      "text/plain": [
       "2"
      ]
     },
     "execution_count": 5,
     "metadata": {},
     "output_type": "execute_result"
    }
   ],
   "source": [
    "t[0]"
   ]
  },
  {
   "cell_type": "code",
   "execution_count": 6,
   "id": "08277189-7268-432c-8003-937901a4d602",
   "metadata": {},
   "outputs": [
    {
     "data": {
      "text/plain": [
       "[3, 4, 5]"
      ]
     },
     "execution_count": 6,
     "metadata": {},
     "output_type": "execute_result"
    }
   ],
   "source": [
    "t[-1]"
   ]
  },
  {
   "cell_type": "code",
   "execution_count": 7,
   "id": "a82f4d38-0552-43f2-968d-e6e144450bc6",
   "metadata": {},
   "outputs": [
    {
     "data": {
      "text/plain": [
       "([3, 4, 5], (45+453j), False, 34.54, 'wasil', 5, 4, 3, 2)"
      ]
     },
     "execution_count": 7,
     "metadata": {},
     "output_type": "execute_result"
    }
   ],
   "source": [
    "t[::-1]"
   ]
  },
  {
   "cell_type": "code",
   "execution_count": 9,
   "id": "2a82816f-b9cc-4a37-96b5-93cc489958d9",
   "metadata": {},
   "outputs": [
    {
     "data": {
      "text/plain": [
       "['wasil', 'kumar', 'sudh']"
      ]
     },
     "execution_count": 9,
     "metadata": {},
     "output_type": "execute_result"
    }
   ],
   "source": [
    "l3"
   ]
  },
  {
   "cell_type": "code",
   "execution_count": 12,
   "id": "d65ad379-5e84-4a4b-9b3a-9cf87150d0a1",
   "metadata": {},
   "outputs": [],
   "source": [
    "l3[0] = 2345"
   ]
  },
  {
   "cell_type": "code",
   "execution_count": 13,
   "id": "b945c70e-6a11-4aeb-a71d-a40fc2f7e58a",
   "metadata": {},
   "outputs": [
    {
     "data": {
      "text/plain": [
       "[2345, 'kumar', 'sudh']"
      ]
     },
     "execution_count": 13,
     "metadata": {},
     "output_type": "execute_result"
    }
   ],
   "source": [
    "l3 # mutable and change data in list"
   ]
  },
  {
   "cell_type": "code",
   "execution_count": 14,
   "id": "3d9affec-cc3b-494e-94af-5fac29547853",
   "metadata": {},
   "outputs": [
    {
     "ename": "TypeError",
     "evalue": "'tuple' object does not support item assignment",
     "output_type": "error",
     "traceback": [
      "\u001b[1;31m---------------------------------------------------------------------------\u001b[0m",
      "\u001b[1;31mTypeError\u001b[0m                                 Traceback (most recent call last)",
      "Cell \u001b[1;32mIn[14], line 1\u001b[0m\n\u001b[1;32m----> 1\u001b[0m t[\u001b[38;5;241m0\u001b[39m] \u001b[38;5;241m=\u001b[39m \u001b[38;5;124m\"\u001b[39m\u001b[38;5;124mwasil\u001b[39m\u001b[38;5;124m\"\u001b[39m\n",
      "\u001b[1;31mTypeError\u001b[0m: 'tuple' object does not support item assignment"
     ]
    }
   ],
   "source": [
    "t[0] = \"wasil\" # immutable not change data in tuple"
   ]
  },
  {
   "cell_type": "code",
   "execution_count": 15,
   "id": "c631b380-dde3-429e-8c5b-d6d1f084ed43",
   "metadata": {},
   "outputs": [
    {
     "data": {
      "text/plain": [
       "(2, 3, 4, 5, 'wasil', 34.54, False, (45+453j), [3, 4, 5])"
      ]
     },
     "execution_count": 15,
     "metadata": {},
     "output_type": "execute_result"
    }
   ],
   "source": [
    "t"
   ]
  },
  {
   "cell_type": "code",
   "execution_count": 18,
   "id": "5d9e65c9-11a1-4ea5-9f32-748702b86148",
   "metadata": {},
   "outputs": [
    {
     "data": {
      "text/plain": [
       "0"
      ]
     },
     "execution_count": 18,
     "metadata": {},
     "output_type": "execute_result"
    }
   ],
   "source": [
    "t.count(50)"
   ]
  },
  {
   "cell_type": "code",
   "execution_count": 19,
   "id": "23cd09b0-6d69-4b90-a3c8-f8994858a7dd",
   "metadata": {},
   "outputs": [
    {
     "data": {
      "text/plain": [
       "6"
      ]
     },
     "execution_count": 19,
     "metadata": {},
     "output_type": "execute_result"
    }
   ],
   "source": [
    "t.index(False)"
   ]
  },
  {
   "cell_type": "markdown",
   "id": "6ae62b62-326a-48a0-8221-3bcbf9ec1c8b",
   "metadata": {},
   "source": [
    "TOPICS -> SETS"
   ]
  },
  {
   "cell_type": "code",
   "execution_count": 23,
   "id": "78c3e6ab-263d-4a03-bba3-411a604be58a",
   "metadata": {},
   "outputs": [],
   "source": [
    "# set not use index and use hashing meaning unique elements\n",
    "s1 = {} # empty show dictionary"
   ]
  },
  {
   "cell_type": "code",
   "execution_count": 24,
   "id": "75916a3f-c4ce-4462-a101-da3d9b64b06f",
   "metadata": {},
   "outputs": [
    {
     "data": {
      "text/plain": [
       "dict"
      ]
     },
     "execution_count": 24,
     "metadata": {},
     "output_type": "execute_result"
    }
   ],
   "source": [
    "type(s1)"
   ]
  },
  {
   "cell_type": "code",
   "execution_count": 25,
   "id": "40368852-c5fd-4161-9e97-a99039c59824",
   "metadata": {},
   "outputs": [],
   "source": [
    "s2 = {2,3,45,6} # sets"
   ]
  },
  {
   "cell_type": "code",
   "execution_count": 26,
   "id": "97606737-c0c7-4aee-8e2a-fea3995192c2",
   "metadata": {},
   "outputs": [
    {
     "data": {
      "text/plain": [
       "set"
      ]
     },
     "execution_count": 26,
     "metadata": {},
     "output_type": "execute_result"
    }
   ],
   "source": [
    "type(s2)"
   ]
  },
  {
   "cell_type": "code",
   "execution_count": 27,
   "id": "c8d921e7-b7cd-4eb0-af13-5cffd96607ed",
   "metadata": {},
   "outputs": [],
   "source": [
    "s3 = {23,343,454, \"wasil\", 34+5j, 43.23, (3,4,5)}  # set is immutable "
   ]
  },
  {
   "cell_type": "code",
   "execution_count": 28,
   "id": "da210103-0c64-4c8e-ae6a-427514b2b0f8",
   "metadata": {},
   "outputs": [
    {
     "data": {
      "text/plain": [
       "{(3, 4, 5), (34+5j), 23, 343, 43.23, 454, 'wasil'}"
      ]
     },
     "execution_count": 28,
     "metadata": {},
     "output_type": "execute_result"
    }
   ],
   "source": [
    "s3"
   ]
  },
  {
   "cell_type": "code",
   "execution_count": 33,
   "id": "1ea233ac-8c40-459e-8f0d-b906d2df9b96",
   "metadata": {},
   "outputs": [],
   "source": [
    "s4 = {2,3,4,5,6,2,2,3,4,5,2,3,1,2,3,4,5,6,1,2,2,3, 'Wasil','wasil'}"
   ]
  },
  {
   "cell_type": "code",
   "execution_count": 34,
   "id": "2cd9f148-25c6-4c2b-998c-f46e08e1bef0",
   "metadata": {},
   "outputs": [
    {
     "data": {
      "text/plain": [
       "{1, 2, 3, 4, 5, 6, 'Wasil', 'wasil'}"
      ]
     },
     "execution_count": 34,
     "metadata": {},
     "output_type": "execute_result"
    }
   ],
   "source": [
    "s4  # unique elements"
   ]
  },
  {
   "cell_type": "code",
   "execution_count": 35,
   "id": "ffbf611c-3195-4fbf-a369-432447fa329c",
   "metadata": {},
   "outputs": [],
   "source": [
    "l6 = {2,3,4,5,6,2,2,3,4,5,2,3,1,2,3,4,5,6,1,2,2,3, 'Wasil','wasil'}"
   ]
  },
  {
   "cell_type": "code",
   "execution_count": 36,
   "id": "b0700eae-ad13-4c39-b852-b7e740102fbb",
   "metadata": {},
   "outputs": [
    {
     "data": {
      "text/plain": [
       "{1, 2, 3, 4, 5, 6, 'Wasil', 'wasil'}"
      ]
     },
     "execution_count": 36,
     "metadata": {},
     "output_type": "execute_result"
    }
   ],
   "source": [
    "set(l6)"
   ]
  },
  {
   "cell_type": "code",
   "execution_count": 39,
   "id": "330b93cc-9c9f-4924-823d-1a7c214f48ab",
   "metadata": {},
   "outputs": [],
   "source": [
    "l6 = list(set(l6))"
   ]
  },
  {
   "cell_type": "code",
   "execution_count": 40,
   "id": "5092e24d-c9a9-420b-9a99-d4d1d9fa697d",
   "metadata": {},
   "outputs": [
    {
     "data": {
      "text/plain": [
       "[1, 2, 3, 4, 5, 6, 'Wasil', 'wasil']"
      ]
     },
     "execution_count": 40,
     "metadata": {},
     "output_type": "execute_result"
    }
   ],
   "source": [
    "l6"
   ]
  },
  {
   "cell_type": "code",
   "execution_count": 41,
   "id": "c1900c4b-e9e2-4e0b-ae5b-89b02cdb8a9d",
   "metadata": {},
   "outputs": [],
   "source": [
    "s5 = {343,43,4,3,234,545,3,53435,546,\"abc\", 786,675,23}"
   ]
  },
  {
   "cell_type": "code",
   "execution_count": 42,
   "id": "579af4e0-3d3e-4409-b75b-9969345c32fd",
   "metadata": {},
   "outputs": [
    {
     "data": {
      "text/plain": [
       "{23, 234, 3, 343, 4, 43, 53435, 545, 546, 675, 786, 'abc'}"
      ]
     },
     "execution_count": 42,
     "metadata": {},
     "output_type": "execute_result"
    }
   ],
   "source": [
    "s5"
   ]
  },
  {
   "cell_type": "code",
   "execution_count": 43,
   "id": "04c7802c-14d6-4b0a-a3a0-ef258513c5eb",
   "metadata": {},
   "outputs": [
    {
     "ename": "TypeError",
     "evalue": "'set' object is not subscriptable",
     "output_type": "error",
     "traceback": [
      "\u001b[1;31m---------------------------------------------------------------------------\u001b[0m",
      "\u001b[1;31mTypeError\u001b[0m                                 Traceback (most recent call last)",
      "Cell \u001b[1;32mIn[43], line 1\u001b[0m\n\u001b[1;32m----> 1\u001b[0m s5[\u001b[38;5;241m0\u001b[39m]\n",
      "\u001b[1;31mTypeError\u001b[0m: 'set' object is not subscriptable"
     ]
    }
   ],
   "source": [
    "s5[0]"
   ]
  },
  {
   "cell_type": "code",
   "execution_count": 44,
   "id": "34500f0b-84d9-4a4f-937c-9f3f6b638eda",
   "metadata": {},
   "outputs": [
    {
     "data": {
      "text/plain": [
       "{23, 234, 3, 343, 4, 43, 53435, 545, 546, 675, 786, 'abc'}"
      ]
     },
     "execution_count": 44,
     "metadata": {},
     "output_type": "execute_result"
    }
   ],
   "source": [
    "s5"
   ]
  },
  {
   "cell_type": "code",
   "execution_count": 47,
   "id": "c7320736-5c65-44cf-a448-428681a67a06",
   "metadata": {},
   "outputs": [],
   "source": [
    "s5.add(33)"
   ]
  },
  {
   "cell_type": "code",
   "execution_count": 48,
   "id": "44074e97-83ea-4ab9-afd6-660c575fd29c",
   "metadata": {},
   "outputs": [
    {
     "data": {
      "text/plain": [
       "{23, 234, 3, 33, 343, 4, 43, 53435, 545, 546, 675, 786, 'abc'}"
      ]
     },
     "execution_count": 48,
     "metadata": {},
     "output_type": "execute_result"
    }
   ],
   "source": [
    "s5"
   ]
  },
  {
   "cell_type": "code",
   "execution_count": 49,
   "id": "ed71aa78-410a-4868-8636-83ed9b3ab44b",
   "metadata": {},
   "outputs": [],
   "source": [
    "s5.remove(3)"
   ]
  },
  {
   "cell_type": "code",
   "execution_count": 50,
   "id": "412d534a-2ffe-4e8e-8a61-6a0ae6f9e3b3",
   "metadata": {},
   "outputs": [
    {
     "data": {
      "text/plain": [
       "{23, 234, 33, 343, 4, 43, 53435, 545, 546, 675, 786, 'abc'}"
      ]
     },
     "execution_count": 50,
     "metadata": {},
     "output_type": "execute_result"
    }
   ],
   "source": [
    "s5"
   ]
  },
  {
   "cell_type": "code",
   "execution_count": null,
   "id": "0cdefa56-89d0-4ea1-ae5c-c1844a429ea1",
   "metadata": {},
   "outputs": [],
   "source": []
  }
 ],
 "metadata": {
  "kernelspec": {
   "display_name": "Python 3 (ipykernel)",
   "language": "python",
   "name": "python3"
  },
  "language_info": {
   "codemirror_mode": {
    "name": "ipython",
    "version": 3
   },
   "file_extension": ".py",
   "mimetype": "text/x-python",
   "name": "python",
   "nbconvert_exporter": "python",
   "pygments_lexer": "ipython3",
   "version": "3.12.7"
  }
 },
 "nbformat": 4,
 "nbformat_minor": 5
}
