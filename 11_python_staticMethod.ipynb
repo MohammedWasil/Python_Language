{
 "cells": [
  {
   "cell_type": "markdown",
   "id": "854281fd-2cd7-4546-a535-daaf9bc0c3cf",
   "metadata": {},
   "source": [
    "Static Method"
   ]
  },
  {
   "cell_type": "code",
   "execution_count": 1,
   "id": "1500ef10-2f3c-48a8-ac76-a0600cfd8af8",
   "metadata": {},
   "outputs": [],
   "source": [
    "class pwskills:\n",
    "\n",
    "    def student_details(self, name, mail_id, number):\n",
    "        print(name, mail_id, number)"
   ]
  },
  {
   "cell_type": "code",
   "execution_count": 2,
   "id": "9ac6b236-de4a-4bfd-8e93-383d812ed5b9",
   "metadata": {},
   "outputs": [],
   "source": [
    "pw = pwskills()"
   ]
  },
  {
   "cell_type": "code",
   "execution_count": 3,
   "id": "27d3f272-8d6c-4012-a7f8-73ac3542e3ce",
   "metadata": {},
   "outputs": [
    {
     "name": "stdout",
     "output_type": "stream",
     "text": [
      "wasil waisl@gmail.com 3454354543\n"
     ]
    }
   ],
   "source": [
    "pw.student_details(\"wasil\", \"waisl@gmail.com\", 3454354543)"
   ]
  },
  {
   "cell_type": "code",
   "execution_count": 13,
   "id": "979e4d69-17d6-4827-84df-e076f3fb3820",
   "metadata": {},
   "outputs": [],
   "source": [
    "class pwskills1:\n",
    "\n",
    "    def student_details(self, name, mail_id, number):\n",
    "        print(name, mail_id, number)\n",
    "\n",
    "    @staticmethod\n",
    "    def mentor_class(list_mentor):\n",
    "        print(list_mentor)\n",
    "\n",
    "    def mentor(self, mentor_list):\n",
    "        print(mentor_list)"
   ]
  },
  {
   "cell_type": "code",
   "execution_count": 9,
   "id": "522758da-1af6-4268-9810-ca0a140fc6f6",
   "metadata": {},
   "outputs": [
    {
     "name": "stdout",
     "output_type": "stream",
     "text": [
      "['wasil', 'sudh']\n"
     ]
    }
   ],
   "source": [
    "pwskills1.mentor_class([\"wasil\", \"sudh\"])"
   ]
  },
  {
   "cell_type": "code",
   "execution_count": 10,
   "id": "2510e6a2-75d0-4c0f-beef-b73c4ed604cc",
   "metadata": {},
   "outputs": [],
   "source": [
    "stud1 = pwskills1()"
   ]
  },
  {
   "cell_type": "code",
   "execution_count": 11,
   "id": "57df4989-332d-42b1-a7bf-4803ae4e7570",
   "metadata": {},
   "outputs": [],
   "source": [
    "stud2 = pwskills1()"
   ]
  },
  {
   "cell_type": "code",
   "execution_count": 12,
   "id": "ad68b319-8046-474c-9f39-22a55c8357e6",
   "metadata": {},
   "outputs": [],
   "source": [
    "stud3 = pwskills1()"
   ]
  },
  {
   "cell_type": "code",
   "execution_count": 25,
   "id": "c3a1a86e-6f33-43e5-9080-fb8c033b5571",
   "metadata": {},
   "outputs": [],
   "source": [
    "class pwskills2:\n",
    "\n",
    "    def student_details(self, name, mail_id, number):\n",
    "        print(name, mail_id, number)\n",
    "        \n",
    "    @staticmethod\n",
    "    def mentor_mail_id(mail_id_mentor):\n",
    "        print(mail_id_mentor)\n",
    "        \n",
    "    @staticmethod\n",
    "    def mentor_class(list_mentor):\n",
    "        pwskills2.mentor_mail_id([\"wasil@gmail.com\", \"sudh@gmail.com\"])\n",
    "        print(list_mentor)\n",
    "\n",
    "    @classmethod\n",
    "    def class_name(cls):\n",
    "        cls.mentor_class([\"wasil\",\"sudh\"])\n",
    "\n",
    "    def mentor(self, mentor_list):\n",
    "        print(mentor_list)\n",
    "        self.mentor_class([\"wasil\", \"sudh\"])"
   ]
  },
  {
   "cell_type": "code",
   "execution_count": 26,
   "id": "c1f6dc0d-1e3e-4113-86b6-43f5485de698",
   "metadata": {},
   "outputs": [
    {
     "name": "stdout",
     "output_type": "stream",
     "text": [
      "['wasil@gmail.com', 'sudh@gmail.com']\n",
      "['wasil', 'sudh']\n"
     ]
    }
   ],
   "source": [
    "pwskills2.class_name()"
   ]
  },
  {
   "cell_type": "code",
   "execution_count": 27,
   "id": "6792d36e-6570-4254-b595-9f02dfa3ae3c",
   "metadata": {},
   "outputs": [
    {
     "name": "stdout",
     "output_type": "stream",
     "text": [
      "['wasil@gmail.com', 'sudh@gmail.com']\n",
      "['wasil', 'sudh']\n"
     ]
    }
   ],
   "source": [
    "pwskills2.mentor_class([\"wasil\", \"sudh\"])"
   ]
  },
  {
   "cell_type": "code",
   "execution_count": 28,
   "id": "777b9dd0-3ad8-4cda-8276-8196e126413c",
   "metadata": {},
   "outputs": [],
   "source": [
    "pw = pwskills2()"
   ]
  },
  {
   "cell_type": "code",
   "execution_count": 29,
   "id": "fbbdc282-ffbc-4a6a-9994-71e49cce8758",
   "metadata": {},
   "outputs": [
    {
     "name": "stdout",
     "output_type": "stream",
     "text": [
      "['wasil', 'sudh']\n",
      "['wasil@gmail.com', 'sudh@gmail.com']\n",
      "['wasil', 'sudh']\n"
     ]
    }
   ],
   "source": [
    "pw.mentor([\"wasil\", \"sudh\"])"
   ]
  },
  {
   "cell_type": "markdown",
   "id": "aa271dc3-035e-4c1b-90cf-d4fb32b5a27d",
   "metadata": {},
   "source": [
    "dunder"
   ]
  },
  {
   "cell_type": "code",
   "execution_count": 30,
   "id": "ad123760-b8e3-4a21-96a3-dfb4764b0123",
   "metadata": {},
   "outputs": [
    {
     "data": {
      "text/plain": [
       "['__abs__',\n",
       " '__add__',\n",
       " '__and__',\n",
       " '__bool__',\n",
       " '__ceil__',\n",
       " '__class__',\n",
       " '__delattr__',\n",
       " '__dir__',\n",
       " '__divmod__',\n",
       " '__doc__',\n",
       " '__eq__',\n",
       " '__float__',\n",
       " '__floor__',\n",
       " '__floordiv__',\n",
       " '__format__',\n",
       " '__ge__',\n",
       " '__getattribute__',\n",
       " '__getnewargs__',\n",
       " '__getstate__',\n",
       " '__gt__',\n",
       " '__hash__',\n",
       " '__index__',\n",
       " '__init__',\n",
       " '__init_subclass__',\n",
       " '__int__',\n",
       " '__invert__',\n",
       " '__le__',\n",
       " '__lshift__',\n",
       " '__lt__',\n",
       " '__mod__',\n",
       " '__mul__',\n",
       " '__ne__',\n",
       " '__neg__',\n",
       " '__new__',\n",
       " '__or__',\n",
       " '__pos__',\n",
       " '__pow__',\n",
       " '__radd__',\n",
       " '__rand__',\n",
       " '__rdivmod__',\n",
       " '__reduce__',\n",
       " '__reduce_ex__',\n",
       " '__repr__',\n",
       " '__rfloordiv__',\n",
       " '__rlshift__',\n",
       " '__rmod__',\n",
       " '__rmul__',\n",
       " '__ror__',\n",
       " '__round__',\n",
       " '__rpow__',\n",
       " '__rrshift__',\n",
       " '__rshift__',\n",
       " '__rsub__',\n",
       " '__rtruediv__',\n",
       " '__rxor__',\n",
       " '__setattr__',\n",
       " '__sizeof__',\n",
       " '__str__',\n",
       " '__sub__',\n",
       " '__subclasshook__',\n",
       " '__truediv__',\n",
       " '__trunc__',\n",
       " '__xor__',\n",
       " 'as_integer_ratio',\n",
       " 'bit_count',\n",
       " 'bit_length',\n",
       " 'conjugate',\n",
       " 'denominator',\n",
       " 'from_bytes',\n",
       " 'imag',\n",
       " 'is_integer',\n",
       " 'numerator',\n",
       " 'real',\n",
       " 'to_bytes']"
      ]
     },
     "execution_count": 30,
     "metadata": {},
     "output_type": "execute_result"
    }
   ],
   "source": [
    "dir(int)"
   ]
  },
  {
   "cell_type": "code",
   "execution_count": 32,
   "id": "0c29fb9d-785e-4618-aa87-55af8ce842f4",
   "metadata": {},
   "outputs": [
    {
     "data": {
      "text/plain": [
       "['__add__',\n",
       " '__class__',\n",
       " '__contains__',\n",
       " '__delattr__',\n",
       " '__dir__',\n",
       " '__doc__',\n",
       " '__eq__',\n",
       " '__format__',\n",
       " '__ge__',\n",
       " '__getattribute__',\n",
       " '__getitem__',\n",
       " '__getnewargs__',\n",
       " '__getstate__',\n",
       " '__gt__',\n",
       " '__hash__',\n",
       " '__init__',\n",
       " '__init_subclass__',\n",
       " '__iter__',\n",
       " '__le__',\n",
       " '__len__',\n",
       " '__lt__',\n",
       " '__mod__',\n",
       " '__mul__',\n",
       " '__ne__',\n",
       " '__new__',\n",
       " '__reduce__',\n",
       " '__reduce_ex__',\n",
       " '__repr__',\n",
       " '__rmod__',\n",
       " '__rmul__',\n",
       " '__setattr__',\n",
       " '__sizeof__',\n",
       " '__str__',\n",
       " '__subclasshook__',\n",
       " 'capitalize',\n",
       " 'casefold',\n",
       " 'center',\n",
       " 'count',\n",
       " 'encode',\n",
       " 'endswith',\n",
       " 'expandtabs',\n",
       " 'find',\n",
       " 'format',\n",
       " 'format_map',\n",
       " 'index',\n",
       " 'isalnum',\n",
       " 'isalpha',\n",
       " 'isascii',\n",
       " 'isdecimal',\n",
       " 'isdigit',\n",
       " 'isidentifier',\n",
       " 'islower',\n",
       " 'isnumeric',\n",
       " 'isprintable',\n",
       " 'isspace',\n",
       " 'istitle',\n",
       " 'isupper',\n",
       " 'join',\n",
       " 'ljust',\n",
       " 'lower',\n",
       " 'lstrip',\n",
       " 'maketrans',\n",
       " 'partition',\n",
       " 'removeprefix',\n",
       " 'removesuffix',\n",
       " 'replace',\n",
       " 'rfind',\n",
       " 'rindex',\n",
       " 'rjust',\n",
       " 'rpartition',\n",
       " 'rsplit',\n",
       " 'rstrip',\n",
       " 'split',\n",
       " 'splitlines',\n",
       " 'startswith',\n",
       " 'strip',\n",
       " 'swapcase',\n",
       " 'title',\n",
       " 'translate',\n",
       " 'upper',\n",
       " 'zfill']"
      ]
     },
     "execution_count": 32,
     "metadata": {},
     "output_type": "execute_result"
    }
   ],
   "source": [
    "dir(str) #magic function"
   ]
  },
  {
   "cell_type": "code",
   "execution_count": 33,
   "id": "842f4b69-c49c-4360-b33a-fed8ac9e59be",
   "metadata": {},
   "outputs": [],
   "source": [
    "a = 100"
   ]
  },
  {
   "cell_type": "code",
   "execution_count": 34,
   "id": "3654b98a-b11e-49d1-a689-92679e053660",
   "metadata": {},
   "outputs": [
    {
     "data": {
      "text/plain": [
       "104"
      ]
     },
     "execution_count": 34,
     "metadata": {},
     "output_type": "execute_result"
    }
   ],
   "source": [
    "a+4"
   ]
  },
  {
   "cell_type": "code",
   "execution_count": 35,
   "id": "9552ad56-3676-43c8-8e4b-2d4fd64f6ee3",
   "metadata": {},
   "outputs": [
    {
     "data": {
      "text/plain": [
       "105"
      ]
     },
     "execution_count": 35,
     "metadata": {},
     "output_type": "execute_result"
    }
   ],
   "source": [
    "a.__add__(5)"
   ]
  },
  {
   "cell_type": "code",
   "execution_count": 41,
   "id": "47e1dffb-639e-436c-af12-f143b82ea457",
   "metadata": {},
   "outputs": [],
   "source": [
    "class pwskills:\n",
    "\n",
    "    def __new__(cls):\n",
    "        print(\"this is my new\")\n",
    "        \n",
    "    def __init__(self):\n",
    "        print(\"this is my init\")\n",
    "        self.mobile_number = 9324324324"
   ]
  },
  {
   "cell_type": "code",
   "execution_count": 42,
   "id": "34eacc50-7bdc-4710-9340-08e98c10ed3d",
   "metadata": {},
   "outputs": [
    {
     "name": "stdout",
     "output_type": "stream",
     "text": [
      "this is my new\n"
     ]
    }
   ],
   "source": [
    "pw = pwskills()"
   ]
  },
  {
   "cell_type": "code",
   "execution_count": 38,
   "id": "bf2bc38e-a1ef-42f4-8332-7bfa3a3a3e5e",
   "metadata": {},
   "outputs": [
    {
     "data": {
      "text/plain": [
       "9324324324"
      ]
     },
     "execution_count": 38,
     "metadata": {},
     "output_type": "execute_result"
    }
   ],
   "source": [
    "pw.mobile_number"
   ]
  },
  {
   "cell_type": "code",
   "execution_count": 46,
   "id": "0aa0c983-644d-4476-977a-f383fb657606",
   "metadata": {},
   "outputs": [],
   "source": [
    "class pwskills1:\n",
    "        \n",
    "    def __init__(self):\n",
    "        \n",
    "        self.mobile_number = 9324324324\n",
    "\n",
    "    def __str__(self):\n",
    "        return \"this is my magic call of str\""
   ]
  },
  {
   "cell_type": "code",
   "execution_count": 47,
   "id": "3c2e0ac8-85c4-4944-abd5-5ac38ee2b849",
   "metadata": {},
   "outputs": [],
   "source": [
    "pw1 = pwskills1()"
   ]
  },
  {
   "cell_type": "code",
   "execution_count": 48,
   "id": "4d986f52-e853-4876-a42c-c36681f451f4",
   "metadata": {},
   "outputs": [
    {
     "data": {
      "text/plain": [
       "<__main__.pwskills1 at 0x1bf17582c00>"
      ]
     },
     "execution_count": 48,
     "metadata": {},
     "output_type": "execute_result"
    }
   ],
   "source": [
    "pw1"
   ]
  },
  {
   "cell_type": "code",
   "execution_count": 49,
   "id": "d495b142-244e-4a9d-9b42-e2a93981a90f",
   "metadata": {},
   "outputs": [
    {
     "name": "stdout",
     "output_type": "stream",
     "text": [
      "this is my magic call of str\n"
     ]
    }
   ],
   "source": [
    "print(pw1)"
   ]
  },
  {
   "cell_type": "code",
   "execution_count": null,
   "id": "506964c2-25f6-498e-8a69-4f8318fd7415",
   "metadata": {},
   "outputs": [],
   "source": [
    " "
   ]
  }
 ],
 "metadata": {
  "kernelspec": {
   "display_name": "Python 3 (ipykernel)",
   "language": "python",
   "name": "python3"
  },
  "language_info": {
   "codemirror_mode": {
    "name": "ipython",
    "version": 3
   },
   "file_extension": ".py",
   "mimetype": "text/x-python",
   "name": "python",
   "nbconvert_exporter": "python",
   "pygments_lexer": "ipython3",
   "version": "3.12.7"
  }
 },
 "nbformat": 4,
 "nbformat_minor": 5
}
